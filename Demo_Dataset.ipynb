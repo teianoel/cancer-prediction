{
 "cells": [
  {
   "cell_type": "markdown",
   "metadata": {},
   "source": [
    "## Import modules"
   ]
  },
  {
   "cell_type": "code",
   "execution_count": 1,
   "metadata": {
    "collapsed": true
   },
   "outputs": [],
   "source": [
    "import pdb\n",
    "import glob\n",
    "\n",
    "import numpy as np\n",
    "import pandas as pd\n",
    "import math\n",
    "import matplotlib.pyplot as plt\n",
    "from numpy.random import normal as norm\n",
    "\n",
    "from sklearn.ensemble import RandomForestClassifier\n",
    "from sklearn.svm import SVC\n",
    "from sklearn.linear_model import LogisticRegression\n",
    "from sklearn.linear_model import LogisticRegressionCV\n",
    "from sklearn.ensemble import VotingClassifier\n",
    "from sklearn.feature_selection import SelectFromModel\n",
    "from sklearn.neighbors import KNeighborsClassifier\n",
    "from sklearn.metrics import accuracy_score\n",
    "from sklearn.model_selection import GridSearchCV\n",
    "from sklearn.ensemble import AdaBoostClassifier\n",
    "\n",
    "import nhanes as nhanes\n",
    "\n",
    "%matplotlib notebook"
   ]
  },
  {
   "cell_type": "code",
   "execution_count": 2,
   "metadata": {
    "collapsed": true
   },
   "outputs": [],
   "source": [
    "np.random.seed(100)"
   ]
  },
  {
   "cell_type": "markdown",
   "metadata": {},
   "source": [
    "## Settings"
   ]
  },
  {
   "cell_type": "code",
   "execution_count": 3,
   "metadata": {
    "collapsed": true
   },
   "outputs": [],
   "source": [
    "DATA_PATH = '/Users/teianoel/Desktop/CS_205/Opportunistic-master/CDC/NHANES/'\n",
    "DATASET = 'arthritis'"
   ]
  },
  {
   "cell_type": "markdown",
   "metadata": {},
   "source": [
    "### Note: \n",
    "The code below loads each dataset: dataset_features, dataset_targets\n",
    "\n",
    "Here, all datasets are defined explicitly (see nhanes.py)."
   ]
  },
  {
   "cell_type": "code",
   "execution_count": 4,
   "metadata": {},
   "outputs": [
    {
     "name": "stdout",
     "output_type": "stream",
     "text": [
      "                                                                                \r",
      "\r",
      "Processing: ACQ.XPT                                                                                \r",
      "\r",
      "Processing: ACQ_B.XPT                                                                                \r",
      "\r",
      "Processing: ACQ_C.XPT                                                                                \r",
      "\r",
      "Processing: ACQ_D.XPT                                                                                \r",
      "\r",
      "Processing: ACQ_E.XPT                                                                                \r",
      "\r",
      "Processing: ACQ_F.XPT                                                                                \r",
      "\r",
      "Processing: ACQ_G.XPT                                                                                \r",
      "\r",
      "Processing: ACQ_H.XPT                                                                                \r",
      "\r",
      "Processing: ACQ_I.XPT                                                                                \r",
      "\r",
      "Processing: AGQ_D.XPT                                                                                \r",
      "\r",
      "Processing: ALQ.XPT                                                                                \r",
      "\r",
      "Processing: ALQ_B.XPT                                                                                \r",
      "\r",
      "Processing: ALQ_C.XPT                                                                                \r",
      "\r",
      "Processing: ALQ_D.XPT                                                                                \r",
      "\r",
      "Processing: ALQ_E.XPT"
     ]
    },
    {
     "name": "stderr",
     "output_type": "stream",
     "text": [
      "/anaconda3/lib/python3.6/site-packages/pandas/io/sas/sas_xport.py:204: RuntimeWarning: invalid value encountered in left_shift\n",
      "  ieee2 = (xport2 >> shift) | ((xport1 & 0x00000007) << (29 + (3 - shift)))\n"
     ]
    },
    {
     "name": "stdout",
     "output_type": "stream",
     "text": [
      "Processing: FASTQX_F.XPT                                                                                                                                                                                                                                                                                                                                                                                                                                                                                                                                                                                                                                                                                                                                                                                                                                                                                                                                                                                                                                                                                                                                                                                                                                                                                                                                                                                                                                                                                                                                                                                                                                                                                                                                                                                                                                                                                                                                                                                                                                                                                                                                                                                                                                                                                                                                                                                                                                                                                                                                                                                                                                                                                                                                                                                                                                                                                                                                                                                                                                                                                                                                                                                                                                                                                                                                                                                                                                                                                                                                                                                                                                                                                                                                                                                                                                                                                                                                                                                                                                                                                                                                                                                                                                                                                                                                                                                                                                                                                                                                                                                                                                                                                                                                                                                                                                                                                                                                                                                                                                                                                                                                                                                                                                                                                                                                                                                                                                                                                                                                                                                                                                                                                                                                                                                                                                                                                                                                                                                                                                                                                                                                                                                                                                                                                                                                                                                                                                                                                                                                                                                                                                                                                                                                                                                                                                                                                                                                                                                                                                                                                                                                                                                                                                                                                                                                                                                                                                                                                                                                                                                                                                                                                                                                                                                                                                                                                                                                                                                                                                                                                                                                                                                                                                                                                                                                                                                                                                                                                                                                                                              "
     ]
    },
    {
     "name": "stdout",
     "output_type": "stream",
     "text": [
      "Processing: WHQMEC_H.XPT                                                                                                                                                                                                                                                                                                                                                                                                                                                                                                                                                                                                                                                                                                                                                                                                                                                                                                                                                                                                                                                                                                                                                                                                                                                                                                                                                                                                                                                                                                                                                                                                                                                                                                                                                                                                                                                                                                                                                                                                                                                                                                                                                                                                                                                                                                                                                                                                                                                                                                                                                                                                                                                                                                                                                                                                                                                                                                                                                                                                                                                                                                                                                                                                                                                                                                                                                                                                                                                                                                                                                                                                                                                                                                                                                                                                                                                                                                                "
     ]
    }
   ],
   "source": [
    "ds = nhanes.Dataset(DATA_PATH)\n",
    "ds.load_arthritis()\n",
    "n_fe = ds.features.shape[1]\n",
    "n_classes = 2\n",
    "\n",
    "dataset_features = ds.features\n",
    "dataset_targets = ds.targets"
   ]
  },
  {
   "cell_type": "code",
   "execution_count": 5,
   "metadata": {
    "scrolled": true
   },
   "outputs": [
    {
     "data": {
      "text/plain": [
       "Index(['RIAGENDR#1.0', 'RIAGENDR#2.0', 'RIDAGEYR', 'RIDRETH3#1.0',\n",
       "       'RIDRETH3#2.0', 'RIDRETH3#3.0', 'RIDRETH3#4.0', 'RIDRETH3#6.0',\n",
       "       'RIDRETH3#7.0', 'DMDHHSIZ', 'INDHHIN2', 'INDFMPIR', 'BPXCHR', 'BPXPLS',\n",
       "       'BPXPULS#1.0', 'BPXPULS#2.0', 'BPXML1', 'BPXSY1', 'BPXDI1', 'BMXWT',\n",
       "       'BMXBMI', 'LBXBPB', 'LBDBCDSI', 'LBDTHGSI', 'LBXBSE', 'LBDBCRSI',\n",
       "       'LBDBMNSI', 'URXUCL#1.0', 'URXUCL#2.0', 'LBDHDD', 'LBXTC', 'ORXHPV#1.0',\n",
       "       'ORXHPV#2.0', 'LBXHBC#1.0', 'LBXHBC#2.0', 'LBXHBS#1.0', 'LBXHBS#2.0',\n",
       "       'LBXHE2#1.0', 'LBXHE2#2.0', 'LBXHE1#1.0', 'LBXHE1#2.0', 'LBXHIVC#1.0',\n",
       "       'LBXHIVC#2.0', 'URXUIO', 'LBXACR', 'URDFLOW1', 'HSD010#1.0',\n",
       "       'HSD010#2.0', 'HSD010#3.0', 'HSD010#4.0', 'HSD010#5.0', 'HSD010#9.0',\n",
       "       'SMQ020#1.0', 'SMQ020#2.0', 'SMD650', 'ALQ130', 'HIQ011#1.0',\n",
       "       'HIQ011#2.0', 'PAQ650#1.0', 'PAQ650#2.0', 'DED031#1.0', 'DED031#2.0',\n",
       "       'DED031#3.0', 'DED031#4.0', 'DED031#5.0', 'DED031#6.0', 'DBD910',\n",
       "       'DEQ038Q', 'DED120', 'RHQ010', 'MCQ080#1.0', 'MCQ080#2.0', 'BPQ020#1.0',\n",
       "       'BPQ020#2.0', 'BPQ080#1.0', 'BPQ080#2.0', 'RHQ305#1.0', 'RHQ305#2.0',\n",
       "       'RHQ570#1.0', 'RHQ570#2.0'],\n",
       "      dtype='object')"
      ]
     },
     "execution_count": 5,
     "metadata": {},
     "output_type": "execute_result"
    }
   ],
   "source": [
    "ds.feat_names"
   ]
  },
  {
   "cell_type": "code",
   "execution_count": 5,
   "metadata": {},
   "outputs": [
    {
     "ename": "SyntaxError",
     "evalue": "unexpected EOF while parsing (<ipython-input-5-8dd867443ba9>, line 1)",
     "output_type": "error",
     "traceback": [
      "\u001b[0;36m  File \u001b[0;32m\"<ipython-input-5-8dd867443ba9>\"\u001b[0;36m, line \u001b[0;32m1\u001b[0m\n\u001b[0;31m    plt.hist(dataset_features[1],bins=range(0,math.ceil(np.log2(81)))\u001b[0m\n\u001b[0m                                                                     ^\u001b[0m\n\u001b[0;31mSyntaxError\u001b[0m\u001b[0;31m:\u001b[0m unexpected EOF while parsing\n"
     ]
    }
   ],
   "source": [
    "# plt.hist(dataset_features[1],bins=range(0,math.ceil(np.log2(81)))"
   ]
  },
  {
   "cell_type": "markdown",
   "metadata": {},
   "source": [
    "## Distribution analysis of real-valued features"
   ]
  },
  {
   "cell_type": "code",
   "execution_count": 10,
   "metadata": {
    "collapsed": true
   },
   "outputs": [
    {
     "name": "stdout",
     "output_type": "stream",
     "text": [
      "[   0.            1.           21.            0.            0.            0.\n",
      "    0.            0.            0.            4.           74.48634075\n",
      "  119.75065035   66.24051771   61.45330032   25.38561423    3.58776508\n",
      "  187.52320258    7.60074383    0.            0.            0.            0.\n",
      "    0.            0.            0.          384.52227099   71.27768897\n",
      "    0.            1.            0.            0.            2.75544133\n",
      "    1.            0.            0.            0.            1.            0.\n",
      "    0.            0.            0.81108691    2.1521188   102.25031354\n",
      "   12.33986468    2.            1.87721746    1.78208092    1.51327434]\n"
     ]
    },
    {
     "data": {
      "application/javascript": [
       "/* Put everything inside the global mpl namespace */\n",
       "window.mpl = {};\n",
       "\n",
       "\n",
       "mpl.get_websocket_type = function() {\n",
       "    if (typeof(WebSocket) !== 'undefined') {\n",
       "        return WebSocket;\n",
       "    } else if (typeof(MozWebSocket) !== 'undefined') {\n",
       "        return MozWebSocket;\n",
       "    } else {\n",
       "        alert('Your browser does not have WebSocket support.' +\n",
       "              'Please try Chrome, Safari or Firefox ≥ 6. ' +\n",
       "              'Firefox 4 and 5 are also supported but you ' +\n",
       "              'have to enable WebSockets in about:config.');\n",
       "    };\n",
       "}\n",
       "\n",
       "mpl.figure = function(figure_id, websocket, ondownload, parent_element) {\n",
       "    this.id = figure_id;\n",
       "\n",
       "    this.ws = websocket;\n",
       "\n",
       "    this.supports_binary = (this.ws.binaryType != undefined);\n",
       "\n",
       "    if (!this.supports_binary) {\n",
       "        var warnings = document.getElementById(\"mpl-warnings\");\n",
       "        if (warnings) {\n",
       "            warnings.style.display = 'block';\n",
       "            warnings.textContent = (\n",
       "                \"This browser does not support binary websocket messages. \" +\n",
       "                    \"Performance may be slow.\");\n",
       "        }\n",
       "    }\n",
       "\n",
       "    this.imageObj = new Image();\n",
       "\n",
       "    this.context = undefined;\n",
       "    this.message = undefined;\n",
       "    this.canvas = undefined;\n",
       "    this.rubberband_canvas = undefined;\n",
       "    this.rubberband_context = undefined;\n",
       "    this.format_dropdown = undefined;\n",
       "\n",
       "    this.image_mode = 'full';\n",
       "\n",
       "    this.root = $('<div/>');\n",
       "    this._root_extra_style(this.root)\n",
       "    this.root.attr('style', 'display: inline-block');\n",
       "\n",
       "    $(parent_element).append(this.root);\n",
       "\n",
       "    this._init_header(this);\n",
       "    this._init_canvas(this);\n",
       "    this._init_toolbar(this);\n",
       "\n",
       "    var fig = this;\n",
       "\n",
       "    this.waiting = false;\n",
       "\n",
       "    this.ws.onopen =  function () {\n",
       "            fig.send_message(\"supports_binary\", {value: fig.supports_binary});\n",
       "            fig.send_message(\"send_image_mode\", {});\n",
       "            if (mpl.ratio != 1) {\n",
       "                fig.send_message(\"set_dpi_ratio\", {'dpi_ratio': mpl.ratio});\n",
       "            }\n",
       "            fig.send_message(\"refresh\", {});\n",
       "        }\n",
       "\n",
       "    this.imageObj.onload = function() {\n",
       "            if (fig.image_mode == 'full') {\n",
       "                // Full images could contain transparency (where diff images\n",
       "                // almost always do), so we need to clear the canvas so that\n",
       "                // there is no ghosting.\n",
       "                fig.context.clearRect(0, 0, fig.canvas.width, fig.canvas.height);\n",
       "            }\n",
       "            fig.context.drawImage(fig.imageObj, 0, 0);\n",
       "        };\n",
       "\n",
       "    this.imageObj.onunload = function() {\n",
       "        fig.ws.close();\n",
       "    }\n",
       "\n",
       "    this.ws.onmessage = this._make_on_message_function(this);\n",
       "\n",
       "    this.ondownload = ondownload;\n",
       "}\n",
       "\n",
       "mpl.figure.prototype._init_header = function() {\n",
       "    var titlebar = $(\n",
       "        '<div class=\"ui-dialog-titlebar ui-widget-header ui-corner-all ' +\n",
       "        'ui-helper-clearfix\"/>');\n",
       "    var titletext = $(\n",
       "        '<div class=\"ui-dialog-title\" style=\"width: 100%; ' +\n",
       "        'text-align: center; padding: 3px;\"/>');\n",
       "    titlebar.append(titletext)\n",
       "    this.root.append(titlebar);\n",
       "    this.header = titletext[0];\n",
       "}\n",
       "\n",
       "\n",
       "\n",
       "mpl.figure.prototype._canvas_extra_style = function(canvas_div) {\n",
       "\n",
       "}\n",
       "\n",
       "\n",
       "mpl.figure.prototype._root_extra_style = function(canvas_div) {\n",
       "\n",
       "}\n",
       "\n",
       "mpl.figure.prototype._init_canvas = function() {\n",
       "    var fig = this;\n",
       "\n",
       "    var canvas_div = $('<div/>');\n",
       "\n",
       "    canvas_div.attr('style', 'position: relative; clear: both; outline: 0');\n",
       "\n",
       "    function canvas_keyboard_event(event) {\n",
       "        return fig.key_event(event, event['data']);\n",
       "    }\n",
       "\n",
       "    canvas_div.keydown('key_press', canvas_keyboard_event);\n",
       "    canvas_div.keyup('key_release', canvas_keyboard_event);\n",
       "    this.canvas_div = canvas_div\n",
       "    this._canvas_extra_style(canvas_div)\n",
       "    this.root.append(canvas_div);\n",
       "\n",
       "    var canvas = $('<canvas/>');\n",
       "    canvas.addClass('mpl-canvas');\n",
       "    canvas.attr('style', \"left: 0; top: 0; z-index: 0; outline: 0\")\n",
       "\n",
       "    this.canvas = canvas[0];\n",
       "    this.context = canvas[0].getContext(\"2d\");\n",
       "\n",
       "    var backingStore = this.context.backingStorePixelRatio ||\n",
       "\tthis.context.webkitBackingStorePixelRatio ||\n",
       "\tthis.context.mozBackingStorePixelRatio ||\n",
       "\tthis.context.msBackingStorePixelRatio ||\n",
       "\tthis.context.oBackingStorePixelRatio ||\n",
       "\tthis.context.backingStorePixelRatio || 1;\n",
       "\n",
       "    mpl.ratio = (window.devicePixelRatio || 1) / backingStore;\n",
       "\n",
       "    var rubberband = $('<canvas/>');\n",
       "    rubberband.attr('style', \"position: absolute; left: 0; top: 0; z-index: 1;\")\n",
       "\n",
       "    var pass_mouse_events = true;\n",
       "\n",
       "    canvas_div.resizable({\n",
       "        start: function(event, ui) {\n",
       "            pass_mouse_events = false;\n",
       "        },\n",
       "        resize: function(event, ui) {\n",
       "            fig.request_resize(ui.size.width, ui.size.height);\n",
       "        },\n",
       "        stop: function(event, ui) {\n",
       "            pass_mouse_events = true;\n",
       "            fig.request_resize(ui.size.width, ui.size.height);\n",
       "        },\n",
       "    });\n",
       "\n",
       "    function mouse_event_fn(event) {\n",
       "        if (pass_mouse_events)\n",
       "            return fig.mouse_event(event, event['data']);\n",
       "    }\n",
       "\n",
       "    rubberband.mousedown('button_press', mouse_event_fn);\n",
       "    rubberband.mouseup('button_release', mouse_event_fn);\n",
       "    // Throttle sequential mouse events to 1 every 20ms.\n",
       "    rubberband.mousemove('motion_notify', mouse_event_fn);\n",
       "\n",
       "    rubberband.mouseenter('figure_enter', mouse_event_fn);\n",
       "    rubberband.mouseleave('figure_leave', mouse_event_fn);\n",
       "\n",
       "    canvas_div.on(\"wheel\", function (event) {\n",
       "        event = event.originalEvent;\n",
       "        event['data'] = 'scroll'\n",
       "        if (event.deltaY < 0) {\n",
       "            event.step = 1;\n",
       "        } else {\n",
       "            event.step = -1;\n",
       "        }\n",
       "        mouse_event_fn(event);\n",
       "    });\n",
       "\n",
       "    canvas_div.append(canvas);\n",
       "    canvas_div.append(rubberband);\n",
       "\n",
       "    this.rubberband = rubberband;\n",
       "    this.rubberband_canvas = rubberband[0];\n",
       "    this.rubberband_context = rubberband[0].getContext(\"2d\");\n",
       "    this.rubberband_context.strokeStyle = \"#000000\";\n",
       "\n",
       "    this._resize_canvas = function(width, height) {\n",
       "        // Keep the size of the canvas, canvas container, and rubber band\n",
       "        // canvas in synch.\n",
       "        canvas_div.css('width', width)\n",
       "        canvas_div.css('height', height)\n",
       "\n",
       "        canvas.attr('width', width * mpl.ratio);\n",
       "        canvas.attr('height', height * mpl.ratio);\n",
       "        canvas.attr('style', 'width: ' + width + 'px; height: ' + height + 'px;');\n",
       "\n",
       "        rubberband.attr('width', width);\n",
       "        rubberband.attr('height', height);\n",
       "    }\n",
       "\n",
       "    // Set the figure to an initial 600x600px, this will subsequently be updated\n",
       "    // upon first draw.\n",
       "    this._resize_canvas(600, 600);\n",
       "\n",
       "    // Disable right mouse context menu.\n",
       "    $(this.rubberband_canvas).bind(\"contextmenu\",function(e){\n",
       "        return false;\n",
       "    });\n",
       "\n",
       "    function set_focus () {\n",
       "        canvas.focus();\n",
       "        canvas_div.focus();\n",
       "    }\n",
       "\n",
       "    window.setTimeout(set_focus, 100);\n",
       "}\n",
       "\n",
       "mpl.figure.prototype._init_toolbar = function() {\n",
       "    var fig = this;\n",
       "\n",
       "    var nav_element = $('<div/>')\n",
       "    nav_element.attr('style', 'width: 100%');\n",
       "    this.root.append(nav_element);\n",
       "\n",
       "    // Define a callback function for later on.\n",
       "    function toolbar_event(event) {\n",
       "        return fig.toolbar_button_onclick(event['data']);\n",
       "    }\n",
       "    function toolbar_mouse_event(event) {\n",
       "        return fig.toolbar_button_onmouseover(event['data']);\n",
       "    }\n",
       "\n",
       "    for(var toolbar_ind in mpl.toolbar_items) {\n",
       "        var name = mpl.toolbar_items[toolbar_ind][0];\n",
       "        var tooltip = mpl.toolbar_items[toolbar_ind][1];\n",
       "        var image = mpl.toolbar_items[toolbar_ind][2];\n",
       "        var method_name = mpl.toolbar_items[toolbar_ind][3];\n",
       "\n",
       "        if (!name) {\n",
       "            // put a spacer in here.\n",
       "            continue;\n",
       "        }\n",
       "        var button = $('<button/>');\n",
       "        button.addClass('ui-button ui-widget ui-state-default ui-corner-all ' +\n",
       "                        'ui-button-icon-only');\n",
       "        button.attr('role', 'button');\n",
       "        button.attr('aria-disabled', 'false');\n",
       "        button.click(method_name, toolbar_event);\n",
       "        button.mouseover(tooltip, toolbar_mouse_event);\n",
       "\n",
       "        var icon_img = $('<span/>');\n",
       "        icon_img.addClass('ui-button-icon-primary ui-icon');\n",
       "        icon_img.addClass(image);\n",
       "        icon_img.addClass('ui-corner-all');\n",
       "\n",
       "        var tooltip_span = $('<span/>');\n",
       "        tooltip_span.addClass('ui-button-text');\n",
       "        tooltip_span.html(tooltip);\n",
       "\n",
       "        button.append(icon_img);\n",
       "        button.append(tooltip_span);\n",
       "\n",
       "        nav_element.append(button);\n",
       "    }\n",
       "\n",
       "    var fmt_picker_span = $('<span/>');\n",
       "\n",
       "    var fmt_picker = $('<select/>');\n",
       "    fmt_picker.addClass('mpl-toolbar-option ui-widget ui-widget-content');\n",
       "    fmt_picker_span.append(fmt_picker);\n",
       "    nav_element.append(fmt_picker_span);\n",
       "    this.format_dropdown = fmt_picker[0];\n",
       "\n",
       "    for (var ind in mpl.extensions) {\n",
       "        var fmt = mpl.extensions[ind];\n",
       "        var option = $(\n",
       "            '<option/>', {selected: fmt === mpl.default_extension}).html(fmt);\n",
       "        fmt_picker.append(option)\n",
       "    }\n",
       "\n",
       "    // Add hover states to the ui-buttons\n",
       "    $( \".ui-button\" ).hover(\n",
       "        function() { $(this).addClass(\"ui-state-hover\");},\n",
       "        function() { $(this).removeClass(\"ui-state-hover\");}\n",
       "    );\n",
       "\n",
       "    var status_bar = $('<span class=\"mpl-message\"/>');\n",
       "    nav_element.append(status_bar);\n",
       "    this.message = status_bar[0];\n",
       "}\n",
       "\n",
       "mpl.figure.prototype.request_resize = function(x_pixels, y_pixels) {\n",
       "    // Request matplotlib to resize the figure. Matplotlib will then trigger a resize in the client,\n",
       "    // which will in turn request a refresh of the image.\n",
       "    this.send_message('resize', {'width': x_pixels, 'height': y_pixels});\n",
       "}\n",
       "\n",
       "mpl.figure.prototype.send_message = function(type, properties) {\n",
       "    properties['type'] = type;\n",
       "    properties['figure_id'] = this.id;\n",
       "    this.ws.send(JSON.stringify(properties));\n",
       "}\n",
       "\n",
       "mpl.figure.prototype.send_draw_message = function() {\n",
       "    if (!this.waiting) {\n",
       "        this.waiting = true;\n",
       "        this.ws.send(JSON.stringify({type: \"draw\", figure_id: this.id}));\n",
       "    }\n",
       "}\n",
       "\n",
       "\n",
       "mpl.figure.prototype.handle_save = function(fig, msg) {\n",
       "    var format_dropdown = fig.format_dropdown;\n",
       "    var format = format_dropdown.options[format_dropdown.selectedIndex].value;\n",
       "    fig.ondownload(fig, format);\n",
       "}\n",
       "\n",
       "\n",
       "mpl.figure.prototype.handle_resize = function(fig, msg) {\n",
       "    var size = msg['size'];\n",
       "    if (size[0] != fig.canvas.width || size[1] != fig.canvas.height) {\n",
       "        fig._resize_canvas(size[0], size[1]);\n",
       "        fig.send_message(\"refresh\", {});\n",
       "    };\n",
       "}\n",
       "\n",
       "mpl.figure.prototype.handle_rubberband = function(fig, msg) {\n",
       "    var x0 = msg['x0'] / mpl.ratio;\n",
       "    var y0 = (fig.canvas.height - msg['y0']) / mpl.ratio;\n",
       "    var x1 = msg['x1'] / mpl.ratio;\n",
       "    var y1 = (fig.canvas.height - msg['y1']) / mpl.ratio;\n",
       "    x0 = Math.floor(x0) + 0.5;\n",
       "    y0 = Math.floor(y0) + 0.5;\n",
       "    x1 = Math.floor(x1) + 0.5;\n",
       "    y1 = Math.floor(y1) + 0.5;\n",
       "    var min_x = Math.min(x0, x1);\n",
       "    var min_y = Math.min(y0, y1);\n",
       "    var width = Math.abs(x1 - x0);\n",
       "    var height = Math.abs(y1 - y0);\n",
       "\n",
       "    fig.rubberband_context.clearRect(\n",
       "        0, 0, fig.canvas.width, fig.canvas.height);\n",
       "\n",
       "    fig.rubberband_context.strokeRect(min_x, min_y, width, height);\n",
       "}\n",
       "\n",
       "mpl.figure.prototype.handle_figure_label = function(fig, msg) {\n",
       "    // Updates the figure title.\n",
       "    fig.header.textContent = msg['label'];\n",
       "}\n",
       "\n",
       "mpl.figure.prototype.handle_cursor = function(fig, msg) {\n",
       "    var cursor = msg['cursor'];\n",
       "    switch(cursor)\n",
       "    {\n",
       "    case 0:\n",
       "        cursor = 'pointer';\n",
       "        break;\n",
       "    case 1:\n",
       "        cursor = 'default';\n",
       "        break;\n",
       "    case 2:\n",
       "        cursor = 'crosshair';\n",
       "        break;\n",
       "    case 3:\n",
       "        cursor = 'move';\n",
       "        break;\n",
       "    }\n",
       "    fig.rubberband_canvas.style.cursor = cursor;\n",
       "}\n",
       "\n",
       "mpl.figure.prototype.handle_message = function(fig, msg) {\n",
       "    fig.message.textContent = msg['message'];\n",
       "}\n",
       "\n",
       "mpl.figure.prototype.handle_draw = function(fig, msg) {\n",
       "    // Request the server to send over a new figure.\n",
       "    fig.send_draw_message();\n",
       "}\n",
       "\n",
       "mpl.figure.prototype.handle_image_mode = function(fig, msg) {\n",
       "    fig.image_mode = msg['mode'];\n",
       "}\n",
       "\n",
       "mpl.figure.prototype.updated_canvas_event = function() {\n",
       "    // Called whenever the canvas gets updated.\n",
       "    this.send_message(\"ack\", {});\n",
       "}\n",
       "\n",
       "// A function to construct a web socket function for onmessage handling.\n",
       "// Called in the figure constructor.\n",
       "mpl.figure.prototype._make_on_message_function = function(fig) {\n",
       "    return function socket_on_message(evt) {\n",
       "        if (evt.data instanceof Blob) {\n",
       "            /* FIXME: We get \"Resource interpreted as Image but\n",
       "             * transferred with MIME type text/plain:\" errors on\n",
       "             * Chrome.  But how to set the MIME type?  It doesn't seem\n",
       "             * to be part of the websocket stream */\n",
       "            evt.data.type = \"image/png\";\n",
       "\n",
       "            /* Free the memory for the previous frames */\n",
       "            if (fig.imageObj.src) {\n",
       "                (window.URL || window.webkitURL).revokeObjectURL(\n",
       "                    fig.imageObj.src);\n",
       "            }\n",
       "\n",
       "            fig.imageObj.src = (window.URL || window.webkitURL).createObjectURL(\n",
       "                evt.data);\n",
       "            fig.updated_canvas_event();\n",
       "            fig.waiting = false;\n",
       "            return;\n",
       "        }\n",
       "        else if (typeof evt.data === 'string' && evt.data.slice(0, 21) == \"data:image/png;base64\") {\n",
       "            fig.imageObj.src = evt.data;\n",
       "            fig.updated_canvas_event();\n",
       "            fig.waiting = false;\n",
       "            return;\n",
       "        }\n",
       "\n",
       "        var msg = JSON.parse(evt.data);\n",
       "        var msg_type = msg['type'];\n",
       "\n",
       "        // Call the  \"handle_{type}\" callback, which takes\n",
       "        // the figure and JSON message as its only arguments.\n",
       "        try {\n",
       "            var callback = fig[\"handle_\" + msg_type];\n",
       "        } catch (e) {\n",
       "            console.log(\"No handler for the '\" + msg_type + \"' message type: \", msg);\n",
       "            return;\n",
       "        }\n",
       "\n",
       "        if (callback) {\n",
       "            try {\n",
       "                // console.log(\"Handling '\" + msg_type + \"' message: \", msg);\n",
       "                callback(fig, msg);\n",
       "            } catch (e) {\n",
       "                console.log(\"Exception inside the 'handler_\" + msg_type + \"' callback:\", e, e.stack, msg);\n",
       "            }\n",
       "        }\n",
       "    };\n",
       "}\n",
       "\n",
       "// from http://stackoverflow.com/questions/1114465/getting-mouse-location-in-canvas\n",
       "mpl.findpos = function(e) {\n",
       "    //this section is from http://www.quirksmode.org/js/events_properties.html\n",
       "    var targ;\n",
       "    if (!e)\n",
       "        e = window.event;\n",
       "    if (e.target)\n",
       "        targ = e.target;\n",
       "    else if (e.srcElement)\n",
       "        targ = e.srcElement;\n",
       "    if (targ.nodeType == 3) // defeat Safari bug\n",
       "        targ = targ.parentNode;\n",
       "\n",
       "    // jQuery normalizes the pageX and pageY\n",
       "    // pageX,Y are the mouse positions relative to the document\n",
       "    // offset() returns the position of the element relative to the document\n",
       "    var x = e.pageX - $(targ).offset().left;\n",
       "    var y = e.pageY - $(targ).offset().top;\n",
       "\n",
       "    return {\"x\": x, \"y\": y};\n",
       "};\n",
       "\n",
       "/*\n",
       " * return a copy of an object with only non-object keys\n",
       " * we need this to avoid circular references\n",
       " * http://stackoverflow.com/a/24161582/3208463\n",
       " */\n",
       "function simpleKeys (original) {\n",
       "  return Object.keys(original).reduce(function (obj, key) {\n",
       "    if (typeof original[key] !== 'object')\n",
       "        obj[key] = original[key]\n",
       "    return obj;\n",
       "  }, {});\n",
       "}\n",
       "\n",
       "mpl.figure.prototype.mouse_event = function(event, name) {\n",
       "    var canvas_pos = mpl.findpos(event)\n",
       "\n",
       "    if (name === 'button_press')\n",
       "    {\n",
       "        this.canvas.focus();\n",
       "        this.canvas_div.focus();\n",
       "    }\n",
       "\n",
       "    var x = canvas_pos.x * mpl.ratio;\n",
       "    var y = canvas_pos.y * mpl.ratio;\n",
       "\n",
       "    this.send_message(name, {x: x, y: y, button: event.button,\n",
       "                             step: event.step,\n",
       "                             guiEvent: simpleKeys(event)});\n",
       "\n",
       "    /* This prevents the web browser from automatically changing to\n",
       "     * the text insertion cursor when the button is pressed.  We want\n",
       "     * to control all of the cursor setting manually through the\n",
       "     * 'cursor' event from matplotlib */\n",
       "    event.preventDefault();\n",
       "    return false;\n",
       "}\n",
       "\n",
       "mpl.figure.prototype._key_event_extra = function(event, name) {\n",
       "    // Handle any extra behaviour associated with a key event\n",
       "}\n",
       "\n",
       "mpl.figure.prototype.key_event = function(event, name) {\n",
       "\n",
       "    // Prevent repeat events\n",
       "    if (name == 'key_press')\n",
       "    {\n",
       "        if (event.which === this._key)\n",
       "            return;\n",
       "        else\n",
       "            this._key = event.which;\n",
       "    }\n",
       "    if (name == 'key_release')\n",
       "        this._key = null;\n",
       "\n",
       "    var value = '';\n",
       "    if (event.ctrlKey && event.which != 17)\n",
       "        value += \"ctrl+\";\n",
       "    if (event.altKey && event.which != 18)\n",
       "        value += \"alt+\";\n",
       "    if (event.shiftKey && event.which != 16)\n",
       "        value += \"shift+\";\n",
       "\n",
       "    value += 'k';\n",
       "    value += event.which.toString();\n",
       "\n",
       "    this._key_event_extra(event, name);\n",
       "\n",
       "    this.send_message(name, {key: value,\n",
       "                             guiEvent: simpleKeys(event)});\n",
       "    return false;\n",
       "}\n",
       "\n",
       "mpl.figure.prototype.toolbar_button_onclick = function(name) {\n",
       "    if (name == 'download') {\n",
       "        this.handle_save(this, null);\n",
       "    } else {\n",
       "        this.send_message(\"toolbar_button\", {name: name});\n",
       "    }\n",
       "};\n",
       "\n",
       "mpl.figure.prototype.toolbar_button_onmouseover = function(tooltip) {\n",
       "    this.message.textContent = tooltip;\n",
       "};\n",
       "mpl.toolbar_items = [[\"Home\", \"Reset original view\", \"fa fa-home icon-home\", \"home\"], [\"Back\", \"Back to  previous view\", \"fa fa-arrow-left icon-arrow-left\", \"back\"], [\"Forward\", \"Forward to next view\", \"fa fa-arrow-right icon-arrow-right\", \"forward\"], [\"\", \"\", \"\", \"\"], [\"Pan\", \"Pan axes with left mouse, zoom with right\", \"fa fa-arrows icon-move\", \"pan\"], [\"Zoom\", \"Zoom to rectangle\", \"fa fa-square-o icon-check-empty\", \"zoom\"], [\"\", \"\", \"\", \"\"], [\"Download\", \"Download plot\", \"fa fa-floppy-o icon-save\", \"download\"]];\n",
       "\n",
       "mpl.extensions = [\"eps\", \"jpeg\", \"pdf\", \"png\", \"ps\", \"raw\", \"svg\", \"tif\"];\n",
       "\n",
       "mpl.default_extension = \"png\";var comm_websocket_adapter = function(comm) {\n",
       "    // Create a \"websocket\"-like object which calls the given IPython comm\n",
       "    // object with the appropriate methods. Currently this is a non binary\n",
       "    // socket, so there is still some room for performance tuning.\n",
       "    var ws = {};\n",
       "\n",
       "    ws.close = function() {\n",
       "        comm.close()\n",
       "    };\n",
       "    ws.send = function(m) {\n",
       "        //console.log('sending', m);\n",
       "        comm.send(m);\n",
       "    };\n",
       "    // Register the callback with on_msg.\n",
       "    comm.on_msg(function(msg) {\n",
       "        //console.log('receiving', msg['content']['data'], msg);\n",
       "        // Pass the mpl event to the overriden (by mpl) onmessage function.\n",
       "        ws.onmessage(msg['content']['data'])\n",
       "    });\n",
       "    return ws;\n",
       "}\n",
       "\n",
       "mpl.mpl_figure_comm = function(comm, msg) {\n",
       "    // This is the function which gets called when the mpl process\n",
       "    // starts-up an IPython Comm through the \"matplotlib\" channel.\n",
       "\n",
       "    var id = msg.content.data.id;\n",
       "    // Get hold of the div created by the display call when the Comm\n",
       "    // socket was opened in Python.\n",
       "    var element = $(\"#\" + id);\n",
       "    var ws_proxy = comm_websocket_adapter(comm)\n",
       "\n",
       "    function ondownload(figure, format) {\n",
       "        window.open(figure.imageObj.src);\n",
       "    }\n",
       "\n",
       "    var fig = new mpl.figure(id, ws_proxy,\n",
       "                           ondownload,\n",
       "                           element.get(0));\n",
       "\n",
       "    // Call onopen now - mpl needs it, as it is assuming we've passed it a real\n",
       "    // web socket which is closed, not our websocket->open comm proxy.\n",
       "    ws_proxy.onopen();\n",
       "\n",
       "    fig.parent_element = element.get(0);\n",
       "    fig.cell_info = mpl.find_output_cell(\"<div id='\" + id + \"'></div>\");\n",
       "    if (!fig.cell_info) {\n",
       "        console.error(\"Failed to find cell for figure\", id, fig);\n",
       "        return;\n",
       "    }\n",
       "\n",
       "    var output_index = fig.cell_info[2]\n",
       "    var cell = fig.cell_info[0];\n",
       "\n",
       "};\n",
       "\n",
       "mpl.figure.prototype.handle_close = function(fig, msg) {\n",
       "    var width = fig.canvas.width/mpl.ratio\n",
       "    fig.root.unbind('remove')\n",
       "\n",
       "    // Update the output cell to use the data from the current canvas.\n",
       "    fig.push_to_output();\n",
       "    var dataURL = fig.canvas.toDataURL();\n",
       "    // Re-enable the keyboard manager in IPython - without this line, in FF,\n",
       "    // the notebook keyboard shortcuts fail.\n",
       "    IPython.keyboard_manager.enable()\n",
       "    $(fig.parent_element).html('<img src=\"' + dataURL + '\" width=\"' + width + '\">');\n",
       "    fig.close_ws(fig, msg);\n",
       "}\n",
       "\n",
       "mpl.figure.prototype.close_ws = function(fig, msg){\n",
       "    fig.send_message('closing', msg);\n",
       "    // fig.ws.close()\n",
       "}\n",
       "\n",
       "mpl.figure.prototype.push_to_output = function(remove_interactive) {\n",
       "    // Turn the data on the canvas into data in the output cell.\n",
       "    var width = this.canvas.width/mpl.ratio\n",
       "    var dataURL = this.canvas.toDataURL();\n",
       "    this.cell_info[1]['text/html'] = '<img src=\"' + dataURL + '\" width=\"' + width + '\">';\n",
       "}\n",
       "\n",
       "mpl.figure.prototype.updated_canvas_event = function() {\n",
       "    // Tell IPython that the notebook contents must change.\n",
       "    IPython.notebook.set_dirty(true);\n",
       "    this.send_message(\"ack\", {});\n",
       "    var fig = this;\n",
       "    // Wait a second, then push the new image to the DOM so\n",
       "    // that it is saved nicely (might be nice to debounce this).\n",
       "    setTimeout(function () { fig.push_to_output() }, 1000);\n",
       "}\n",
       "\n",
       "mpl.figure.prototype._init_toolbar = function() {\n",
       "    var fig = this;\n",
       "\n",
       "    var nav_element = $('<div/>')\n",
       "    nav_element.attr('style', 'width: 100%');\n",
       "    this.root.append(nav_element);\n",
       "\n",
       "    // Define a callback function for later on.\n",
       "    function toolbar_event(event) {\n",
       "        return fig.toolbar_button_onclick(event['data']);\n",
       "    }\n",
       "    function toolbar_mouse_event(event) {\n",
       "        return fig.toolbar_button_onmouseover(event['data']);\n",
       "    }\n",
       "\n",
       "    for(var toolbar_ind in mpl.toolbar_items){\n",
       "        var name = mpl.toolbar_items[toolbar_ind][0];\n",
       "        var tooltip = mpl.toolbar_items[toolbar_ind][1];\n",
       "        var image = mpl.toolbar_items[toolbar_ind][2];\n",
       "        var method_name = mpl.toolbar_items[toolbar_ind][3];\n",
       "\n",
       "        if (!name) { continue; };\n",
       "\n",
       "        var button = $('<button class=\"btn btn-default\" href=\"#\" title=\"' + name + '\"><i class=\"fa ' + image + ' fa-lg\"></i></button>');\n",
       "        button.click(method_name, toolbar_event);\n",
       "        button.mouseover(tooltip, toolbar_mouse_event);\n",
       "        nav_element.append(button);\n",
       "    }\n",
       "\n",
       "    // Add the status bar.\n",
       "    var status_bar = $('<span class=\"mpl-message\" style=\"text-align:right; float: right;\"/>');\n",
       "    nav_element.append(status_bar);\n",
       "    this.message = status_bar[0];\n",
       "\n",
       "    // Add the close button to the window.\n",
       "    var buttongrp = $('<div class=\"btn-group inline pull-right\"></div>');\n",
       "    var button = $('<button class=\"btn btn-mini btn-primary\" href=\"#\" title=\"Stop Interaction\"><i class=\"fa fa-power-off icon-remove icon-large\"></i></button>');\n",
       "    button.click(function (evt) { fig.handle_close(fig, {}); } );\n",
       "    button.mouseover('Stop Interaction', toolbar_mouse_event);\n",
       "    buttongrp.append(button);\n",
       "    var titlebar = this.root.find($('.ui-dialog-titlebar'));\n",
       "    titlebar.prepend(buttongrp);\n",
       "}\n",
       "\n",
       "mpl.figure.prototype._root_extra_style = function(el){\n",
       "    var fig = this\n",
       "    el.on(\"remove\", function(){\n",
       "\tfig.close_ws(fig, {});\n",
       "    });\n",
       "}\n",
       "\n",
       "mpl.figure.prototype._canvas_extra_style = function(el){\n",
       "    // this is important to make the div 'focusable\n",
       "    el.attr('tabindex', 0)\n",
       "    // reach out to IPython and tell the keyboard manager to turn it's self\n",
       "    // off when our div gets focus\n",
       "\n",
       "    // location in version 3\n",
       "    if (IPython.notebook.keyboard_manager) {\n",
       "        IPython.notebook.keyboard_manager.register_events(el);\n",
       "    }\n",
       "    else {\n",
       "        // location in version 2\n",
       "        IPython.keyboard_manager.register_events(el);\n",
       "    }\n",
       "\n",
       "}\n",
       "\n",
       "mpl.figure.prototype._key_event_extra = function(event, name) {\n",
       "    var manager = IPython.notebook.keyboard_manager;\n",
       "    if (!manager)\n",
       "        manager = IPython.keyboard_manager;\n",
       "\n",
       "    // Check for shift+enter\n",
       "    if (event.shiftKey && event.which == 13) {\n",
       "        this.canvas_div.blur();\n",
       "        event.shiftKey = false;\n",
       "        // Send a \"J\" for go to next cell\n",
       "        event.which = 74;\n",
       "        event.keyCode = 74;\n",
       "        manager.command_mode();\n",
       "        manager.handle_keydown(event);\n",
       "    }\n",
       "}\n",
       "\n",
       "mpl.figure.prototype.handle_save = function(fig, msg) {\n",
       "    fig.ondownload(fig, null);\n",
       "}\n",
       "\n",
       "\n",
       "mpl.find_output_cell = function(html_output) {\n",
       "    // Return the cell and output element which can be found *uniquely* in the notebook.\n",
       "    // Note - this is a bit hacky, but it is done because the \"notebook_saving.Notebook\"\n",
       "    // IPython event is triggered only after the cells have been serialised, which for\n",
       "    // our purposes (turning an active figure into a static one), is too late.\n",
       "    var cells = IPython.notebook.get_cells();\n",
       "    var ncells = cells.length;\n",
       "    for (var i=0; i<ncells; i++) {\n",
       "        var cell = cells[i];\n",
       "        if (cell.cell_type === 'code'){\n",
       "            for (var j=0; j<cell.output_area.outputs.length; j++) {\n",
       "                var data = cell.output_area.outputs[j];\n",
       "                if (data.data) {\n",
       "                    // IPython >= 3 moved mimebundle to data attribute of output\n",
       "                    data = data.data;\n",
       "                }\n",
       "                if (data['text/html'] == html_output) {\n",
       "                    return [cell, data, j];\n",
       "                }\n",
       "            }\n",
       "        }\n",
       "    }\n",
       "}\n",
       "\n",
       "// Register the function which deals with the matplotlib target/channel.\n",
       "// The kernel may be null if the page has been refreshed.\n",
       "if (IPython.notebook.kernel != null) {\n",
       "    IPython.notebook.kernel.comm_manager.register_target('matplotlib', mpl.mpl_figure_comm);\n",
       "}\n"
      ],
      "text/plain": [
       "<IPython.core.display.Javascript object>"
      ]
     },
     "metadata": {},
     "output_type": "display_data"
    },
    {
     "data": {
      "text/html": [
       "<img src=\"data:image/png;base64,iVBORw0KGgoAAAANSUhEUgAABQAAAAPACAYAAABq3NR5AAAgAElEQVR4XuzdXaxu213X8R9YMRAMQduGwqke2gYooAmkbWjUaiQUtA2JUG68AYxBEAwQXmywvVBpLKBGDQWpEBEvvMDiRSkQKJCCWNI2qYmBEoG0sE95q0ajCe9YM/U5yXa79xrrGWPNPcf8j89KTiJdY8xnjM9/evPNWnt9SHwRIECAAAECBAgQIECAAAECBAgQIFBW4EPK3szFCBAgQIAAAQIECBAgQIAAAQIECBCIAOglIECAAAECBAgQIECAAAECBAgQIFBYQAAsPFxXI0CAAAECBAgQIECAAAECBAgQICAAegcIECBAgAABAgQIECBAgAABAgQIFBYQAAsP19UIECBAgAABAgQIECBAgAABAgQICIDeAQIECBAgQIAAAQIECBAgQIAAAQKFBQTAwsN1NQIECBAgQIAAAQIECBAgQIAAAQICoHeAAAECBAgQIECAAAECBAgQIECAQGEBAbDwcF2NAAECBAgQIECAAAECBAgQIECAgADoHSBAgAABAgQIECBAgAABAgQIECBQWEAALDxcVyNAgAABAgQIECBAgAABAgQIECAgAHoHCBAgQIAAAQIECBAgQIAAAQIECBQWEAALD9fVCBAgQIAAAQIECBAgQIAAAQIECAiA3gECBAgQIECAAAECBAgQIECAAAEChQUEwMLDdTUCBAgQIECAAAECBAgQIECAAAECAqB3gAABAgQIECBAgAABAgQIECBAgEBhAQGw8HBdjQABAgQIECBAgAABAgQIECBAgIAA6B0gQIAAAQIECBAgQIAAAQIECBAgUFhAACw8XFcjQIAAAQIECBAgQIAAAQIECBAgIAB6BwgQIECAAAECBAgQIECAAAECBAgUFhAACw/X1QgQIECAAAECBAgQIECAAAECBAgIgN4BAgQIECBAgAABAgQIECBAgAABAoUFBMDCw3U1AgQIECBAgAABAgQIECBAgAABAgKgd4AAAQIECBAgQIAAAQIECBAgQIBAYQEBsPBwXY0AAQIECBAgQIAAAQIECBAgQICAAOgdIECAAAECBAgQIECAAAECBAgQIFBYQAAsPFxXI0CAAAECBAgQIECAAAECBAgQICAAegcIECBAgAABAgQIECBAgAABAgQIFBYQAAsP19UIECBAgAABAgQIECBAgAABAgQICIDeAQIECBAgQIAAAQIECBAgQIAAAQKFBQTAwsN1NQIECBAgQIAAAQIECBAgQIAAAQICoHeAAAECBAgQIECAAAECBAgQIECAQGEBAbDwcF2NAAECBAgQIECAAAECBAgQIECAgADoHSBAgAABAgQIECBAgAABAgQIECBQWEAALDxcVyNAgAABAgQIECBAgAABAgQIECAgAHoHCBAgQIAAAQIECBAgQIAAAQIECBQWEAALD9fVCBAgQIAAAQIECBAgQIAAAQIECAiA3gECBAgQIECAAAECBAgQIECAAAEChQUEwMLDdTUCBAgQIECAAAECBAgQIECAAAECAqB3gAABAgQIECBAgAABAgQIECBAgEBhAQGw8HBdjQABAgQIECBAgAABAgQIECBAgIAA6B0gQIAAAQIECBAgQIAAAQIECBAgUFhAACw8XFcjQIAAAQIECBAgQIAAAQIECBAgIAB6BwgQIECAAAECBAgQIECAAAECBAgUFhAACw/X1QgQIECAAAECBAgQIECAAAECBAgIgN4BAgQIECBAgAABAgQIECBAgAABAoUFBMDCw3U1AgQIECBAgAABAgQIECBAgAABAgKgd4AAAQIECBAgQIAAAQIECBAgQIBAYQEBsPBwXY0AAQIECBAgQIAAAQIECBAgQICAAOgdIECAAAECBAgQIECAAAECBAgQIFBYQAAsPFxXI0CAAAECBAgQIECAAAECBAgQICAAegcIECBAgAABAgQIECBAgAABAgQIFBYQAAsP19UIECBAgAABAgQIECBAgAABAgQICIDeAQIECBAgQIAAAQIECBAgQIAAAQKFBQTAwsN1NQIECBAgQIAAAQIECBAgQIAAAQICoHeAAAECBAgQIECAAAECBAgQIECAQGEBAbDwcF2NAAECBAgQIECAAAECBAgQIECAgADoHSBAgAABAgQIECBAgAABAgQIECBQWEAALDxcVyNAgAABAgQIECBAgAABAgQIECAgAHoHCBAgQIAAAQIECBAgQIAAAQIECBQWEAALD9fVCBAgQIAAAQIECBAgQIAAAQIECAiA3gECBAgQIECAAAECBAgQIECAAAEChQUEwMLDdTUCBAgQIECAAAECBAgQIECAAAECAqB3gAABAgQIECBAgAABAgQIECBAgEBhAQGw8HBdjQABAgQIECBAgAABAgQIECBAgIAA6B0gQIAAAQIECBAgQIAAAQIECBAgUFhAACw8XFcjQIAAAQIECBAgQIAAAQIECBAgIAB6BwgQIECAAAECBAgQIECAAAECBAgUFhAACw/X1QgQIECAAAECBAgQIECAAAECBAgIgN4BAgQIECBAgAABAgQIECBAgAABAoUFBMDCw3U1AgQIECBAgAABAgQIECBAgAABAgKgd4AAAQIECBAgQIAAAQIECBAgQIBAYQEBsPBwXY0AAQIECBAgQIAAAQIECBAgQICAAOgdIECAAAECBAgQIECAAAECBAgQIFBYQAAsPFxXI0CAAAECBAgQIECAAAECBAgQICAAegcIECBAgAABAgQIECBAgAABAgQIFBYQAAsP19UIECBAgAABAgQIECBAgAABAgQICIDeAQIECBAgQIAAAQIECBAgQIAAAQKFBQTAwsN1NQIECBAgQIAAAQIECBAgQIAAAQICoHeAAAECBAgQIECAAAECBAgQIECAQGEBAbDwcF2NAAECBAgQIECAAAECBAgQIECAgADoHSBAgAABAgQIECBAgAABAgQIECBQWEAALDxcVyNAgAABAgQIECBAgAABAgQIECAgAHoHCBAgQIAAAQIECBAgQIAAAQIECBQWEAALD9fVCBAgQIAAAQIECBAgQIAAAQIECAiA3gECBAgQIECAAAECBAgQIECAAAEChQUEwMLDdTUCBAgQIECAAAECBAgQIECAAAECAqB3gAABAgQIECBAgAABAgQIECBAgEBhAQGw8HBdjQABAgQIECBAgAABAgQIECBAgIAA6B0gQIAAAQIECBAgQIAAAQIECBAgUFhAACw8XFcjQIAAAQIECBAgQIAAAQIECBAgIAB6BwgQIECAAAECBAgQIECAAAECBAgUFhAACw/X1QgQIECAAAECBAgQIECAAAECBAgIgN4BAgQIECBAgAABAgQIECBAgAABAoUFBMDCw3U1AgQIECBAgAABAgQIECBAgAABAgKgd4AAAQIECBAgQIAAAQIECBAgQIBAYQEBsPBwXY0AAQIECBAgQIAAAQIECBAgQICAAOgdIECAAAECBAgQIECAAAECBAgQIFBYQAAsPFxXI0CAAAECBAgQIECAAAECBAgQICAAegcIECBAgAABAgQIECBAgAABAgQIFBYQAAsP19UIECBAgAABAgQIECBAgAABAgQICIDeAQIECBAgQIAAAQIECBAgQIAAAQKFBQTAwsN1NQIECBAgQIAAAQIECBAgQIAAAQICoHeAAAECBAgQIECAAAECBAgQIECAQGEBAbDwcF2NAAECBAgQIECAAAECBAgQIECAgADoHSBAgAABAgQIECBAgAABAgQIECBQWEAALDxcVyNAgAABAgQIECBAgAABAgQIECAgAHoHCBAgQIAAAQIECBAgQIAAAQIECBQWEAALD9fVCBAgQIAAAQIECBAgQIAAAQIECAiA3gECBAgQIECAAAECBAgQIECAAAEChQUEwPMN99OTfE6SP5fkU5M8O8nvJfmVJP8hyXcl+cnGtb4oyb+85dW/OMl333KtZQQIECBAgAABAgQIECBAgAABApMJCICTDaRxnLcledktjvyvk/z1JL/7iLUC4C0QLSFAgAABAgQIECBAgAABAgQIVBAQAM81xV9I8vzLT/t97+Un/X45yR9K8tIkX5Pk4y5X+jdJ/uotAuBnX573KImnkvz3HZj+SJI/dXnuB5L8wQ6f4ZEECBAgQIAAAQIECBAgQGB1ga0ZPOuC8J+S/M7qICveXwA819S/P8n3JHnTI4LZM5P8VJJPuFxr+2nBh/068P0/AfjxSd53AMOLkrzzgM/1kQQIECBAgAABAgQIECBAYFWBFyd516qXX/neAmC96b8yyZsv1/pnSb7yIVcUAOvN3Y0IECBAgAABAgQIECBAgEBLQABsCRX9vgBYb7AfmeR/Xq71liRbEHzwa4YA+Cef/snDd7zjHXnOc55TbxJuRIAAAQIECBAgQIAAAQIEDhb41V/91bzkJS95+hRPJvmlg4/k4w8QEAAPQN/5I/9Ykv96+YztJwE/d9IA+ESSe9vZ7t27lyee2P5PXwQIECBAgAABAgQIECBAgMBdCjz11FN57nOf+/Qjt//H9m/9+1pMQACsN/C/kuT7Ltf6liRf3wiA218WfmGSj07yP5Jsf2jkrUm+Pcn7d+QRAHfE9WgCBAgQIECAAAECBAgQILAJCIDeg01AAKz1Hnxokrcnefpnex/1u/33/wrwowR+O8lXJfmOTqLWj/R9zNN/BMRPAHYK20aAAAECBAgQIECAAAECBBoCAqBXRACs9w58TZJ/eLnWv0vyeY+44hYAX3v5ScEtGP6fX8VN8rwkn5/kVffF4b+R5I0dVB+87R4B8LZS1hEgQIAAAQIECBAgQIAAgesEBMDrvKqu9hOAdSb75y+/uvuMJL+R5E8n+fVHXO+jLr/u+6hIt/3hkO3XiP9wkt9M8vwkv3YllQB4JZjlBAgQIECAAAECBAgQIEDgrgUEwLsWPefzBMBzzu3BU39Kkp+8/Dt+v5Pks5Ns/7bfyNffSfKNlwe8JsnrrnyYXwG+EsxyAgQIECBAgAABAgQIECBw1wIC4F2LnvN5AuA553b/qT8+yb9P8rFJ/iDJFyTZfv139OvZl5/6296RH0ny8tEHPrDfHwG5Y1CPI0CAAAECBAgQIECAAAECDwoIgN6JTUAAPPd7sEW/7Sf/tn+7b/uV2+3f9vueO7zS9qvEz0rys0m2nzK8yy8B8C41PYsAAQIECBAgQIAAAQIECDxEQAD0WgiA534Hnnn5Nd9PvlzjK5K84Y6v9IEk2+cIgHcM63EECBAgQIAAAQIECBAgQOBxCAiAj0N5/s/wE4Dzz+hhJ9z+iMePJfn0yzdfneSb7vgq9/8K8FuTfNYdP99PAN4xqMcRIECAAAECBAgQIECAAIEHBQRA78QmIACe7z34iCQ/nOTPXI6+/XGO7Y903PXX9sy/f3noa+/7gyB39TkC4F1Jeg4BAgQIECBAgAABAgQIEHiEgADo1RAAz/cOfFiSN9/3Bzn+aZKvuvIaT17+WvC7b9j3yiRvSrJ93m8neUGS91/5Oa3lAmBLyPcJECBAgAABAgQIECBAgMCggAA4CFhku58APNcgtyj3eZcjb78CvMW/7Y9/POrrd5P85we++ReS/HiSt19i4n9Msv2xj+1d2P6YyKsu/z39buzxbwtuRxIAz/XuOS0BAgQIECBAgAABAgQInFBAADzh0HY4sgC4A+qOj7wp9j3sY38pyfYTf/d/PR0AW8f8zSRfneSNrYWd3xcAO+FsI0CAAAECBAgQIECAAAECtxUQAG8rVXudAHiu+d5FAPyjST43yUuTvCjJcy5/6fcZSf5bkp9J8qNJvvPyk4F7CQmAe8l6LgECBAgQIECAAAECBAgQuAgIgF6FTUAA9B4cJSAAHiXvcwkQIECAAAECBAgQIEBgGQEBcJlR33hRAdB7cJSAAHiUvM8lQIAAAQIECBAgQIAAgWUEBMBlRi0AGvWUAgLglGNxKAIECBAgQIAAAQIECBCoJCAAVppm/138BGC/nZ1jAgLgmJ/dBAgQIECAAAECBAgQIECgKSAANomWWCAALjHmKS8pAE45FociQIAAAQIECBAgQIAAgUoCAmClafbfRQDst7NzTEAAHPOzmwABAgQIECBAgAABAgQINAUEwCbREgsEwCXGPOUlBcApx+JQBAgQIECAAAECBAgQIFBJQACsNM3+uwiA/XZ2jgkIgGN+dhMgQIAAAQIECBAgQIAAgaaAANgkWmKBALjEmKe8pAA45VgcigABAgQIECBAgAABAgQqCQiAlabZfxcBsN/OzjEBAXDMz24CBAgQIECAAAECBAgQINAUEACbREssEACXGPOUlxQApxyLQxEgQIAAAQIECBAgQIBAJQEBsNI0++8iAPbb2TkmIACO+dlNgAABAgQIECBAgAABAgSaAgJgk2iJBQLgEmOe8pIC4JRjcSgCBAgQIECAAAECBAgQqCQgAFaaZv9dBMB+OzvHBATAMT+7CRAgQIAAAQIECBAgQIBAU0AAbBItsUAAXGLMU15SAJxyLA5FgAABAgQIECBAgAABApUEBMBK0+y/iwDYb2fnmIAAOOZnNwECBAgQIECAAAECBAgQaAoIgE2iJRYIgEuMecpLCoBTjsWhCBAgQIAAAQIECBAgQKCSgABYaZr9dxEA++3sHBMQAMf87CZAgAABAgQIECBAgAABAk0BAbBJtMQCAXCJMU95ydMGwCdf/ZZbg77v9a+49VoLCRAgQIAAAQIECBAgQIDAXQsIgHctes7nCYDnnFuFUwuAFaboDgQIECBAgAABAgQIECAwtYAAOPV4HtvhBMDHRu2DHhAQAL0SBAgQIECAAAECBAgQIEBgZwEBcGfgkzxeADzJoAoeUwAsOFRXIkCAAAECBAgQIECAAIG5BATAueZx1GkEwKPkfa4A6B0gQIAAAQIECBAgQIAAAQI7CwiAOwOf5PEC4EkGVfCYAmDBoboSAQIECBAgQIAAAQIECMwlIADONY+jTiMAHiXvcwVA7wABAgQIECBAgAABAgQIENhZQADcGfgkjxcATzKogscUAAsO1ZUIECBAgAABAgQIECBAYC4BAXCueRx1GgHwKHmfKwB6BwgQIECAAAECBAgQIECAwM4CAuDOwCd5vAB4kkEVPKYAWHCorkSAAAECBAgQIECAAAECcwkIgHPN46jTCIBHyftcAdA7QIAAAQIECBAgQIAAAQIEdhYQAHcGPsnjBcCTDKrgMQXAgkN1JQIECBAgQIAAAQIECBCYS0AAnGseR51GADxK3ucKgN4BAgQIECBAgAABAgQIECCws4AAuDPwSR4vAJ5kUAWPKQAWHKorESBAgAABAgQIECBAgMBcAgLgXPM46jQC4FHyPlcA9A4QIECAAAECBAgQIECAAIGdBQTAnYFP8ngB8CSDKnhMAbDgUF2JAAECBAgQIECAAAECBOYSEADnmsdRpxEAj5L3uQKgd4AAAQIECBAgQIAAAQIECOwsIADuDHySxwuAJxlUwWMKgAWH6koECBAgQIAAAQIECBAgMJeAADjXPI46jQB4lLzPFQC9AwQIECBAgAABAgQIECBAYGcBAXBn4JM8XgA8yaAKHlMALDhUVyJAgAABAgQIECBAgACBuQQEwLnmcdRpBMCj5H2uAOgdIECAAAECBAgQIECAAAECOwsIgDsDn+TxAuBJBlXwmAJgwaG6EgECBAgQIECAAAECBAjMJSAAzjWPo04jAB4l73MFQO8AAQIECBAgQIAAAQIECBDYWUAA3Bn4JI8XAE8yqILHFAALDtWVCBAgQIAAAQIECBAgQGAuAQFwrnkcdRoB8Ch5nysAegcIECBAgAABAgQIECBAgMDOAgLgzsAnebwAeJJBFTymAFhwqK5EgAABAgQIECBAgAABAnMJCIBzzeOo0wiAR8n7XAHQO0CAAAECBAgQIECAAAECBHYWEAB3Bj7J4wXAkwyq4DEFwIJDdSUCBAgQIECAAAECBAgQmEtAAJxrHkedRgA8St7nCoDeAQIECBAgQIAAAQIECBAgsLOAALgz8EkeLwCeZFAFjykAFhyqKxEgQIAAAQIECBAgQIDAXAIC4FzzOOo0AuBR8j5XAPQOECBAgAABAgQIECBAgACBnQUEwJ2BT/J4AfAkgyp4TAGw4FBdiQABAgQIECBAgAABAgTmEhAA55rHUacRAI+S97kCoHeAAAECBAgQIECAAAECBAjsLCAA7gx8kscLgCcZVMFjCoAFh+pKBAgQIECAAAECBAgQIDCXgAA41zyOOo0AeJS8zxUAvQMECBAgQIAAAQIECBAgQGBnAQFwZ+CTPF4APMmgCh5TACw4VFciQIAAAQIECBAgQIAAgbkEBMC55nHUaQTAo+R9rgDoHSBAgAABAgQIECBAgAABAjsLCIA7A5/k8QLgSQZV8JgCYMGhuhIBAgQIECBAgAABAgQIzCUgAM41j6NOIwAeJe9zBUDvAAECBAgQIECAAAECBAgQ2FlAANwZ+CSPFwBPMqiCxxQACw7VlQgQIECAAAECBAgQIEBgLgEBcK55HHUaAfAoeZ8rAHoHCBAgQIAAAQIECBAgQIDAzgIC4M7AJ3m8AHiSQRU8pgBYcKiuRIAAAQIECBAgQIAAAQJzCQiAc83jqNMIgEfJ+1wB0DtAgAABAgQIECBAgAABAgR2FhAAdwY+yeMFwJMMquAxBcCCQ3UlAgQIECBAgAABAgQIEJhLQACcax5HnUYAPEre5wqA3gECBAgQIECAAAECBAgQILCzgAC4M/BJHi8AnmRQBY8pABYcqisRIECAAAECBAgQIECAwFwCAuBc8zjqNALgUfI+VwD0DhAgQIAAAQIECBAgQIAAgZ0FBMCdgU/yeAHwJIMqeEwBsOBQXYkAAQIECBAgQIAAAQIE5hIQAOeax1GnEQCPkve5AqB3gAABAgQIECBAgAABAgQI7CwgAO4MfJLHC4AnGVTBYwqABYfqSgQIECBAgAABAgQIECAwl4AAONc8jjqNAHiUvM8VAL0DBAgQIECAAAECBAgQIEBgZwEBcGfgkzxeADzJoAoeUwAsOFRXIkCAAAECBAgQIECAAIG5BATAueZx1GkEwKPkfa4A6B0gQIAAAQIECBAgQIAAAQI7CwiAOwOf5PEC4EkGVfCYAmDBoboSAQIECBAgQIAAAQIECMwlIADONY+jTiMAHiXvcwVA7wABAgQIECBAgAABAgQIENhZQADcGfgkjxcATzKogscUAAsO1ZUIECBAgAABAgQIECBAYC4BAXCueRx1GgHwKHmfKwB6BwgQIECAAAECBAgQIECAwM4CAuDOwCd5vAB4kkEVPKYAWHCorkSAAAECBAgQIECAAAECcwkIgHPN46jTCIBHyftcAdA7QIAAAQIECBAgQIAAAQIEdhYQAHcGPsnjBcCTDKrgMQXAgkN1JQIECBAgQIAAAQIECBCYS0AAnGseR51GADxK3ucKgN4BAgQIECBAgAABAgQIECCws4AAuDPwSR4vAJ5kUAWPKQAWHKorESBAgAABAgQIECBAgMBcAgLgXPM46jQC4FHyPlcA9A4QIECAAAECBAgQIECAAIGdBQTAnYFP8ngB8CSDKnhMAbDgUF2JAAECBAgQIECAAAECBOYSEADnmsdRpxEAj5L3uQKgd4AAAQIECBAgQIAAAQIECOwsIADuDHySxwuAJxlUwWMKgAWH6koECBAgQIAAAQIECBAgMJeAADjXPI46jQB4lLzPFQC9AwQIECBAgAABAgQIECBAYGcBAXBn4JM8XgA8yaAKHlMALDhUVyJAgAABAgQIECBAgACBuQQEwLnmcdRpBMCj5H2uAOgdIECAAAECBAgQIECAAAECOwsIgDsDn+TxAuBJBlXwmAJgwaG6EgECBAgQIECAAAECBAjMJSAAzjWPo04jAB4l73MFQO8AAQIECBAgQIAAAQIECBDYWUAA3Bn4JI8XAE8yqILHFAALDtWVCBAgQIAAAQIECBAgQGAuAQFwrnkcdRoB8Ch5nysAegcIECBAgAABAgQIECBAgMDOAgLgzsAnebwAeJJBFTymAFhwqK5EgAABAgQIECBAgAABAnMJCIBzzeOo0wiAR8n7XAHQO0CAAAECBAgQIECAAAECBHYWEAB3Bj7J4wXAkwyq4DEFwIJDdSUCBAgQIECAAAECBAgQmEtAAJxrHkedRgA8St7nCoDeAQIECBAgQIAAAQIECBAgsLOAALgz8EkeLwCeZFAFjykAFhyqKxEgQIAAAQIECBAgQIDAXAIC4FzzOOo0AuBR8j5XAPQOECBAgAABAgQIECBAgACBnQUEwJ2BT/J4AfAkgyp4TAGw4FBdiQABAgQIECBAgAABAgTmEhAA55rHUacRAI+S97kCoHeAAAECBAgQIECAAAECBAjsLCAA7gx8kscLgCcZVMFjCoAFh+pKBAgQIECAAAECBAgQIDCXgAA41zyOOo0AeJS8zxUAvQMECBAgQIAAAQIECBAgQGBnAQFwZ+CTPF4APMmgCh5TACw4VFciQIAAAQIECBAgQIAAgbkEBMC55nHUaQTAo+R9rgDoHSBAgAABAgQIECBAgAABAjsLCIA7A5/k8QLgSQZV8JgCYMGhuhIBAgQIECBAgAABAgQIzCUgAM41j6NOIwAeJe9zBUDvAAECBAgQIECAAAECBAgQ2FlAANwZ+CSPFwBPMqiCxxQACw7VlQgQIECAAAECBAgQIEBgLgEBcK55HHUaAfAoeZ8rAHoHCBAgQIAAAQIECBAgQIDAzgIC4M7AJ3m8AHiSQRU8pgBYcKiuRIAAAQIECBAgQIAAAQJzCQiAc83jqNMIgEfJ+1wB0DtAgAABAgQIECBAgAABAgR2FhAAdwY+yeMFwJMMquAxBcCCQ3UlAgQIECBAgAABAgQIEJhLQACcax5HnUYAPEre5wqA3gECBAgQIECAAAECBAgQILCzgAC4M/BJHi8AnmRQBY8pABYcqisRIECAAAECBAgQILsBdMsAACAASURBVECAwFwCAuBc8zjqNALgUfI+VwD0DhAgQIAAAQIECBAgQIAAgZ0FBMCdgU/yeAHwJIMqeEwBsOBQXYkAAQIECBAgQIAAAQIE5hIQAOeax1GnEQCPkve5AqB3gAABAgQIECBAgAABAgQI7CwgAO4MfJLHC4AnGVTBYwqABYfqSgQIECBAgAABAgQIECAwl4AAONc8jjqNAHiUvM8VAL0DBAgQIECAAAECBAgQIEBgZwEBcGfgkzxeADzJoAoeUwAsOFRXIkCAAAECBAgQIECAAIG5BATAueZx1GkEwKPkfa4A6B0gQIAAAQIECBAgQIAAAQI7CwiAOwOf5PEC4EkGVfCYAmDBoboSAQIECBAgQIAAAQIECMwlIADONY+jTiMAHiXvcwVA7wABAgQIECBAgAABAgQIENhZQADcGfgkjxcATzKogscUAAsO1ZUIECBAgAABAgQIECBAYC4BAXCueRx1GgHwKHmfKwB6BwgQIECAAAECBAgQIECAwM4CAuDOwCd5vAB4kkEVPKYAWHCorkSAAAECBAgQIECAAAECcwkIgHPN46jTCIBHyftcAdA7QIAAAQIECBAgQIAAAQIEdhYQAHcGPsnjBcCTDKrgMQXAgkN1JQIECBAgQIAAAQIECBCYS0AAnGseR51GADxKvv9zPz3J5yT5c0k+Ncmzk/xekl9J8h+SfFeSn7zi8duzviTJS5I8K8kHkrwjyRuT/NAVz7l2qQB4rZj1BAgQIECAAAECBAgQIEDgSgEB8EqwossFwHMN9m1JXnaLI//rJH89ye/esHab/T+/xL9HLdsi4Jcm+eAtPvPaJQLgtWLWEyBAgAABAgQIECBAgACBKwUEwCvBii4XAM812F9I8vzLT/t97+Un/X45yR9K8tIkX5Pk4y5X+jdJ/uoN13tdkm+4fP/dSb45yS9env/1ST7t8r1t3Wt2YBIAd0D1SAIECBAgQIAAAQIECBAgcL+AAOh92AQEwHO9B9+f5HuSvCnJHzzk6M9M8lNJPuHyve2nBR/268AvSPKeJM9I8q7LTxX+1n3P+4gk208bvijJ7yf5pEscvEstAfAuNT2LAAECBAgQIECAAAECBAg8REAA9FoIgDXfgVcmefPlav8syVc+5JpvSPI3L//79pODP/2QNZ+R5O2X//1bk/ytO+YSAO8Y1OMIECBAgAABAgQIECBAgMCDAgKgd0IArPkOfGSS/3m52luSbEHw/q/tpz7vXX5V+OeSvPAGhu37n5jkqSR/4o7/LUABsOb751YECBAgQIAAAQIECBAgMJGAADjRMA48il8BPhB/p4/+Y0n+6+XZ208Cfu4Dn/O8+36d9zsuf+TjUUfZvr/9heDta9v33js8swB4h5geRYAAAQIECBAgQIAAAQIEHiYgAHovNgEBsN578FeSfN/lWt+SZPuDHvd/vSLJ9m8Jbl9fneSf3ECwff8fX76/7fuBO+QSAO8Q06MIECBAgAABAgQIECBAgIAA6B14lIAAWOvd+NDLv9v3ksu1Xnz5Ix/33/JLk3z75X/4giT/9gaCVyXZ/trw9rXt234i8LZfW+C76etjkrxzW3Dv3r088URr+W0/dv91T756+83q23297/VbN/VFgAABAgQIECBAgAABAgSOEfATgMe4z/apAuBsExk7z9ck+YeXR/y7JJ/3kMd9XZJvvvzvfynJD93wkdv3n/6pv69N8o+uON4Hb7tWALytlHUECBAgQIAAAQIECBAgQOA6AQHwOq+qqwXAOpP980nemuQZSX4jyZ9O8usPud5rk/y9y//+mUl+7AaCv5jkRy/f3/Z94xVcAmASPwF4xRtjKQECBAgQIECAAAECBAjcuYAAeOekp3ygAHjKsf1/h/6UJD+Z5KOT/E6Sz07ytkdc7XH9BGDrd3r9CnCNd88tCBAgQIAAAQIECBAgQGBiAQFw4uE8xqMJgI8Re6eP+vgk/z7Jxyb5gyTbv+u3/frvo74e178B2LquPwLSEvJ9AgQIECBAgAABAgQIECAwKCAADgIW2S4AnnuQW/TbfvLveUm2X7n9oiTf07jSK5O8+bLGXwHumL8/AtKBZgsBAgQIECBAgAABAgQIHCIgAB7CPt2HCoDTjeTWB3rm5dd8P/my4yuSvOEWu7dY+IuXddtf9d1+IvBRX9v3v+TyzW3fe2/x/Nsu8ROAt5WyjgABAgQIECBAgAABAgQIdAoIgJ1wxbYJgOcc6Edd/njHp1+O/+ok33TLq2wzf+ryK8M/l+SFN+x7T5JPSvL+JM+9/JThLT+muUwAbBJZQIAAAQIECBAgQIAAAQIExgQEwDG/KrsFwPNN8iOS/HCSP3M5+uuSvObKa3xbki+77Hlpkp9+yP7PSPL2y/++rf/yKz+jtVwAbAn5PgECBAgQIECAAAECBAgQGBQQAAcBi2wXAM81yA+7/Pt9L78c+58m+aqOK3xCkp9J8owk70rysiS/dd9zPjzJTyR5UZLfT7L9mvHPd3zOTVsEwDsG9TgCBAgQIECAAAECBAgQIPCggADondgEBMBzvQdvSvJ5lyP/2CX+bX/841Ffv5vkPz/im/8gyfarw9vXuy+/Qrz924DPT/K3k3za5Xvbum/YgUkA3AHVIwkQIECAAAECBAgQIECAwP0CAqD3QQA83ztwU+x72G1+KcmTj7jmhyb5F0n+2g0M33X5IyD/awcqAXAHVI8kQIAAAQIECBAgQIAAAQICoHfgQQE/AXiud+IuA+DTN//Ll8j34iTbXxb+L0nemWT7C8A/uCOPALgjrkcTIECAAAECBAgQIECAAIFNwE8Aeg82AQHQe3CUgAB4lLzPJUCAAAECBAgQIECAAIFlBATAZUZ940UFQO/BUQIC4FHyPpcAAQIECBAgQIAAAQIElhEQAJcZtQBo1FMKCIBTjsWhCBAgQIAAAQIECBAgQKCSgABYaZr9d/ETgP12do4JCIBjfnYTIECAAAECBAgQIECAAIGmgADYJFpigQC4xJinvKQAOOVYHIoAAQIECBAgQIAAAQIEKgkIgJWm2X8XAbDfzs4xAQFwzM9uAgQIECBAgAABAgQIECDQFBAAm0RLLBAAlxjzlJcUAKcci0MRIECAAAECBAgQIECAQCUBAbDSNPvvIgD229k5JiAAjvnZTYAAAQIECBAgQIAAAQIEmgICYJNoiQUC4BJjnvKSAuCUY3EoAgQIECBAgAABAgQIEKgkIABWmmb/XQTAfjs7xwQEwDE/uwkQIECAAAECBAgQIECAQFNAAGwSLbFAAFxizFNeUgCcciwORYAAAQIECBAgQIAAAQKVBATAStPsv4sA2G9n55iAADjmZzcBAgQIECBAgAABAgQIEGgKCIBNoiUWCIBLjHnKSwqAU47FoQgQIECAAAECBAgQIECgkoAAWGma/XcRAPvt7BwTEADH/OwmQIAAAQIECBAgQIAAAQJNAQGwSbTEAgFwiTFPeUkBcMqxOBQBAgQIECBAgAABAgQIVBIQACtNs/8uAmC/nZ1jAgLgmJ/dBAgQIECAAAECBAgQIECgKSAANomWWCAALjHmKS8pAE45FociQIAAAQIECBAgQIAAgUoCAmClafbfRQDst7NzTEAAHPOzmwABAgQIECBAgAABAgQINAUEwCbREgsEwCXGPOUlBcApx+JQBAgQIECAAAECBAgQIFBJQACsNM3+uwiA/XZ2jgkIgGN+dhMgQIAAAQIECBAgQIAAgaaAANgkWmKBALjEmKe8pAA45VgcigABAgQIECBAgAABAgQqCQiAlabZfxcBsN/OzjEBAXDMz24CBAgQIECAAAECBAgQINAUEACbREssEACXGPOUlxQApxyLQxEgQIAAAQIECBAgQIBAJQEBsNI0++8iAPbb2TkmIACO+dlNgAABAgQIECBAgAABAgSaAgJgk2iJBQLgEmOe8pIC4JRjcSgCBAgQIECAAAECBAgQqCQgAFaaZv9dBMB+OzvHBATAMT+7CRAgQIAAAQIECBAgQIBAU0AAbBItsUAAXGLMU15SAJxyLA5FgAABAgQIECBAgAABApUEBMBK0+y/iwDYb2fnmIAAOOZnNwECBAgQIECAAAECBAgQaAoIgE2iJRYIgEuMecpLCoBTjsWhCBAgQIAAAQIECBAgQKCSgABYaZr9dxEA++3sHBMQAMf87CZAgAABAgQIECBAgAABAk0BAbBJtMQCAXCJMU95SQFwyrE4FAECBAgQIECAAAECBAhUEhAAK02z/y4CYL+dnWMCAuCYn90ECBAgQIAAAQIECBAgQKApIAA2iZZYIAAuMeYpLykATjkWhyJAgAABAgQIECBAgACBSgICYKVp9t9FAOy3s3NMQAAc87ObAAECBAgQIECAAAECBAg0BQTAJtESCwTAJcY85SUFwCnH4lAECBAgQIAAAQIECBAgUElAAKw0zf67CID9dnaOCQiAY352EyBAgAABAgQIECBAgACBpoAA2CRaYoEAuMSYp7ykADjlWByKAAECBAgQIECAAAECBCoJCICVptl/FwGw387OMQEBcMzPbgIECBAgQIAAAQIECBAg0BQQAJtESywQAJcY85SXFACnHItDESBAgAABAgQIECBAgEAlAQGw0jT77yIA9tvZOSYgAI752U2AAAECBAgQIECAAAECBJoCAmCTaIkFAuASY57ykgLglGNxKAIECBAgQIAAAQIECBCoJCAAVppm/10EwH47O8cEBMAxP7sJECBAgAABAgQIECBAgEBTQABsEi2xQABcYsxTXlIAnHIsDkWAAAECBAgQIECAAAEClQQEwErT7L+LANhvZ+eYgAA45mc3AQIECBAgQIAAAQIECBBoCgiATaIlFgiAS4x5yksKgFOOxaEIECBAgAABAgQIECBAoJKAAFhpmv13EQD77ewcExAAx/zsJkCAAAECBAgQIECAAAECTQEBsEm0xAIBcIkxT3lJAXDKsTgUAQIECBAgQIAAAQIECFQSEAArTbP/LgJgv52dYwIC4Jif3QQIECBAgAABAgQIECBAoCkgADaJllggAC4x5ikvKQBOORaHIkCAAAECBAgQIECAAIFKAgJgpWn230UA7Lezc0xAABzzs5sAAQIECBAgQIAAAQIECDQFBMAm0RILBMAlxjzlJQXAKcfiUAQIECBAgAABAgQIECBQSUAArDTN/rsIgP12do4JCIBjfnYTIECAAAECBAgQIECAAIGmgADYJFpigQC4xJinvKQAOOVYHIoAAQIECBAgQIAAAQIEKgkIgJWm2X8XAbDfzs4xAQFwzM9uAgQIECBAgAABAgQIECDQFBAAm0RLLBAAlxjzlJcUAKcci0MRIECAAAECBAgQIECAQCUBAbDSNPvvIgD229k5JiAAjvnZTYAAAQIECBAgQIAAAQIEmgICYJNoiQUC4BJjnvKSAuCUY3EoAgQIECBAgAABAgQIEKgkIABWmmb/XQTAfjs7xwQEwDE/uwkQIECAAAECBAgQIECAQFNAAGwSLbFAAFxizFNeUgCcciwORYAAAQIECBAgQIAAAQKVBATAStPsv4sA2G9n55iAADjmZzcBAgQIECBAgAABAgQIEGgKCIBNoiUWCIBLjHnKSwqAU47FoQgQIECAAAECBAgQIECgkoAAWGma/XcRAPvt7BwTEADH/OwmQIAAAQIECBAgQIAAAQJNAQGwSbTEAgFwiTFPeUkBcMqxOBQBAgQIECBAgAABAgQIVBIQACtNs/8uAmC/nZ1jAgLgmJ/dBAgQIECAAAECBAgQIECgKSAANomWWCAALjHmKS8pAE45FociQIAAAQIECBAgQIAAgUoCAmClafbfRQDst7NzTEAAHPOzmwABAgQIECBAgAABAgQINAUEwCbREgsEwCXGPOUlBcApx+JQBAgQIECAAAECBAgQIFBJQACsNM3+uwiA/XZ2jgkIgGN+dhMgQIAAAQIECBAgQIAAgaaAANgkWmKBALjEmKe8pAA45VgcigABAgQIECBAgAABAgQqCQiAlabZfxcBsN/OzjEBAXDMz24CBAgQIECAAAECBAgQINAUEACbREssEACXGPOUlxQApxyLQxEgQIAAAQIECBAgQIBAJQEBsNI0++8iAPbb2TkmIACO+dlNgAABAgQIECBAgAABAgSaAgJgk2iJBQLgEmOe8pIC4JRjcSgCBAgQIECAAAECBAgQqCQgAFaaZv9dBMB+OzvHBATAMT+7CRAgQIAAAQIECBAgQIBAU0AAbBItsUAAXGLMU15SAJxyLA5FgAABAgQIECBAgAABApUEBMBK0+y/iwDYb2fnmIAAOOZnNwECBAgQIECAAAECBAgQaAoIgE2iJRYIgEuMecpLCoBTjsWhCBAgQIAAAQIECBAgQKCSgABYaZr9dxEA++3sHBMQAMf87CZAgAABAgQIECBAgAABAk0BAbBJtMQCAXCJMU95SQFwyrE4FAECBAgQIECAAAECBAhUEhAAK02z/y4CYL+dnWMCAuCYn90ECBAgQIAAAQIECBAgQKApIAA2iZZYIAAuMeYpLykATjkWhyJAgAABAgQIECBAgACBSgICYKVp9t9FAOy3s3NMQAAc87ObAAECBAgQIECAAAECBAg0BQTAJtESCwTAJcY85SUFwCnH4lAECBAgQIAAAQIECBAgUElAAKw0zf67CID9dnaOCQiAY352EyBAgAABAgQIECBAgACBpoAA2CRaYoEAuMSYp7ykADjlWByKAAECBAgQIECAAAECBCoJCICVptl/FwGw387OMQEBcMzPbgIECBAgQIAAAQIECBAg0BQQAJtESywQAJcY85SXFACnHItDESBAgAABAgQIECBAgEAlAQGw0jT77yIA9tvZOSYgAI752U2AAAECBAgQIECAAAECBJoCAmCTaIkFAuASY57ykgLglGNxKAIECBAgQIAAAQIECBCoJCAAVppm/10EwH47O8cEBMAxP7sJECBAgAABAgQIECBAgEBTQABsEi2xQABcYsxTXlIAnHIsDkWAAAECBAgQIECAAAEClQQEwErT7L+LANhvZ+eYgAA45mc3AQIECBAgQIAAAQIECBBoCgiATaIlFgiAS4x5yksKgFOOxaEIECBAgAABAgQIECBAoJKAAFhpmv13EQD77ewcExAAx/zsJkCAAAECBAgQIECAAAECTQEBsEm0xAIBcIkxT3lJAXDKsTgUAQIECBAgQIAAAQIECFQSEAArTbP/LgJgv52dYwIC4Jif3QQIECBAgAABAgQIECBAoCkgADaJllggAC4x5ikvKQBOORaHIkCAAAECBAgQIECAAIFKAgJgpWn230UA7Lezc0xAABzzs5sAAQIECBAgQIAAAQIECDQFBMAm0RILBMAlxjzlJQXAKcfiUAQIECBAgAABAgQIECBQSUAArDTN/rsIgP12do4JCIBjfnYTIECAAAECBAgQIECAAIGmgADYJFpigQC4xJinvKQAOOVYHIoAAQIECBAgQIAAAQIEKgkIgJWm2X8XAbDfzs4xAQFwzM9uAgQIECBAgAABAgQIECDQFBAAm0RLLBAAlxjzlJcUAKcci0MRIECAAAECBAgQIECAQCUBAbDSNPvvIgD229k5JiAAjvnZTYAAAQIECBAgQIAAAQIEmgICYJNoiQUC4BJjnvKSAuCUY3EoAgQIECBAgAABAgQIEKgkIABWmmb/XQTAfjs7xwQEwDE/uwkQIECAAAECBAgQIECAQFNAAGwSLbFAAFxizFNeUgCcciwORYAAAQIECBAgQIAAAQKVBATAStPsv4sA2G9n55iAADjmZzcBAgQIECBAgAABAgQIEGgKCIBNoiUWCIBLjHnKSwqAU47FoQgQIECAAAECBAgQIECgkoAAWGma/XcRAPvt7BwTEADH/OwmQIAAAQIECBAgQIAAAQJNAQGwSbTEAgFwiTFPeUkBcMqxOBQBAgQIECBAgAABAgQIVBIQACtNs/8uAmC/nZ1jAgLgmJ/dBAgQIECAAAECBAgQIECgKSAANomWWCAALjHmKS8pAE45FociQIAAAQIECBAgQIAAgUoCAmClafbfRQDst7NzTEAAHPOzmwABAgQIECBAgAABAgQINAUEwCbREgsEwCXGPOUlBcApx+JQBAgQIECAAAECBAgQIFBJQACsNM3+uwiA/XZ2jgkIgGN+dhMgQIAAAQIECBAgQIAAgaaAANgkWmKBALjEmKe8pAA45VgcigABAgQIECBAgAABAgQqCQiAlabZfxcBsN/OzjEBAXDMz24CBAgQIECAAAECBAgQINAUEACbREssEACXGPOUlxQApxyLQxEgQIAAAQIECBAgQIBAJQEBsNI0++8iAPbb2TkmIACO+dlNgAABAgQIECBAgAABAgSaAgJgk2iJBQLgEmOe8pIC4JRjcSgCBAgQIECAAAECBAgQqCQgAFaaZv9dBMB+OzvHBATAMT+7CRAgQIAAAQIECBAgQIBAU0AAbBItsUAAXGLMU15SAJxyLA5FgAABAgQIECBAgAABApUEBMBK0+y/iwDYb2fnmIAAOOZnNwECBAgQIECAAAECBAgQaAoIgE2iJRYIgEuMecpLCoBTjsWhCBAgQIAAAQIECBAgQKCSgABYaZr9dxEA++2O2vnsJC+5/PfiJNt/f/xymH+V5ItucbBtzb+8xbptyRcn+e5brr1mmQB4jZa1BAgQIECAAAECBAgQIECgQ0AA7EAruEUAPN9QP3jDkQXAxzDPJ1/9llt/yvte/4pbr7WQAAECBAgQIECAAAECBAjctYAAeNei53yeAHi+ud0fAO8leU+Sl1+u0RMAPzvJr9zA8FSS/74Dk58A3AHVIwkQIECAAAECBAgQIECAwP0CAqD3YRMQAM/3HvzdJO+8/PfrSZ5M8t6BAPjxSd53AIMAeAC6jyRAgAABAgQIECBAgACBtQQEwLXm/ajbCoDnfw8EwMc8Q78C/JjBfRwBAgQIECBAgAABAgQIdAsIgN10pTYKgOcfpwD4mGcoAD5mcB9HgAABAgQIECBAgAABAt0CAmA3XamNAuD5xykAPuYZCoCPGdzHESBAgAABAgQIECBAgEC3gADYTVdqowB4/nGOBsC3JXlhko9O8j+S/EKStyb59iTv35HHvwG4I65HEyBAgAABAgQIECBAgACBTUAA9B5sAgLg+d+D0QD4KIHfTvJVSb6jk2gLfDd9fczlD5nk3r17eeKJ1vLOU+ywzU8A7oDqkQQIECBAgAABAgQIECCwi4AAuAvr6R4qAJ5uZP/fgXsD4GuTfF+Stye5d3nq85J8fpJX3ReH/0aSN3YwffC2ewTA20pZR4AAAQIECBAgQIAAAQIErhMQAK/zqrpaADz/ZHsC4Eddft33UZHulZc4+IeT/GaS5yf5tSupBMAk73v9K65ks5wAAQIECBAgQIAAAQIECNydgAB4d5ZnfpIAeObp/d+z9wTA29z67yT5xsvC1yR53W023bem9Tu9fgX4SlDLCRAgQIAAAQIECBAgQIDAtQIC4LViNdcLgOef614B8NmXn/rb3pEfSfLyO6byR0DuGNTjCBAgQIAAAQIECBAgQIDAgwICoHdiExAAz/8e7BUAN5nfSPKsJD+b5FPumEoAvGNQjyNAgAABAgQIECBAgAABAgKgd+BhAgLg+d+LPQPgB5I8UwD8f18SfwX4/P+fxg0IECBAgAABAgQIECCwioCfAFxl0jffUwA8/3uwVwC8/1eA35rks+6Yyk8A3jGoxxEgQIAAAQIECBAgQIAAgQcFBEDvxCYgAJ7/PdgrAG5/+OPvX3hee98fBLkrMQHwriQ9hwABAgQIECBAgAABAgQIPEJAAPRqCIA13oFrA+C2/qOTvPuG678yyZuSfFiS307ygiTvv2MuAfCOQT2OAAECBAgQIECAAAECBAg8KCAAeicEwHO+A3/2EuSePv32b/R9y+X/+Kkk3/nAtb77gf/7LyT58SRvT/LmJP/x8sc+tp8GfV6SV13+e/qnQ78iyRt2oBIAd0D1SAIECBAgQIAAAQIECBAgcL+AAOh9EADP+Q5sQe8Lrzj6g7/m/XQAbD3iN5N8dZI3thZ2fl8A7ISzjQABAgQIECBAgAABAgQI3FZAALytVO11/g3A8813NAD+0SSfm+SlSV6U5DmXv/T7jCT/LcnPJPnRy08S/saOPALgjrgeTYAAAQIECBAgQIAAAQIENgEB0HuwCQiA3oOjBATAo+R9LgECBAgQIECAAAECBAgsIyAALjPqGy8qAHoPjhIQAI+S97kECBAgQIAAAQIECBAgsIyAALjMqAVAo55SQACcciwORYAAAQIECBAgQIAAAQKVBATAStPsv4ufAOy3s3NMQAAc87ObAAECBAgQIECAAAECBAg0BQTAJtESCwTAJcY85SUFwCnH4lAECBAgQIAAAQIECBAgUElAAKw0zf67CID9dnaOCQiAY352EyBAgAABAgQIECBAgACBpoAA2CRaYoEAuMSYp7ykADjlWByKAAECBAgQIECAAAECBCoJCICVptl/FwGw387OMQEBcMzPbgIECBAgQIAAAQIECBAg0BQQAJtESywQAJcY85SXFACnHItDESBAgAABAgQIECBAgEAlAQGw0jT77yIA9tvZOSYgAI752U2AAAECBAgQIECAAAECBJoCAmCTaIkFAuASY57ykgLglGNxKAIECBAgQIAAAQIECBCoJCAAVppm/10EwH47O8cEBMAxP7sJECBAgAABAgQIECBAgEBTQABsEi2xQABcYsxTXlIAnHIsDkWAAAECBAgQIECAAAEClQQEwErT7L+LANhvZ+eYgAA45mc3AQIECBAgQIAAAQIECBBoCgiATaIlFgiAS4x5yksKgFOOxaEIECBAgAABAgQIECBAoJKAAFhpmv13EQD77ewcExAAx/zsJkCAAAECBAgQIECAAAEC/eDzCgAAIABJREFUTQEBsEm0xAIBcIkxT3lJAXDKsTgUAQIECBAgQIAAAQIECFQSEAArTbP/LgJgv52dYwIC4Jif3QQIECBAgAABAgQIECBAoCkgADaJllggAC4x5ikvKQBOORaHIkCAAAECBAgQIECAAIFKAgJgpWn230UA7Lezc0xAABzzs5sAAQIECBAgQIAAAQIECDQFBMAm0RILBMAlxjzlJQXAKcfiUAQIECBAgAABAgQIECBQSUAArDTN/rsIgP12do4JCIBjfnYTIECAAAECBAgQIECAAIGmgADYJFpigQC4xJinvKQAOOVYHIoAAQIECBAgQIAAAQIEKgkIgJWm2X8XAbDfzs4xAQFwzM9uAgQIECBAgAABAgQIECDQFBAAm0RLLBAAlxjzlJcUAKcci0MRIECAAAECBAgQIECAQCUBAbDSNPvvIgD229k5JiAAjvnZTYAAAQIECBAgQIAAAQIEmgICYJNoiQUC4BJjnvKSAuCUY3EoAgQIECBAgAABAgQIEKgkIABWmmb/XQTAfjs7xwQEwDE/uwkQIECAAAECBAgQIECAQFNAAGwSLbFAAFxizFNeUgCcciwORYAAAQIECBAgQIAAAQKVBATAStPsv4sA2G9n55iAADjmZzcBAgQIECBAgAABAgQIEGgKCIBNoiUWCIBLjHnKSwqAU47FoQgQIECAAAECBAgQIECgkoAAWGma/XcRAPvt7BwTEADH/OwmQIAAAQIECBAgQIAAAQJNAQGwSbTEAgFwiTFPeUkBcMqxOBQBAgQIECBAgAABAgQIVBIQACtNs/8uAmC/nZ1jAgLgmJ/dBAgQIECAAAECBAgQIECgKSAANomWWCAALjHmKS8pAE45FociQIAAAQIECBAgQIAAgUoCAmClafbfRQDst7NzTEAAHPOzmwABAgQIECBAgAABAgQINAUEwCbREgsEwCXGPOUlBcApx+JQBAgQIECAAAECBAgQIFBJQACsNM3+uwiA/XZ2jgkIgGN+dhMgQIAAAQIECBAgQIAAgaaAANgkWmKBALjEmKe8pAA45VgcigABAgQIECBAgAABAgQqCQiAlabZfxcBsN/OzjEBAXDMz24CBAgQIECAAAECBAgQINAUEACbREssEACXGPOUlxQApxyLQxEgQIAAAQIECBAgQIBAJQEBsNI0++8iAPbb2TkmIACO+dlNgAABAgQIECBAgAABAgSaAgJgk2iJBQLgEmOe8pIC4JRjcSgCBAgQIECAAAECBAgQqCQgAFaaZv9dBMB+OzvHBATAMT+7CRAgQIAAAQIECBAgQIBAU0AAbBItsUAAXGLMU15SAJxyLA5FgAABAgQIECBAgAABApUEBMBK0+y/iwDYb2fnmIAAOOZnNwECBAgQIECAAAECBAgQaAoIgE2iJRYIgEuMecpLCoBTjsWhCBAgQIAAAQIECBAgQKCSgABYaZr9dxEA++3sHBMQAMf87CZAgAABAgQIECBAgAABAk0BAbBJtMQCAXCJMU95SQFwyrE4FAECBAgQIECAAAECBAhUEhAAK02z/y4CYL+dnWMCAuCYn90ECBAgQIAAAQIECBAgQKApIAA2iZZYIAAuMeYpLykATjkWhyJAgAABAgQIECBAgACBSgICYKVp9t9FAOy3s3NMQAAc87ObAAECBAgQIECAAAECBAg0BQTAJtESCwTAJcY85SUFwCnH4lAECBAgQIAAAQIECBAgUElAAKw0zf67CID9dnaOCQiAY352EyBAgAABAgQIECBAgACBpoAA2CRaYoEAuMSYp7ykADjlWByKAAECBAgQIECAAAECBCoJCICVptl/FwGw387OMQEBcMzPbgIECBAgQIAAAQIECBAg0BQQAJtESywQAJcY85SXFACnHItDESBAgAABAgQIECBAgEAlAQGw0jT77yIA9tvZOSYgAI752U2AAAECBAgQIECAAAECBJoCAmCTaIkFAuASY57ykgLglGNxKAIECBAgQIAAAQIECBCoJCAAVppm/10EwH47O8cEBMAxP7sJECBAgAABAgQIECBAgEBTQABsEi2xQABcYsxTXlIAnHIsDkWAAAECBAgQIECAAAEClQQEwErT7L+LANhvZ+eYgAA45mc3AQIECBAgQIAAAQIECBBoCgiATaIlFgiAS4x5yksKgFOOxaEIECBAgAABAgQIECBAoJKAAFhpmv13EQD77ewcExAAx/zsJkCAAAECBAgQIECAAAECTQEBsEm0xAIBcIkxT3lJAXDKsTgUAQIECBAgQIAAAQIECFQSEAArTbP/LgJgv52dYwIC4Jif3QQIECBAgAABAgQIECBAoCkgADaJllggAC4x5ikvKQBOORaHIkCAAAECBAgQIECAAIFKAgJgpWn230UA7Lezc0xAABzzs5sAAQIECBAgQIAAAQIECDQFBMAm0RILBMAlxjzlJQXAKcfiUAQIECBAgAABAgQIECBQSUAArDTN/rsIgP12do4JCIBjfnYTIECAAAECBAgQIECAAIGmgADYJFpigQC4xJinvKQAOOVYHIoAAQIECBAgQIAAAQIEKgkIgJWm2X8XAbDfzs4xAQFwzM9uAgQIECBAgAABAgQIECDQFBAAm0RLLBAAlxjzlJcUAKcci0MRIECAAAECBAgQIECAQCUBAbDSNPvvIgD229k5JiAAjvnZTYAAAQIECBAgQIAAAQIEmgICYJNoiQUC4BJjnvKSAuCUY3EoAgQIECBAgAABAgQIEKgkIABWmmb/XQTAfjs7xwQEwDE/uwkQIECAAAECBAgQIECAQFNAAGwSLbFAAFxizFNeUgCcciwORYAAAQIECBAgQIAAAQKVBATAStPsv4sA2G9n55iAADjmZzcBAgQIECBAgAABAgQIEGgKCIBNoiUWCIBLjHnKSwqAU47FoQgQIECAAAECBAgQIECgkoAAWGma/XcRAPvt7BwTEADH/OwmQIAAAQIECBAgQIAAAQJNAQGwSbTEAgFwiTFPeUkBcMqxOBQBAgQIECBAgAABAgQIVBIQACtNs/8uAmC/nZ1jAgLgmJ/dBAgQIECAAAECBAgQIECgKSAANomWWCAALjHmKS8pAE45FociQIAAAQIECBAgQIAAgUoCAmClafbfRQDst7NzTEAAHPOzmwABAgQIECBAgAABAgQINAUEwCbREgsEwCXGPOUlBcApx+JQBAgQIECAAAECBAgQIFBJQACsNM3+uwiA/XZ2jgkIgGN+dhMgQIAAAQIECBAgQIAAgaaAANgkWmKBALjEmKe8pAA45VgcigABAgQIECBAgAABAgQqCQiAlabZfxcBsN/OzjEBAXDMz24CBAgQIECAAAECBAgQINAUEACbREssEACXGPOUlxQApxyLQxEgQIAAAQIECBAgQIBAJQEBsNI0++8iAPbb2TkmIACO+dlNgAABAgQIECBAgAABAgSaAgJgk2iJBQLgEmOe8pIC4JRjcSgCBAgQIECAAAECBAgQqCQgAFaaZv9dBMB+OzvHBATAMT+7CRAgQIAAAQIECBAgQIBAU0AAbBItsUAAXGLMU15SAJxyLA5FgAABAgQIECBAgAABApUEBMBK0+y/iwDYb2fnmIAAOOZnNwECBAgQIECAAAECBAgQaAoIgE2iJRYIgEuMecpLCoBTjsWhCBAgQIAAAQIECBAgQKCSgABYaZr9dxEA++3sHBMQAMf87CZAgAABAgQIECBAgAABAk0BAbBJtMQCAXCJMU95SQFwyrE4FAECBAgQIECAAAECBAhUEhAAK02z/y4CYL+dnWMCAuCYn90ECBAgQIAAAQIECBAgQKApIAA2iZZYIAAuMeYpLykATjkWhyJAgAABAgQIECBAgACBSgICYKVp9t9FAOy3s3NMQAAc87ObAAECBAgQIECAAAECBAg0BQTAJtESCwTAJcY85SUFwCnH4lAECBAgQIAAAQIECBAgUElAAKw0zf67CID9dnaOCQiAY352EyBAgAABAgQIECBAgACBpoAA2CRaYoEAuMSYp7ykADjlWByKAAECBAgQIECAAAECBCoJCICVptl/FwGw387OMQEBcMzPbgIECBAgQIAAAQIECBAg0BQQAJtESywQAJcY85SXFACnHItDESBAgAABAgQIECBAgEAlAQGw0jT77yIA9tvZOSYgAI752U2AAAECBAgQIECAAAECBJoCAmCTaIkFAuASY57ykgLglGNxKAIECBAgQIAAAQIECBCoJCAAVppm/10EwH47O8cEBMAxP7sJECBAgAABAgQIECBAgEBTQABsEi2xQABcYsxTXlIAnHIsDkWAAAECBAgQIECAAAEClQQEwErT7L+LANhvZ+eYgAA45mc3AQIECBAgQIAAAQIECBBoCgiATaIlFgiAS4x5yksKgFOOxaEIECBAgAABAgQIECBAoJKAAFhpmv13EQD77ewcExAAx/zsJkCAAAECBAgQIECAAAECTQEBsEm0xAIBcIkxT3lJAXDKsTgUAQIECBAgQIAAAQIECFQSEAArTbP/LgJgv52dYwIC4Jif3QQIECBAgAABAgQIECBAoCkgADaJllggAC4x5ikvKQBOORaHIkCAAAECBAgQIECAAIFKAgJgpWn230UA7Lezc0xAABzzs5sAAQIECBAgQIAAAQIECDQFBMAm0RILBMAlxjzlJQXAKcfiUAQIECBAgAABAgQIECBQSUAArDTN/rsIgP12do4JCIBjfnYTIECAAAECBAgQIECAAIGmgADYJFpigQC4xJinvKQAOOVYHIoAAQIECBAgQIAAAQIEKgkIgJWm2X8XAbDfzs4xAQFwzM9uAgQIECBAgAABAgQIECDQFBAAm0RLLBAAlxjzlJcUAKcci0MRIECAAAECBAgQIECAQCUBAbDSNPvvIgD229k5JiAAjvnZTYAAAQIECBAgQIAAAQIEmgICYJNoiQUC4BJjnvKSAuCUY3EoAgQIECBAgAABAgQIEKgkIABWmmb/XQTAfjs7xwQEwDE/uwkQIECAAAECBAgQIECAQFNAAGwSLbFAAFxizFNeUgCcciwORYAAAQIECBAgQIAAAQKVBATAStPsv4sA2G9n55iAADjmZzcBAgQIECBAgAABAgQIEGgKCIBNoiUWCIDnG/Ozk7zk8t+Lk2z//fHLNf5Vki+68kqfk+RLLs97VpIPJHlHkjcm+aErn3XNcgHwGi1rCRAgQIAAAQIECBAgQIBAh4AA2IFWcIsAeL6hfvCGI18TALfZ//NL/HvUI7cI+KVJbvrMXkEBsFfOPgIECBAgQIAAAQIECBAgcEsBAfCWUMWXCYDnG/D9Me5ekvckefnlGtcEwNcl+YbLvncn+eYkv5jk+Um+PsmnXb63rXvNDkwC4A6oHkmAAAECBAgQIECAAAECBO4XEAC9D5uAAHi+9+DvJnnn5b9fT/JkkvdeGQBfcAmHz0jyriQvS/Jb91F8RJK3JXlRkt9P8kmXOHiXWgLgXWp6FgECBAgQIECAAAECBAgQeIiAAOi1EABrvAM9AfANSf7m5fovTfLTD6H4jCRvv/zv35rkb90xlwB4x6AeR4AAAQIECBAgQIAAAQIEHhQQAL0TAmCNd+DaALj91Of2q8Mfl+TnkrzwBobt+5+Y5Kkkf+KO/y1AAbDG++cWBAgQIECAAAECBAgQIDCxgAA48XAe49H8CvBjxN7po64NgM+779d5v+PyRz4edbTt+9tfCN6+tn1P/6rxXVxFALwLRc8gQIAAAQIECBAgQIAAAQI3CAiAXo9NQAA8/3twbQB8RZLvv1z7q5P8kxsItu//48v3t30/cIdcAuAdYnoUAQIECBAgQIAAAQIECBB4mIAA6L0QAGu8A9cGwC9N8u2Xq39Bkn97A8Orknzv5fvbvu0nAm/7tQW+m74+5vKHTHLv3r088URr+W0/dv91T776Lbf+kPe9fuumvggQIECAAAECBAgQIECAwDECAuAx7rN9qp8AnG0i15/n2gD4dUm++fIxfynJD93wkdv3n/6pv69N8o+uON4Hb7tWALytlHUECBAgQIAAAQIECBAgQOA6AQHwOq+qqwXA80/22gD42iR/73Ltz0zyYzcQ/MUkP3r5/rbvG6/gEgCT+AnAK94YSwkQIECAAAECBAgQIEDgzgUEwDsnPeUDBcBTju3/OfS1AfBx/QRg63d6/Qrw+d89NyBAgAABAgQIECBAgACByQUEwMkH9JiOJwA+JugdP+baAPi4/g3A1pX9EZCWkO8TIECAAAECBAgQIECAAIFBAQFwELDIdgHw/IO8NgC+MsmbL9f2V4A75u+PgHSg2UKAAAECBAgQIECAAAEChwgIgIewT/ehAuB0I7n6QNcGwOcl+cXLp2x/1Xf7icBHfW3f/5LLN7d97736dI/e4CcA7xDTowgQIECAAAECBAgQIECAwMMEBEDvxSYgAJ7/Pbg2AG4zfyrJxyb5uSQvvIHgPUk+Kcn7kzw3ya3/sMctWAXAWyBZQoAAAQIECBAgQIAAAQIERgQEwBG9OnsFwPPP8toAuN3425J82eXqL03y0w9h+Iwkb7/879v6L79jKgHwjkE9jgABAgQIECBAgAABAgQIPCggAHonNgEB8PzvQU8A/IQkP5PkGUneleRlSX7rPooPT/ITSV6U5PeTfHKSn79jKgHwjkE9jgABAgQIECBAgAABAgQICIDegYcJCIDney/+bJIX3HfsZyb5lsv//VNJvvOBK333I674D5K8+vK9dyf5psu/Dfj8JH87yaddvret+4YdmATAHVA9kgABAgQIECBAgAABAgQI3C/gJwC9D5uAAHi+92ALel94xbEfNeMPTfIvkvy1G571XZc/AvK/rvi82y4VAG8rZR0BAgQIECBAgAABAgQIEOgUEAA74YptEwDPN9C7CoBP3/wvXyLfi5NsP034X5K8M8n2F4B/cEceAXBHXI8mQIAAAQIECBAgQIAAAQKbgADoPdgEBEDvwVECAuBR8j6XAAECBAgQIECAAAECBJYREACXGfWNFxUAvQdHCQiAR8n7XAIECBAgQIAAAQIECBBYRkAAXGbUAqBRTykgAE45FociQIAAAQIECBAgQIAAgUoCAmClafbfxU8A9tvZOSYgAI752U2AAAECBAgQIECAAAECBJoCAmCTaIkFAuASY57ykgLglGNxKAIECBAgQIAAAQIECBCoJCAAVppm/10EwH47O8cEBMAxP7sJECBAgAABAgQIECBAgEBTQABsEi2xQABcYsxTXlIAnHIsDkWAAAECBAgQIECAAAEClQQEwErT7L+LANhvZ+eYgAA45mc3AQIECBAgQIAAAQIECBBoCgiATaIlFgiAS4x5yksKgFOOxaEIECBAgAABAgQIECBAoJKAAFhpmv13EQD77ewcExAAx/zsJkCAAAECBAgQIECAAAECTQEBsEm0xAIBcIkxT3lJAXDKsTgUAQIECBAgQIAAAQIECFQSEAArTbP/LgJgv52dYwIC4Jif3QQIECBAgAABAgQIECBAoCkgADaJllggAC4x5ikvKQBOORaHIkCAAAECBAgQIECAAIFKAgJgpWn230UA7Lezc0xAABzzs5sAAQIECBAgQIAAAQIECDQFBMAm0RILBMAlxjzlJQXAKcfiUAQIECBAgAABAgQIECBQSUAArDTN/rsIgP12do4JCIBjfnYTIECAAAECBAgQIECAAIGmgADYJFpigQC4xJinvKQAOOVYHIoAAQIECBAgQIAAAQIEKgkIgJWm2X8XAbDfzs4xAQFwzM9uAgQIECBAgAABAgQIECDQFBAAm0RLLBAAlxjzlJcUAKcci0MRIECAAAECBAgQIECAQCUBAbDSNPvvIgD229k5JiAAjvnZTYAAAQIECBAgQIAAAQIEmgICYJNoiQUC4BJjnvKSAuCUY3EoAgQIECBAgAABAgQIEKgkIABWmmb/XQTAfjs7xwQEwDE/uwkQIECAAAECBAgQIECAQFNAAGwSLbFAAFxizFNeUgCcciwORYAAAQIECBAgQIAAAQKVBATAStPsv4sA2G9n55iAADjmZzcBAgQIECBAgAABAgQIEGgKCIBNoiUWCIBLjHnKSwqAU47FoQgQIECAAAECBAgQIECgkoAAWGma/XcRAPvt7BwTEADH/OwmQIAAAQIECBAgQIAAAQJNAQGwSbTEAgFwiTFPeUkBcMqxOBQBAgQIECBAgAABAgQIVBIQACtNs/8uAmC/nZ1jAgLgmJ/dBAgQIECAAAECBAgQIECgKSAANomWWCAALjHmKS8pAE45FociQIAAAQIECBAgQIAAgUoCAmClafbfRQDst7NzTEAAHPOzmwABAgQIECBAgAABAgQINAUEwCbREgsEwCXGPOUlBcApx+JQBAgQIECAAAECBAgQIFBJQACsNM3+uwiA/XZ2jgkIgGN+dhMgQIAAAQIECBAgQIAAgaaAANgkWmKBALjEmKe8pAA45VgcigABAgQIECBAgAABAgQqCQiAlabZfxcBsN/OzjEBAXDMz24CBAgQIECAAAECBAgQINAUEACbREssEACXGPOUlxQApxyLQxEgQIAAAQIECBAgQIBAJQEBsNI0++8iAPbb2TkmIACO+dlNgAABAgQIECBAgAABAgSaAgJgk2iJBQLgEmOe8pIC4JRjcSgCBAgQIECAAAECBAgQqCQgAFaaZv9dBMB+OzvHBATAMT+7CRAgQIAAAQIECBAgQIBAU0AAbBItsUAAXGLMU15SAJxyLA5FgAABAgQIECBAgAABApUEBMBK0+y/iwDYb2fnmIAAOOZnNwECBAgQIECAAAECBAgQaAoIgE2iJRYIgEuMecpLCoBTjsWhCBAgQIAAAQIECBAgQKCSgABYaZr9dxEA++3sHBMQAMf87CZAgAABAgQIECBAgAABAk0BAbBJtMQCAXCJMU95SQFwyrE4FAECBAgQIECAAAECBAhUEhAAK02z/y4CYL+dnWMCAuCYn90ECBAgQIAAAQIECBAgQKApIAA2iZZYIAAuMeYpLykATjkWhyJAgAABAgQIECBAgACBSgICYKVp9t9FAOy3s3NMQAAc87ObAAECBAgQIECAAAECBAg0BQTAJtESCwTAJcY85SUFwCnH4lAECBAgQIAAAQIECBAgUElAAKw0zf67CID9dnaOCQiAY352EyBAgAABAgQIECBAgACBpoAA2CRaYoEAuMSYp7ykADjlWByKAAECBAgQIECAAAECBCoJCICVptl/FwGw387OMQEBcMzPbgIECBAgQIAAAQIECBAg0BQQAJtESywQAJcY85SXFACnHItDESBAgAABAgQIECBAgEAlAQGw0jT77yIA9tvZOSYgAI752U2AAAECBAgQIECAAAECBJoCAmCTaIkFAuASY57ykgLglGNxKAIECBAgQIAAAQIECBCoJCAAVppm/10EwH47O8cEBMAxP7sJECBAgAABAgQIECBAgEBTQABsEi2xQABcYsxTXlIAnHIsDkWAAAECBAgQIECAAAEClQQEwErT7L+LANhvZ+eYgAA45mc3AQIECBAgQIAAAQIECBBoCgiATaIlFgiAS4x5yksKgFOOxaEIECBAgAABAgQIECBAoJKAAFhpmv13EQD77ewcExAAx/zsJkCAAAECBAgQIECAAAECTQEBsEm0xAIBcIkxT3lJAXDKsTgUAQIECBAgQIAAAQIECFQSEAArTbP/LgJgv52dYwIC4Jif3QQIECBAgAABAgQIECBAoCkgADaJllggAC4x5ikvKQBOORaHIkCAAAECBAgQIECAAIFKAgJgpWn230UA7Lezc0xAABzzs5sAAQIECBAgQIAAAQIECDQFBMAm0RILBMAlxjzlJQXAKcfiUAQIECBAgAABAgQIECDwv9u7D2h7urI+wO+yY0FUFLAg1oglioWgUcTYErAkGl2YYixoiEYwUQwSFTURDCYmMYq9a1RQY0NiQaygYENR0aCiKCA2jBQR1KyXNYcc7nfunbKn7Jn9zFrfUv5375m9n3fOOXN+Z8qRBASAR6rm9LkIAKfb6VkmIAAs89ObAAECBAgQIECAAAECBAj0CggAe4maaCAAbKLMVU5SAFhlWQyKAAECBAgQIECAAAECBI4kIAA8UjWnz0UAON1OzzIBAWCZn94ECBAgQIAAAQIECBAgQKBXQADYS9REAwFgE2WucpICwCrLYlAECBAgQIAAAQIECBAgcCQBAeCRqjl9LgLA6XZ6lgkIAMv89CZAgAABAgQIECBAgAABAr0CAsBeoiYaCACbKHOVkxQAVlkWgyJAgAABAgQIECBAgACBIwkIAI9UzelzEQBOt9OzTEAAWOanNwECBAgQIECAAAECBAgQ6BUQAPYSNdFAANhEmaucpACwyrIYFAECBAgQIECAAAECBAgcSUAAeKRqTp+LAHC6nZ5lAgLAMj+9CRAgQIAAAQIECBAgQIBAr4AAsJeoiQYCwCbKXOUkBYBVlsWgCBAgQIAAAQIECBAgQOBIAgLAI1Vz+lwEgNPt9CwTEACW+elNgAABAgQIECBAgAABAgR6BQSAvURNNBAANlHmKicpAKyyLAZFgAABAgQIECBAgAABAkcSEAAeqZrT5yIAnG6nZ5mAALDMT28CBAgQIECAAAECBAgQINArIADsJWqigQCwiTJXOUkBYJVlMSgCBAgQIECAAAECBAgQOJKAAPBI1Zw+FwHgdDs9ywSaCADHEj3t8+81tov2BAgQIECAAAECBAgQIEDgWgEBoJ0jBQSA9oOtBASAF+QFgFvtjrZLgAABAgQIECBAgACBYwoIAI9Z17GzEgCOFdN+LgEBoABwrn3JeggQIECAAAECBAgQIEDgGgEBoF0jBQSA9oOtBASAAsCt9j3bJUCAAAECBAgQIECAQDMCAsBmSn3jRAWA9oOtBASAAsCt9j3bJUCAAAECBAgQIEBm9iucAAAgAElEQVSAQDMCAsBmSi0AVOoqBQSAAsAqd0yDIkCAAAECBAgQIECAwJEEBIBHqub0uTgDcLqdnmUCAkABYNkepDcBAgQIECBAgAABAgQI9AoIAHuJmmggAGyizFVOUgAoAKxyxzQoAgQIECBAgAABAgQIHElAAHikak6fiwBwup2eZQICQAFg2R6kNwECBAgQIECAAAECBAj0CggAe4maaCAAbKLMVU5SACgArHLHNCgCBAgQIECAAAECBAgcSUAAeKRqTp+LAHC6nZ5lAgJAAWDZHqQ3AQIECBAgQIAAAQIECPQKCAB7iZpoIABsosxVTlIAKACscsc0KAIECBAgQIAAAQIECBxJQAB4pGpOn4sAcLqdnmUCAkABYNkepDcBAgQIECBAgAABAgQI9AoIAHuJmmggAGyizFVOUgAoAKxyxzQoAgQIECBAgAABAgQIHElAAHikak6fiwBwup2eZQICQAFg2R6kNwECBAgQIECAAAECBAj0CggAe4maaCAAbKLMVU5SACgArHLHNCgCBAgQIECAAAECBAgcSUAAeKRqTp+LAHC6nZ5lAgJAAWDZHqQ3AQIECBAgQIAAAQIECPQKCAB7iZpoIABsosxVTlIAKACscsc0KAIECBAgQIAAAQIECBxJQAB4pGpOn4sAcLqdnmUCAkABYNkepDcBAgQIECBAgAABAgQI9AoIAHuJmmggAGyizFVOUgAoAKxyxzQoAgQIECBAgAABAgQIHElAAHikak6fiwBwup2eZQICQAFg2R6kNwECBAgQIECAAAECBAj0CggAe4maaCAAbKLMVU5SACgArHLHNCgCBAgQIECAAAECBAgcSUAAeKRqTp+LAHC6nZ5lAgJAAWDZHqQ3AQIECBAgQIAAAQIECPQKCAB7iZpoIABsosxVTlIAKACscsc0KAIECBAgQIAAAQIECBxJQAB4pGpOn4sAcLqdnmUCAkABYNkepDcBAgQIECBAgAABAgQI9AoIAHuJmmggAGyizFVOUgAoAKxyxzQoAgQIECBAgAABAgQIHElAAHikak6fiwBwup2eZQICQAFg2R6kNwECBAgQIECAAAECBAj0CggAe4maaCAAbKLMVU5SACgArHLHNCgCBAgQIECAAAECBAgcSUAAeKRqTp+LAHC6nZ5lAgJAAWDZHqQ3AQIECBAgQIAAAQIECPQKCAB7iZpoIABsosxVTlIAKACscsc0KAIECBAgQIAAAQIECBxJQAB4pGpOn4sAcLqdnmUCAkABYNkepDcBAgQIECBAgAABAgQI9AoIAHuJmmggAGyizFVOUgAoAKxyxzQoAgQIECBAgAABAgQIHElAAHikak6fiwBwup2eZQICQAFg2R6kNwECBAgQIECAAAECBAj0CggAe4maaCAAbKLMVU5SACgArHLHNCgCBAgQIECAAAECBAgcSUAAeKRqTp+LAHC6nZ5lAgJAAWDZHqQ3AQIECBAgQIAAAQIECPQKCAB7iZpoIABsosxVTlIAKACscsc0KAIECBAgQIAAAQIECBxJQAB4pGpOn4sAcLqdnmUCAkABYNkepDcBAgQIECBAgAABAgQI9AoIAHuJmmggAGyizFVOUgAoAKxyxzQoAgQIECBAgAABAgQIHElAAHikak6fiwBwup2eZQICQAFg2R6kNwECBAgQIECAAAECBAj0CggAe4maaCAAbKLMVU5SACgArHLHNCgCBAgQIECAAAECBAgcSUAAeKRqTp+LAHC6nZ5lAgJAAWDZHqQ3AQIECBAgQIAAAQIECPQKCAB7iZpoIABsosxVTlIAKACscsc0KAIECBAgQIAAAQIECBxJQAB4pGpOn4sAcLqdnmUCAkABYNkepDcBAgQIECBAgAABAgQI9AoIAHuJmmggAGyizFVOUgAoAKxyxzQoAgQIECBAgAABAgQIHElAAHikak6fiwBwup2eZQICQAFg2R6kNwECBAgQIECAAAECBAj0CggAe4maaCAAbKLMVU5SACgArHLHNCgCBAgQIECAAAECBAgcSUAAeKRqTp+LAHC6nZ5lAgJAAWDZHqQ3AQIECBAgQIAAAQIECPQKCAB7iZpoIABsosxVTlIAKACscsc0KAIECBAgQIAAAQIECBxJQAB4pGpOn4sAcLqdnmUCAkABYNkepDcBAgQIECBAgAABAgQI9AoIAHuJmmggAGyizBcn+TcDp/5jEXGPgW3HNBMACgDH7C/aEiBAgAABAgQIECBAgMAEAQHgBLQDdhEAHrCoA6ckABwIdbXZnR74qIk9+7s97fPv1d9ICwIECBAgQIAAAQIECBAgMFBAADgQ6uDNBIAHL/AN0zsFgF8aEQ+/od3zIuK3F2ByBuAFVAHgAnuaVRIgQIAAAQIECBAgQKBhAQFgw8U/m7oAsN394BQAfk5EfPYGDAJAAeAGu51NEiBAgAABAgQIECBAoC0BAWBb9b5utgLAdvcDAeDE2rsEeCKcbgQIECBAgAABAgQIECCwuoAAcHXyKjcoAKyyLKsMSgA4kVkAOBFONwIECBAgQIAAAQIECBBYXUAAuDp5lRsUAFZZllUGJQCcyCwAnAinGwECBAgQIECAAAECBAisLiAAXJ28yg0KAKssyyqDOgWAvxoRrxARd4yIF0fEsyLicRHxdRHx2AVH4h6AF3A9BGTBPc6qCRAgQIAAAQIECBAg0KCAALDBol+YsgCw3f3gFADeJPBdEfFREfFnE5gy4LtpuX1EPDEbPP3pT483fMO+5hNGsFAXZwAuBGu1BAgQIECAAAECBAgQIDC7gABwdtJdrlAAuMuyzTLo50XE90TEYyLiKRHx3Ih43Yh4z4i4b0S8TreVH4uI942IF43c6pCA8SWrFAD+f1lnAI7cyzQnQIAAAQIECBAgQIAAgRsFBIB2kBQQALa7H9wmIp5zzfRvFxGPjoi7dH+/f0R80UgqAeBIsGwuAJyApgsBAgQIECBAgAABAgQIXCsgALRzCADtAzcJvGlE/FpEvFJEPDUi3mIkV981vS4BvgAqABy5l2lOgAABAgQIECBAgAABAjcKCADtIAJA+0CfwPdFxL26Rm8QEc/o6zDi7x4CIgAcsbtoSoAAAQIECBAgQIAAAQJTBASAU9SO18clwMer6ZwzelhEPKBb4V1PD+2YaQMCQAHgTLuS1RAgQIAAAQIECBAgQIDAdQICQPtGCggA7Qc3CXxBRHyqAPBliTwF2IuGAAECBAgQIECAAAECBPYiIADcS6WWHacAcFnfva/9URFxz24Secbe7884IWcAXsB0D8AZ9zCrIkCAAAECBAgQIECAAIEQANoJUkAAaD+4TiAfAvKUiHjFiPitiHizmakEgALAmXcpqyNAgAABAgQIECBAgACBqwICQPuEALDdfeADI+LREfHiawhu1/39Lt3fPyUivnBmLgGgAHDmXcrqCBAgQIAAAQIECBAgQEAAaB+4JOAMwDb3i6d1Z/Z9R0Q8PiLyf78gIm4bEfeIiPtGxOt0ND8ZEe8TES+cmUoAKACceZeyOgIECBAgQIAAAQIECBAQANoHBID2gZNABn5vPIAjA8L7RMRzBrQd20QAKAAcu89oT4AAAQIECBAgQIAAAQIjBVwCPBLsoM2dAXjQwvZM6z0jIv9714jIe/3lmX+3jojnRsTTI+JxEfH13dmBSwkJAAWAS+1b1kuAAAECBAgQIECAAAECnYAA0K6QAgJA+8FWAgJAAeBW+57tEiBAgAABAgQIECBAoBkBAWAzpb5xogJA+8FWAgJAAeBW+57tEiBAgAABAgQIECBAoBkBAWAzpRYAKnWVAgJAAWCVO6ZBESBAgAABAgQIECBA4EgCAsAjVXP6XJwBON1OzzIBAaAAsGwP0psAAQIECBAgQIAAAQIEegUEgL1ETTQQADZR5ionKQAUAFa5YxoUAQIECBAgQIAAAQIEjiQgADxSNafPRQA43U7PMgEBoACwbA/SmwABAgQIECBAgAABAgR6BQSAvURNNBAANlHmKicpABQAVrljGhQBAgQIECBAgAABAgSOJCAAPFI1p89FADjdTs8yAQGgALBsD9KbAAECBAgQIECAAAECBHoFBIC9RE00EAA2UeYqJykAFABWuWMaFAECBAgQIECAAAECBI4kIAA8UjWnz0UAON1OzzIBAaAAsGwP0psAAQIECBAgQIAAAQIEegUEgL1ETTQQADZR5ionKQAUAFa5YxoUAQIECBAgQIAAAQIEjiQgADxSNafPRQA43U7PMgEBoACwbA/SmwABAgQIECBAgAABAgR6BQSAvURNNBAANlHmKicpABQAVrljGhQBAgQIECBAgAABAgSOJCAAPFI1p89FADjdTs8yAQGgALBsD9KbAAECBAgQIECAAAECBHoFBIC9RE00EAA2UeYqJykAFABWuWMaFAECBAgQIECAAAECBI4kIAA8UjWnz0UAON1OzzIBAaAAsGwP0psAAQIECBAgQIAAAQIEegUEgL1ETTQQADZR5ionKQAUAFa5YxoUAQIECBAgQIAAAQIEjiQgADxSNafPRQA43U7PMgEBoACwbA/SmwABAgQIECBAgAABAgR6BQSAvURNNBAANlHmKicpABQAVrljGhQBAgQIECBAgAABAgSOJCAAPFI1p89FADjdTs8yAQGgALBsD9KbAAECBAgQIECAAAECBHoFBIC9RE00EAA2UeYqJykAFABWuWMaFAECBAgQIECAAAECBI4kIAA8UjWnz0UAON1OzzIBAaAAsGwP0psAAQIECBAgQIAAAQIEegUEgL1ETTQQADZR5ionKQAUAFa5YxoUAQIECBAgQIAAAQIEjiQgADxSNafPRQA43U7PMgEBoACwbA/SmwABAgQIECBAgAABAgR6BQSAvURNNBAANlHmKicpABQAVrljGhQBAgQIECBAgAABAgSOJCAAPFI1p89FADjdTs8yAQGgALBsD9KbAAECBAgQIECAAAECBHoFBIC9RE00EAA2UeYqJykAFABWuWMaFAECBAgQIECAAAECBI4kIAA8UjWnz0UAON1OzzIBAaAAsGwP0psAAQIECBAgQIAAAQIEegUEgL1ETTQQADZR5ionKQAUAFa5YxoUAQIECBAgQIAAAQIEjiQgADxSNafPRQA43U7PMgEBoACwbA/SmwABAgQIECBAgAABAgR6BQSAvURNNBAANlHmKicpABQAVrljGhQBAgQIECBAgAABAgSOJCAAPFI1p89FADjdTs8yAQGgALBsD9KbAAECBAgQIECAAAECBHoFBIC9RE00EAA2UeYqJykAFABWuWMaFAECBAgQIECAAAECBI4kIAA8UjWnz0UAON1OzzIBAaAAsGwP0psAAQIECBAgQIAAAQIEegUEgL1ETTQQADZR5ionKQAUAFa5YxoUAQIECBAgQIAAAQIEjiQgADxSNafPRQA43U7PMgEBoACwbA/SmwABAgQIECBAgAABAgR6BQSAvURNNBAANlHmKicpABQAVrljGhQBAgQIECBAgAABAgSOJCAAPFI1p89FADjdTs8yAQGgALBsD9KbAAECBAgQIECAAAECBHoFBIC9RE00EAA2UeYqJykAFABWuWMaFAECBAgQIECAAAECBI4kIAA8UjWnz0UAON1OzzIBAaAAsGwP0psAAQIECBAgQIAAAQIEegUEgL1ETTQQADZR5ionKQAUAFa5YxoUAQIECBAgQIAAAQIEjiQgADxSNafPRQA43U7PMgEBoACwbA/SmwABAgQIECBAgAABAgR6BQSAvURNNBAANlHmKicpABQAVrljGhQBAgQIECBAgAABAgSOJCAAPFI1p89FADjdTs8yAQGgALBsD9KbAAECBAgQIECAAAECBHoFBIC9RE00EAA2UeYqJykAFABWuWMaFAECBAgQIECAAAECBI4kIAA8UjWnz0UAON1OzzIBAaAAsGwP0psAAQIECBAgQIAAAQIEegUEgL1ETTQQADZR5ionKQAUAFa5YxoUAQIECBAgQIAAAQIEjiQgADxSNafPRQA43U7PMgEBYJlfPO3z71W4Bt0JECBAgAABAgQIECBA4OgCAsCjV3jY/ASAw5y0ml9AAFhoKgAsBNSdAAECBAgQIECAAAECDQgIABso8oApCgAHIGmyiIAAsJBVAFgIqDsBAgQIECBAgAABAgQaEBAANlDkAVMUAA5A0mQRAQFgIasAsBBQdwIECBAgQIAAAQIECDQgIABsoMgDpigAHICkySICAsBCVgFgIaDuBAgQIECAAAECBAgQaEBAANhAkQdMUQA4AEmTRQQEgIWsAsBCQN0JECBAgAABAgQIECDQgIAAsIEiD5iiAHAAkiaLCAgAC1kFgIWAuhMgQIAAAQIECBAgQKABAQFgA0UeMEUB4AAkTRYREAAWsgoACwF1J0CAAAECBAgQIECAQAMCAsAGijxgigLAAUiaLCIgACxkFQAWAupOgAABAgQIECBAgACBBgQEgA0UecAUBYADkDRZREAAWMgqACwE1J0AAQIECBAgQIAAAQINCAgAGyjygCkKAAcgabKIgACwkFUAWAioOwECBAgQIECAAAECBBoQEAA2UOQBUxQADkDSZBEBAWAhqwCwEFB3AgQIECBAgAABAgQINCAgAGygyAOmKAAcgKTJIgICwEJWAWAhoO4ECBAgQIAAAQIECBBoQEAA2ECRB0xRADgASZNFBASAhawCwEJA3QkQIECAAAECBAgQINCAgACwgSIPmKIAcACSJosICAALWQWAhYC6EyBAgAABAgQIECBAoAEBAWADRR4wRQHgACRNFhEQABayCgALAXUnQIAAAQIECBAgQIBAAwICwAaKPGCKAsABSJosIiAALGQVABYC6k6AAAECBAgQIECAAIEGBASADRR5wBQFgAOQNFlEQABYyCoALATUnQABAgQIECBAgAABAg0ICAAbKPKAKQoAByBpsoiAALCQVQBYCKg7AQIECBAgQIAAAQIEGhAQADZQ5AFTFAAOQNJkEQEBYCGrALAQUHcCBAgQIECAAAECBAg0ICAAbKDIA6YoAByApMkiAgLAQlYBYCGg7gQIECBAgAABAgQIEGhAQADYQJEHTFEAOABJk0UEBICFrALAQkDdCRAgQIAAAQIECBAg0ICAALCBIg+YogBwAJImiwgIAAtZBYCFgLoTIECAAAECBAgQIECgAQEBYANFHjBFAeAAJE0WERAAFrIKAAsBdSdAgAABAgQIECBAgEADAgLABoo8YIoCwAFImiwiIAAsZBUAFgLqToAAAQIECBAgQIAAgQYEBIANFHnAFAWAA5A0WURAAFjIKgAsBNSdAAECBAgQIECAAAECDQgIABso8oApCgAHIGmyiIAAsJBVAFgIqDsBAgQIECBAgAABAgQaEBAANlDkAVMUAA5A0mQRAQFgIasAsBBQdwIECBAgQIAAAQIECDQgIABsoMgDpigAHICkySICAsBCVgFgIaDuBAgQIECAAAECBAgQaEBAANhAkQdMUQA4AEmTRQQEgIWsAsBCQN0JECBAgAABAgQIECDQgIAAsIEiD5iiAHAAkiaLCAgAC1kFgIWAuhMgQIAAAQIECBAgQKABAQFgA0UeMEUB4AAkTRYREAAWsgoACwF1J0CAAAECBAgQIECAQAMCAsAGijxgigLAAUiaLCIgACxkFQAWAupOgAABAgQIECBAgACBBgQEgA0UecAUBYADkDRZREAAWMgqACwE1J0AAQIECBAgQIAAAQINCAgAGyjygCkKAAcgabKIgACwkFUAWAioOwECBAgQIECAAAECBBoQEAA2UOQBUxQADkDSZBEBAWAhqwCwEFB3AgQIECBAgAABAgQINCAgAGygyAOmKAAcgKTJIgICwEJWAWAhoO4ECBAgQIAAAQIECBBoQEAA2ECRB0xRADgASZNFBASAhawCwEJA3QkQIECAAAECBAgQINCAgACwgSIPmKIAcACSJosICAALWQWAhYC6EyBAgAABAgQIECBAoAEBAWADRR4wRQHgACRNFhEQABayCgALAXUnQIAAAQIECBAgQIBAAwICwAaKPGCKAsABSJosIiAALGQVABYC6k6AAAECBAgQIECAAIEGBASADRR5wBQFgAOQNFlEQABYyCoALATUnQABAgQIECBAgAABAg0ICAAbKPKAKQoAByBpsoiAALCQVQBYCKg7AQIECBAgQIAAAQIEGhAQADZQ5AFTFAAOQNJkEQEBYCGrALAQUHcCBAgQIECAAAECBAg0ICAAbKDIA6YoAByApMkiAgLAQlYBYCGg7gQIECBAgAABAgQIEGhAQADYQJEHTFEAOABJk0UEBICFrALAQkDdCRAgQIAAAQIECBAg0ICAALCBIg+YogBwAJImiwgIAAtZBYCFgLoTIECAAAECBAgQIECgAQEBYANFHjBFAeAAJE0WERAAFrIKAAsBdSdAgAABAgQIECBAgEADAgLABoo8YIoCwAFImiwiIAAsZBUAFgLqToAAAQIECBAgQIAAgQYEBIANFHnAFAWAA5A0WURAAFjIKgAsBNSdAAECBAgQIECAAAECDQgIABso8oApCgAHIGmyiIAAsJBVAFgIqDsBAgQIECBAgAABAgQaEBAANlDkAVMUAA5A0mQRAQFgIasAsBBQdwIECBAgQIAAAQIECDQgIABsoMgDpigAHICkySICAsBCVgFgIaDuBAgQIECAAAECBAgQaEBAANhAkQdMUQA4AEmTRQQEgIWsAsBCQN0JECBAgAABAgQIECDQgIAAsIEiD5iiAHAAkiaLCAgAC1kFgIWAuhMgQIAAAQIECBAgQKABAQFgA0UeMEUB4AAkTRYREAAWsgoACwF1J0CAAAECBAgQIECAQAMCAsAGijxgigLAAUiaLCIgACxkFQAWAupOgAABAgQIECBAgACBBgQEgA0UecAUBYADkDRZREAAWMgqACwE1J0AAQIECBAgQIAAAQINCAgAGyjygCkKAAcgabKIgACwkFUAWAioOwECBAgQIECAAAECBBoQEAA2UOQBUxQADkDSZBEBAeAirOUrXTJYvNMDHzV4gEuOY/AgRjYcM79c9R7nOJKkiuZj6lJLTfY45iqKbRAECBAgcFHg6J8r5veyZV/qeGaMs2Pdut6MBIB11WOr0QgAt5K3XQFgpfvAUgcMOd0xBw1LjmMp+jHzc1C0VBVuud4xdallv9vjmNerqC0RIECAwFiBo3+umJ8AcOxrorX2AsDWKn55vgJA+8FWAgLAreR7trtkAOLgbJ2Ds0p3rc2Gtcf9bo9j3qzANkyAAAECvQJH/1wxv3WOMcc4+7G792W5agMB4Krc1W5MAFhtaQ4/MAFgpSUWAE4vjIOi6XZL9hxTlyX3/zFz3OOYx8xPWwIECBBYV+DonyvmJwBc9xW1v60JAPdXsyVGLABcQtU6hwgIAIcobdBmyQDEwdk6B2cb7DZVb3KP+90ex1z1TmBwBAgQaFzg6J8r5rfOMeYY5xzRkt8rGn9Jj56+AHA02SE7CAAPWdZdTEoAWGmZlvygHnPQsOQ4lqIfMz8HRUtV4ZbrHVOXWva7PY55vYraEgECBAiMFTj654r5CQDHviZaay8AbK3il+crALQfbCUgANxKvme7SwYgDs7WOTirdNfabFh73O/2OObNCmzDBAgQINArcPTPFfNb5xhzjLMfu3tflqs2EACuyl3txgSA1Zbm8AMTAFZaYgHg9MI4KJput2TPMXVZcv8fM8c9jnnM/LQlQIAAgXUFjv65Yn4CwHVfUfvbmgBwfzVbYsQCwCVUrXOIgABwiNIGbZYMQBycrXNwtsFuU/Um97jf7XHMVe8EBkeAAIHGBY7+uWJ+6xxjjnHOES35vaLxl/To6QsAR5MdsoMA8JBl3cWkBICVlmnJD+oxBw1LjmMp+jHzc1C0VBVuud4xdallv9vjmNerqC0RIECAwFiBo3+umJ8AcOxrorX2AsDWKn55vgJA+8FWAgLAreR7trtkAOLgbJ2Ds0p3rc2Gtcf9bo9j3qzANkyAAAECvQJH/1wxv3WOMcc4+7G792W5agMB4Krc1W5MAFhtaQ4/MAFgpSUWAE4vjIOi6XZL9hxTlyX3/zFz3OOYx8xPWwIECBBYV+DonyvmJwBc9xW1v60JAPdXsyVGLABcQtU6hwgIAIcobdBmyQDEwdk6B2cb7DZVb3KP+90ex1z1TmBwBAgQaFzg6J8r5rfOMeYY5xzRkt8rGn9Jj56+AHA02SE7CAAPWdZdTEoAWGmZlvygHnPQsOQ4lqIfMz8HRUtV4ZbrHVOXWva7PY55vYraEgECBAiMFTj654r5CQDHviZaay8AbK3il+crALQfbCUgANxKvme7SwYgDs7WOTirdNfabFh73O/2OObNCmzDBAgQINArcPTPFfNb5xhzjLMfu3tflqs2EACuyl3txgSA1Zbm8AMTAFZaYgHg9MI4KJput2TPMXVZcv8fM8c9jnnM/LQlQIAAgXUFjv65Yn4CwHVfUfvbmgBwfzVbYsQCwCVUrXOIgABwiNIGbZYMQBycrXNwtsFuU/Um97jf7XHMVe8EBkeAAIHGBY7+uWJ+6xxjjnHOES35vaLxl/To6QsAR5MdsoMA8JBl3cWkBICVlmnJD+oxBw1LjmMp+jHzc1C0VBVuud4xdallv9vjmNerqC0RIECAwFiBo3+umJ8AcOxrorX2AsDWKn55vgJA+8FWAgLAreR7trtkAOLgbJ2Ds0p3rc2Gtcf9bo9j3qzANkyAAAECvQJH/1wxv3WOMcc4+7G792W5agMB4Krc1W5MAFhtaVYd2B0j4n4Rca+IyP//hRHx1Ih4REQ8PCKev8BoBIALoM6xSgHgdEUHRdPtluw5pi5L7v9j5rjHMY+Zn7YECBAgsK7A0T9XzE8AuO4ran9bEwDur2ZLjFgAuITqvtaZod83R+3BoE4AACAASURBVMRrXjPsX4+Ie0bEb808LQHgzKBzrW7JAMTB2ToHZ3PtC0dZzx73uz2O+Sj7i3kQIEDgiAJH/1wxv3WOMcc454iW/F5xxNfpknMSAC6pu591CwD3U6slRvr2EfG4iHjViHhuRDw0Ih4bEbeKiHtHxMd1G31KRLxL12aucQgA55KceT1LflCPOWhYchwzk710dWPm56BoqSrccr1j6lLLfrfHMa9XUVsiQIAAgbECR/9cMT8B4NjXRGvtBYCtVfzyfAWAbe8HGfbdIyJeHBF3j4jHX+F4QEQ8rPu3B0fE587IJQCcEXPOVS0ZgDg4W+fgbM794Qjr2uN+t8cxH2FfMQcCBAgcVeDonyvmt84x5hhnP3bX9W4iAKyrHluNRgC4lfz2280z+p7QDePLI+K+F4b0chHx5Ii4c0T8aUTcLiJeNNPQBYAzQc69GgHgdFEHRdPtluw5pi5L7v9j5rjHMY+Zn7YECBAgsK7A0T9XzE8AuO4ran9bEwDur2ZLjFgAuITqPtb5eRHxoG6od4uIn7lm2A/sLg3OP79fRPzQTNMTAM4EOfdqlgxAHJytc3A29z6x9/Xtcb/b45j3vp8YPwECBI4scPTPFfNb5xhzjHOOaMnvFUd+vS4xNwHgEqr7W6cAcH81m2vEPx4R7xERz4uI23SXAV9a97t29wnMv+UlwHkp8ByLAHAOxQXWseQH9ZiDhiXHsQDbS1Y5Zn4Oipaqwi3XO6Yutex3exzzehW1JQIECBAYK3D0zxXzEwCOfU201l4A2FrFL89XANjufvCHEXHbiHhSRLzDDQyvFRF/0v39kRHx4TORCQBngpx7NUsGIA7O1jk4m3uf2Pv69rjf7XHMe99PjJ8AAQJHFjj654r5rXOMOcbZj911vaMIAOuqx1ajEQBuJb/tdl8lIl7QDeFREfEBPcPJJwS/WkT8dETkGYFDlgz4blreoFtfPOEJT4g73OEOQ9ZZRZu7PeQxVYxjqUH89IPee6lVxxi7Jcex1ATHzC/HsMc5LmW35HrH1KWWmuxxzEvW0LoJECBAoEzg6J8r5vey+8dSxzNjnB3rlr1m5+79zGc+M+5617ueVnuniPidubdhffULCADrr9ESI3zdiHh2t+Jvi4h792zkDyLi9boHgrzdwAH9zcB2mhEgQIAAAQIECBAgQIAAAQLrCOQDQX92nU3ZSk0CAsCaqrHeWN4oIn6329w3RsRH9mw622af34yINx84TAHgQCjNCBAgQIAAAQIECBAgQIDASgICwJWga9uMALC2iqwznjXOAOy7BPiVIuKtujMR836Ef7XO1Iu2cvuIeGK3hnzTfFbR2nTeQkANt1Cfd5tqOK/n2mtTv7XF59+eGs5vuvYa1XBt8Xm3p37zem6xNjXcQn3ebe6xhi8fEZkD5PLLEfHCeUmsbQ8CAsA9VGn+Ma5xD8D5R739Gl/64JLujMjf235IRjBSQA1HglXYXA0rLMqIIanfCKxKm6phpYUZMSw1HIFVYVP1q7AoI4ekhiPBKmyuhhUWxZD6BQSA/UZHbbH1U4D36OqNfo9Ve9kxq6Ea7l9g3zPwGtx3/XL0aqiG+xfY9wy8BvddP++j+6+fGh6jhk3OQgDYZNlfMukfj4j3iIjnRcRtIuLF11DkU38f1/3tcyPiwe2S+dJzgNo7aN5/EdVw3zVUv33Xz5ee/ddPDfdfQ++jarh/gf3PwOtw/zVscgYCwCbL/pJJPyQiPr2b/t0i4meuoXhgRDy0+9v7R8QPtksmADxA7X1Y77+IarjvGqrfvusnPNp//dRw/zX0PqqG+xfY/wy8DvdfwyZnIABssuwvmfRdz0K/L4+I+16geLmIeHJE3DkinhMRrxcRL2qXTAB4gNr7sN5/EdVw3zVUv33XT3i0//qp4f5r6H1UDfcvsP8ZeB3uv4ZNzkAA2GTZXzrp02XAefnv3SPi8Vc4HhARD+v+7XMi4rPb5hIAHqD+Pqz3X0Q13HcN1W/f9RMe7b9+arj/GnofVcP9C+x/Bl6H+69hkzMQADZZ9pdO+i4R8VMRcauIeG53WfBju/9974j4+K7lb0TEO0fEn7fNJQA8QP19WO+/iGq47xqq377rJzzaf/3UcP819D6qhvsX2P8MvA73X8MmZyAAbLLsLzPpD4yIb4qIW19DkeHfvSLiqagEgAfYB3xY77+IarjvGqrfvusnPNp//dRw/zX0PqqG+xfY/wy8DvdfwyZnIABssuy3mPQbR8T9u6Av38z+sgv8HhkRXxwRz8dEgAABAgQIECBAgAABAgQIECCwTwEB4D7rZtQECBAgQIAAAQIECBAgQIAAAQIEBgkIAAcxaUSAAAECBAgQIECAAAECBAgQIEBgnwICwH3WzagJECBAgAABAgQIECBAgAABAgQIDBIQAA5i0ogAAQIECBAgQIAAAQIECBAgQIDAPgUEgPusm1ETIECAAAECBAgQIECAAAECBAgQGCQgABzEpBEBAgQIECBAgAABAgQIECBAgACBfQoIAPdZN6MmQIAAAQIECBAgQIAAAQIECBAgMEhAADiISSMCBAgQIECAAAECBAgQIECAAAEC+xQQAO6zbkZNgAABAgQIECBAgAABAgQIECBAYJCAAHAQk0YECBAgQIAAAQIECBAgQIAAAQIE9ikgANxn3Yx6fYE7RsT9IuJeEZH//wsj4qkR8YiIeHhEPH/9ITW/xdeLiLt2/71LROR/r9OpfH1EfNRIob8fER/fre91I+IPI+IJEfEVEfG/R65L82EC7xgR6f4eEfG2EZE1fVFEPCMiHhcRXx0RPzFsVS9ppYYjsGZoeuuIuGf32nvniHiDiMjXzq0i4jkR8asR8f1dHf94wPbeNSI+odsfbh8RfxoRT4qIr4uIbx3QX5N5BR4WEQ84W+V7RcSP9mzCa3DeGgxZ298MaRQRPxYR91C/gVrbNbttRHxMRHxwRLxZRLxWROT759Mj4scj4jsj4vE9w/Neum798n3xPUdu8qb3U++jIzFnbP5KEfHPI+LDIuLtI+K1u+PS34+In+q+E/z0gO2p4QAkTbYREABu426r+xLI0O+bI+I1rxn2r3dfgn9rX9Pa/Whv+tIzJgDM98Ev68K/61AyBLxvRAz9orV73BUmkF9G7z5gO98YEfeJiL+8oa0aDoBcoMn7RMQPDVjvH0XEP4uIH7ih7WdFxIMj4uWuafO9EfHhEfEXA7anSblAfvH52Yh4hbNV3fSF1Wuw3HzqGoZ+Lt0UAKrfVP15+2Xo8KVnP2ZeWvt3R8Q/9F46L3zh2sYGgH/dnUyQodL54nVYWIjC7m8UEY+KiLfrWc9/jYhPueY7gRoWFkH35QUEgMsb28K+BfJLUJ6J9KoR8dyIeGhEPLY7w+XeEfFx3fSe0p0Fk20s6wicf+nJX8Z/LSLer9v0mADw8yLiQV2/X4iIPOvlN7tf3j8tIu7S/S3bfcY6U2tiK3kGbZ7dkGf7PbI70+93I+LlIyLPXsiDqzyjLJdviYh/coOKGm6zy2QA+DXde+LPdWeoPLML8d4wIv5xRHxIV9MMcPMs3V+6MNQMeL+y+/d87T0kIn45Il4/Iu4fERk85ZI/xGSQaFlWIEPYPMMh6/Xs7szc3OJNAaDX4LI1uWntp8/CDI7yioTrludFxG9f80f1265+py1/ZER8bff+ma+7rOdPRsSfRESeEZ2flx8YEX/WnZ10acTeS7ep45tExKv1bPqtI+Lbujb5w9npePW8m9fhNvXLreaPXT9/Fv7lscoXRkSe5PEaEfHu3XHpqc75/eALLgxXDberoS0PFBAADoTSrFmBDPvykpkXd2crXb3sIi+PysAolzx75XOblVp/4p8TEU/s/vuDiLjT2ZeboQHgm3fBYX7w59kueUbaC86mksFvnjWRlzfmPvBWXTi4/myPt8Xvi4hviIjviIi/ujC9vAwqL7d4y+5vWZtLlwOr4Xb7Roa1l2p3PqI8U+V/df+Ql6596JXh3qZ73eb/zQD4nSIizxg8LbmN7J9ffHPJy6zyMjjLcgKfHBF5hkP+sJX2n95t6roA0GtwuVoMWfMpAMzPxM8e0uFKG/WbgDZzlztHRP4A+crd59wp6Lu0mbxE8dIZ8d5LZy7KzKv7TxGRoVEueYnpN3kdzixctro8Nvn2bhX5XS9vTXP1+CaPT/Jvr9jdoiRvW5PfDU6L99KyGui9koAAcCVom9mlQJ79kPeAy+XLu0tAr04kz5R4ckTkwVver+p23b0idjnhnQ96SgD4Jd09x3LqedbZpft63O3sfjtfHBGftHOnPQ3/AyIiL/3M5Yu6s8Gujl8N669onp2b4XkGe3mPwPPl/EeUj7jmXn95NuHTujMJMzg+hYH1z3x/I8xLoPLeja/enfGXP4Dlj1u5XBcAeg1uW+fSAFD9tq1fbv2HI+K9u/fIPJ48/xFk6Oi8lw6VWr9dflfIH7jyqoa8Uii/K1y9d7jX4fp1Od9inu33b7p/+KCzY8+ro8ofMv9R9495qXB+BzwtarhtDW19oIAAcCCUZk0KnJ/GnSHQz1yj8MDu0uD8c57SP+SeWE2CLjzpsQFgvv/lpcN5QJZnuuRB93VL/v1vRcTvdfdtGXrPpYWnfPjVZwjx590s874sGQieL2q4j10gz67NX87zi09eSnO+5Fme7xYR/7cLB6+712M+iOf9uwcw5dmhbrewTO0zcM/X2eks6jyj7KYA0GtwmTqMWWtJAKh+Y6SXaZs/juSPJLnk6y3P5JyyeC+dorZOn/eNiB/sNpUPtfpoxzLrwI/YSv7A/4ld+3wo3a9c0zcv+/3U7m95dVDe/iQX76UjsDXdVkAAuK2/rdctkJeZ5Snged+cvLTi/DTv85HnmWN5n8Bc8hLg05elumd3vNGNDQDf9Oxy3uvO8Dwp5d/zCcG5ZL/r7qN0PNVtZ5RPXzs9PTaDifxV9nxRw23rM2TrGazn/fzyUt4MAvPM6tOSl7Ll+2tegp8PCMmn5l235GWoeW/AXP5ed9/BIdvXZrhAPmQl71GV9xzLUCKfhN4XAHoNDvddqmVJAKh+S1Vl+Ho/8+z2MW/TnYGbvfPpv/ljR74e+56i7r10uPcWLfNhZqf71176/PI63KIqL7vN+0XEf+/+acgZgPm+m98N88fLXNRw+xoawUABAeBAKM2aFMgvP3nw9aSIeIcbBPIgLQ/QcsmHGeSXKMv6AmMDwHy6c15OmEue9v/fbhhy/j0vD8gl+33/+tNrcot5mUVebpFL/up6un/OCUMN69wt8t6ZeWZtXqqbNcvLnXK5et+j/LJ7unwmD7zz3nPXLef7Qv5Kf9PDDupUqXtU+UUmz0LKhw3kw62+qhtuXwDoNbh9XU8BYF66nWH6HbsfLJ/V/TiZZxzl/YwvLeq3ff3y7PZ7dg/3yOPJfOBVvm/+7bOh5Y+OeVbuf7nm7GfvpdvX8boR5JUM+VrMh0fkZcB5rHr1KhKvw+3rl7cnyYfT3bq7/3Teb/jqPQDzoYB5q6AM3K8+nE4Nt6+hEQwUEAAOhNKsOYFXOXsYxKVLD6+C5OVo+eGeHwx5RqBlfYGxAeB9u6fs5Ug/7Ozmv5dGnk8zzXA3l+yXZwRalhXIe+bkzZbv2m0mzxzLM8jOFzVctgZj1v5R3RMsr+vzn7svtedffPKMv0d3HfL+VdnmuiUvtcmH/uTy+WcPphgzRm2vF/iKLvjLs9nzaYenOvUFgF6D2+9VQ25J8V0Rka/RfIKs99Dta3Y+ggz38vglf2zOp/6eLkO8NMr8wSRvhfCMK3/0XlpXTc9H8y8iIkP4XPLWQp9xYajeR+uoX/7Q+M0RcavuoTx5YsBvdPfE/bvdU4DzNia/GBH/oAt2TyNXwzpqaBQDBASAA5A0aVIgfwl6djfzvCTq3j0K+RTafBpUHpzlTWEt6wuMDQDPb5idH+R5j7Hrlvz76ay/vPdH/gpvWVbgU84CoXwS6Ydc2JwaLluDMWu/LgDMA+U8ML50D9UM3h/RbeRfRcSX3bDBvJQ4z3DKxcN4xlSmv20GfnnLizzb4R27S7ZPvfoCQK/Bft+lW+Rl9N8TEY/p7mebP0jmMUyewZKvvdfpBpBPtM97kb3obEDqt3R1+tefoWyedfTC7inAz4mIvLd0nv2elxfmMWXeXiaPQ3LJkD5vT/PXZ6v2XtrvvFWLfF3mZb+55L2kM1C6ungdblWdW273rSPi30bEx3T39Ttvkd/18mnO+YNZvu+eL2pYTw2NpEdAAGgXIXBZIJ+EmKfq55L37vjIHqhsm31+MyLyMfCW9QXGBoDn993Jp+/9yA1DzoO3PIjLJfv9x/Wn19QW84trPhUxL2fLID4vhcoDr6uLGtazW+QlpPm03lzy1/M3626HkL+o5/tiXt57uuT+NOq8JPgbuv/xsRHxNTdM5/z+Ol8dEfepZ+q7HkleypQhbQasly6z7wsAvQa3L3++9jI0urTk5fd5lm1eupbL/bsnqp/aqt/29cv7S+c9UnPJED4D+bya5HzJM+Lz/fMUAl69asF76fZ1vDSC/Ez8nYjI+t10hZDXYR31e8XuPu55G4w8qePSklci5IN68uqw80UN66ihUQwQEAAOQNKkSQFnAO6v7GMDQL/W1VnjvJfRT3Q3QM8zIvJypzxz5dKihnXW8HxU+cU0712VlylmyHe6FCrbOGtl+/qdAr78ESvPfLh6VkNfAOg1uH0N+0aQ4Xne3zHD3rzH1VucdVC/Pr3l/366hUxu6Vsj4iOu2eT5ff7y7MAPPWvnvXT5Ok3ZQp7J+dCu401nuXsdTtGdt0/eximv9Ll7F8TnlT5fGxG/FRF5W6i/ExGfdXaLjLw3+OmhITkSNZy3Hta2oIAAcEFcq961gHsA7q98YwNA9+uor8Zv0t0D6fW7A7D8UpOX/163qGF9Nbw0oryNQj4cKcOlPFP6T7tG7lu1bf3ySb9537EMhj64u4z06oj6AkCvwW1rOHTrefZY3qQ+l3xAz+kecuo3VHC5ds/sHr6TW8j7xZ3Oir60xd/r6vf07mEvpzbeS5erT8maf6X7YSV/zLzD2Wff1XV6HZYoz9M370Gct57JJW9pkj9cXl3yqpQfjIj36i7BzzOrf6lrpIbz1MFaVhAQAK6AbBO7FfAU4H2VbmwA+AER8b3dFD0FePtaZ+iXZ/7l2Sp5tlgegN30RShHrIbb123ICPKplnlj7Vz+aUT8z+7/f9uz+815CvAQyXnb5MOMPr47w+HfX7PqfADS6Uyj/3B2H8Z878xA12tw3postbaHdWeo5PrzwUqnB+qo31Liw9f7hIjIh1zl0nc7knww1t26+wXmD9WnxXvpcO+1Wp4/uOo7IiLfS69bvA7Xqsrl7WQe8kcR8drdPRrzXo3XLfkwkHxYTy75kJD8/pCLGm5bQ1sfISAAHIGlaXMCeVP0vNFyfsnJe+zkfVouLfnU37wpcy55o+YHNydVx4THBoDn9xTLL8L56911y+mLcv49++VT+yzzCdy2u8w3L0HM5V9HxJcMWL0aDkCqoEk+eCB/Nc/lQWeXROWZZ8/v7n/1AxGRZ7Fct3x6RDyk+2Pek/OxFcxr70PIy7HzjKMpS56t+7Tu/TDv8ZiL99Epkuv0yfs75gOscjkPAL2HruN/01byMsP8wSuX94uIH7qh8SkszOPSVz9r5710+zpeHcEXRcQndf/4QWc/OF8aqdfhtvW7fUTkmbi59D348fwKsXx44Om+nGq4bQ1tfYSAAHAElqbNCeSXzfzSmUv+4nrpKZb5t/N7fOT9yk5fdJsD23jCYwPAfP/Ly2nyzLOndDfBv24Kef+kvFzu97tLGPMMNcs8Aq/ZPYAlnz56ej3lU9aGLGo4RGn7NudPCL5fRPyPsyHljyf5I0o+7TLvvfqX1ww3D7Tz/TUvpcp2f779tHY/gjkCQK/BfewGecP6e3ZDzQcT5GdZLuq3ff0++uwBSH1PQ8+zlPKpzvkk2atnKXkv3b6WpxHkwyTyNZafVXk1UR5nXncSgdfh9nXLH6GzTrn0na35Gt3xSrbNWyt8oPfS7QtoBOMEBIDjvLRuSyB/JT+Ffted2ZBP9npyFx7lU/jyqVEvaoupmtmODQBz4A+PiDzgziVDiKtP3st/z/A3L7s5tf/Eama8/4G8aheY5yUVuXxeRHzGyGmp4UiwDZqfhw9575wfPRvDp0XEKfDNm9/nTfCvLhlY5Nlm+aTMvEn36V5mG0yluU323QPQ+2j9u0SemZI/cmUokTe0zyd0ny/eQ7etYQZ6efZR1ifP/suzAC8t73n23nnpSejeS7et4/nW84y/7+7+oe/2Fqd+Xofb1S+/y+W9iW/d3R/1jW8IbM8v9c0fM/NHTTXcrna2PEFAADgBTZemBE6XAecvd/lkqFMQdEI4f+pTPhY+vyxZthGYEgC+ZUTkTZrzxr4/29X4BWfDv1VE5D6Q93LJfSAvUf0/20zvcFvNS5byPmKnLztDD5KvQqjhdrtGntmXgd1f3DCEvD/OF3Z/zxAvn0B6fiZE3nMnQ4k8E/R3IuKdIuKPz9aXoV8+COb0K7vLf9et95AA0Gtw3Zqcby1fF4++4cvq7bq/583qc8mb3J9ej6f1qN929bsUHFz6ISTPOspjkXfoOpxfxn1ah/fS7et4GsG3n907NT/Tfn7A0LwOByAt2CTvTXx6And+7uV3uqvLa3X3/zvdrubqVV9quGCBrHo+AQHgfJbWdEyBPGj+qYjIIOi53T2o8t5T+b/v3d1APWeel2NkSOSytPX2g3ePiDc/21yewp/3Ocola/ZVV4aSl7tdWh7aXcadf/uF7mykvKdVniXx7yLi9MUp2+X9yyzzCORlFh/SrepHIuKTu4d/XLf2vDQ0X2dqOI//HGvJQC+/mGYt86bY+brJ98n8t7frHvhxOrsz65dn7v3whQ3/y4j4su7fcx15Jugvd5dN5X6RZw3m8i0RkQ8UsawnMCQAzNF4H12vJudbytdgnjmWr8H8gTL/d/6IlZ+H9+jubZtnmOWSr9H36S6jvzpa9dumfqet5qWi+SPkHbswN98Pv7O71DDfS/NYJG9DksuXRsQnXDNc76Xb1jG3niFRntH5yt0VQlm/oYvX4VCp+dvl6+vnIiKvTMklf6DOJwHnD5R537+8GiiPR/I1mstjuvdT76Xz18IaFxYQAC4MbPWHEMhf2L+pOzX80oQylMgvtk89xGz3M4mx96+67v0uT/3/yoj4mBumnpfb5NMy/3o/PNWPdOx9FPPssDzL89KihtuUO8OGvFSmb8l7bebr66ab2+ev7Z/Z3ZPs0vry0t98Gu1NZxv2jcPfxwsMDQC9BsfbztFj6GswA8L7RETeqsR76Bzy86/jzhHxPVd+2Ly6la/pQt2bbjXjvXT+2oxZYz5QLkPaXPKy7NMP00PW4X10iNJybfIHkvyhMX9AuWnJH63zqc552fDVRQ2Xq481zyQgAJwJ0moOL5Bfcu/fBX15P6o8myUDv0dGxBd3T7I8PEJlE5wrADxNK2+QniHfu3Qf/nmz7Sd2T7bMS6ws8wrMGQCq4by1Gbq2PEs2D5jzDL388pqXG+bZRhnS/UFE/GJ3k+xHDHyPfLeIyHts5tPXc10ZVjwpIvIpmXlQbllfYGgA6DW4fm1yi3lfuPwv72Gb9/rLL655H6s8E/fpEZEPhsizWK7evuS60foc3KaOp62+Wndf4gwX8nYJ+aTfZ3dXNeS9qIc+/dx76XZ1zCtQ0v+vurPFnjFhKF6HE9Bm6pLHMB/bPd33bSLiNt1Zuc/qvhPkpcIZ1Pcdw6rhTAWxmvkFBIDzm1ojAQIECBAgQIAAAQIECBAgQIAAgWoEBIDVlMJACBAgQIAAAQIECBAgQIAAAQIECMwvIACc39QaCRAgQIAAAQIECBAgQIAAAQIECFQjIACsphQGQoAAAQIECBAgQIAAAQIECBAgQGB+AQHg/KbWSIAAAQIECBAgQIAAAQIECBAgQKAaAQFgNaUwEAIECBAgQIAAAQIECBAgQIAAAQLzCwgA5ze1RgIECBAgQIAAAQIECBAgQIAAAQLVCAgAqymFgRAgQIAAAQIECBAgQIAAAQIECBCYX0AAOL+pNRIgQIAAAQIECBAgQIAAAQIECBCoRkAAWE0pDIQAAQIECBAgQIAAAQIECBAgQIDA/AICwPlNrZEAAQIECBAgQIAAAQIECBAgQIBANQICwGpKYSAECBAgQIAAAQIECBAgQIAAAQIE5hcQAM5vao0ECBAgQIAAAQIECBAgQIAAAQIEqhEQAFZTCgMhQIAAAQIECBAgQIAAAQIECBAgML+AAHB+U2skQIAAAQIECBAgQIAAAQIECBAgUI2AALCaUhgIAQIECBAgQIAAAQIECBAgQIAAgfkFBIDzm1ojAQIECBAgQIAAAQIECBAgQIAAgWoEBIDVlMJACBAgQIAAAQIECBAgQIAAAQIECMwvIACc39QaCRAgQIAAAQIECBAgQIAAAQIECFQjIACsphQGQoAAAQIECBAgQIAAAQIECBAgQGB+AQHg/KbWSIAAAQIECBAgQIAAAQIECBAgQKAaAQFgNaUwEAIECBAgQIAAAQIECBAgQIAAAQLzCwgA5ze1RgIECBAgQIAAAQIECBAgQIAAAQLVCAgAqymFgRAgQIAAAQIECBAgQIAAAQIECBCYX0AAOL+pNRIgQIAAAQIECBAgQIAAAQIECBCoRkAAWE0pDIQAAQIECBAgQIAAAQIECBAgQIDA/AICwPlNrZEAAQIECBAgQIAAAQIECBAgQIBANQICwGpKYSAECBAgQIAAAQIECBAgQIAAAQIE5hcQAM5vao0ECBAgQIAAAQIECBAgQIAAAQIEqhEQAFZTCgMhQIAAAQIECBAgQIAAAQIECBAgML+AAHB+U2skQIAAAQIECBAgQIAAAQIECBAgUI2AMK/QgAAAA4dJREFUALCaUhgIAQIECBAgQIAAAQIECBAgQIAAgfkFBIDzm1ojAQIECBAgQIAAAQIECBAgQIAAgWoEBIDVlMJACBAgQIAAAQIECBAgQIAAAQIECMwvIACc39QaCRAgQIAAAQIECBAgQIAAAQIECFQjIACsphQGQoAAAQIECBAgQIAAAQIECBAgQGB+AQHg/KbWSIAAAQIECBAgQIAAAQIECBAgQKAaAQFgNaUwEAIECBAgQIAAAQIECBAgQIAAAQLzCwgA5ze1RgIECBAgQIAAAQIECBAgQIAAAQLVCAgAqymFgRAgQIAAAQIECBAgQIAAAQIECBCYX0AAOL+pNRIgQIAAAQIECBAgQIAAAQIECBCoRkAAWE0pDIQAAQIECBAgQIAAAQIECBAgQIDA/AICwPlNrZEAAQIECBAgQIAAAQIECBAgQIBANQICwGpKYSAECBAgQIAAAQIECBAgQIAAAQIE5hcQAM5vao0ECBAgQIAAAQIECBAgQIAAAQIEqhEQAFZTCgMhQIAAAQIECBAgQIAAAQIECBAgML+AAHB+U2skQIAAAQIECBAgQIAAAQIECBAgUI2AALCaUhgIAQIECBAgQIAAAQIECBAgQIAAgfkFBIDzm1ojAQIECBAgQIAAAQIECBAgQIAAgWoEBIDVlMJACBAgQIAAAQIECBAgQIAAAQIECMwvIACc39QaCRAgQIAAAQIECBAgQIAAAQIECFQjIACsphQGQoAAAQIECBAgQIAAAQIECBAgQGB+AQHg/KbWSIAAAQIECBAgQIAAAQIECBAgQKAaAQFgNaUwEAIECBAgQIAAAQIECBAgQIAAAQLzCwgA5ze1RgIECBAgQIAAAQIECBAgQIAAAQLVCAgAqymFgRAgQIAAAQIECBAgQIAAAQIECBCYX0AAOL+pNRIgQIAAAQIECBAgQIAAAQIECBCoRkAAWE0pDIQAAQIECBAgQIAAAQIECBAgQIDA/AICwPlNrZEAAQIECBAgQIAAAQIECBAgQIBANQICwGpKYSAECBAgQIAAAQIECBAgQIAAAQIE5hcQAM5vao0ECBAgQIAAAQIECBAgQIAAAQIEqhEQAFZTCgMhQIAAAQIECBAgQIAAAQIECBAgML+AAHB+U2skQIAAAQIECBAgQIAAAQIECBAgUI2AALCaUhgIAQIECBAgQIAAAQIECBAgQIAAgfkF/h8pH5o37JNJdgAAAABJRU5ErkJggg==\" width=\"640\">"
      ],
      "text/plain": [
       "<IPython.core.display.HTML object>"
      ]
     },
     "metadata": {},
     "output_type": "display_data"
    }
   ],
   "source": [
    "# Distribution of age w/ no transformation/standardization\n",
    "# print(dataset_features[1])\n",
    "# plt.hist(dataset_features[1],bins=range(0,81))\n",
    "# plt.show()"
   ]
  },
  {
   "cell_type": "code",
   "execution_count": 21,
   "metadata": {
    "collapsed": true
   },
   "outputs": [
    {
     "name": "stdout",
     "output_type": "stream",
     "text": [
      "[0, 0.0, 4.3923174227787607, 0, 0, 0, 0, 0, 0, 2.0, 6.2189039843943617, 6.9038896808642276, 6.0496420433538836, 5.9414185868768454, 4.665939262606412, 1.8430854300912436, 7.5509253036759043, 2.926140611857436, 0, 0, 0, 0, 0, 0, 0, 8.5869233492479626, 6.1553786560796437, 0, 0.0, 0, 0, 1.4622834090432293, 0.0, 0, 0, 0, 0.0, 0, 0, 0, -0.30207159208369472, 1.1057577172473452, 6.6759614567873857, 3.6252546687322202, 1.0, 0.90859578453523104, 0.83356285158308829, 0.59767355247071008]\n"
     ]
    },
    {
     "data": {
      "application/javascript": [
       "/* Put everything inside the global mpl namespace */\n",
       "window.mpl = {};\n",
       "\n",
       "\n",
       "mpl.get_websocket_type = function() {\n",
       "    if (typeof(WebSocket) !== 'undefined') {\n",
       "        return WebSocket;\n",
       "    } else if (typeof(MozWebSocket) !== 'undefined') {\n",
       "        return MozWebSocket;\n",
       "    } else {\n",
       "        alert('Your browser does not have WebSocket support.' +\n",
       "              'Please try Chrome, Safari or Firefox ≥ 6. ' +\n",
       "              'Firefox 4 and 5 are also supported but you ' +\n",
       "              'have to enable WebSockets in about:config.');\n",
       "    };\n",
       "}\n",
       "\n",
       "mpl.figure = function(figure_id, websocket, ondownload, parent_element) {\n",
       "    this.id = figure_id;\n",
       "\n",
       "    this.ws = websocket;\n",
       "\n",
       "    this.supports_binary = (this.ws.binaryType != undefined);\n",
       "\n",
       "    if (!this.supports_binary) {\n",
       "        var warnings = document.getElementById(\"mpl-warnings\");\n",
       "        if (warnings) {\n",
       "            warnings.style.display = 'block';\n",
       "            warnings.textContent = (\n",
       "                \"This browser does not support binary websocket messages. \" +\n",
       "                    \"Performance may be slow.\");\n",
       "        }\n",
       "    }\n",
       "\n",
       "    this.imageObj = new Image();\n",
       "\n",
       "    this.context = undefined;\n",
       "    this.message = undefined;\n",
       "    this.canvas = undefined;\n",
       "    this.rubberband_canvas = undefined;\n",
       "    this.rubberband_context = undefined;\n",
       "    this.format_dropdown = undefined;\n",
       "\n",
       "    this.image_mode = 'full';\n",
       "\n",
       "    this.root = $('<div/>');\n",
       "    this._root_extra_style(this.root)\n",
       "    this.root.attr('style', 'display: inline-block');\n",
       "\n",
       "    $(parent_element).append(this.root);\n",
       "\n",
       "    this._init_header(this);\n",
       "    this._init_canvas(this);\n",
       "    this._init_toolbar(this);\n",
       "\n",
       "    var fig = this;\n",
       "\n",
       "    this.waiting = false;\n",
       "\n",
       "    this.ws.onopen =  function () {\n",
       "            fig.send_message(\"supports_binary\", {value: fig.supports_binary});\n",
       "            fig.send_message(\"send_image_mode\", {});\n",
       "            if (mpl.ratio != 1) {\n",
       "                fig.send_message(\"set_dpi_ratio\", {'dpi_ratio': mpl.ratio});\n",
       "            }\n",
       "            fig.send_message(\"refresh\", {});\n",
       "        }\n",
       "\n",
       "    this.imageObj.onload = function() {\n",
       "            if (fig.image_mode == 'full') {\n",
       "                // Full images could contain transparency (where diff images\n",
       "                // almost always do), so we need to clear the canvas so that\n",
       "                // there is no ghosting.\n",
       "                fig.context.clearRect(0, 0, fig.canvas.width, fig.canvas.height);\n",
       "            }\n",
       "            fig.context.drawImage(fig.imageObj, 0, 0);\n",
       "        };\n",
       "\n",
       "    this.imageObj.onunload = function() {\n",
       "        fig.ws.close();\n",
       "    }\n",
       "\n",
       "    this.ws.onmessage = this._make_on_message_function(this);\n",
       "\n",
       "    this.ondownload = ondownload;\n",
       "}\n",
       "\n",
       "mpl.figure.prototype._init_header = function() {\n",
       "    var titlebar = $(\n",
       "        '<div class=\"ui-dialog-titlebar ui-widget-header ui-corner-all ' +\n",
       "        'ui-helper-clearfix\"/>');\n",
       "    var titletext = $(\n",
       "        '<div class=\"ui-dialog-title\" style=\"width: 100%; ' +\n",
       "        'text-align: center; padding: 3px;\"/>');\n",
       "    titlebar.append(titletext)\n",
       "    this.root.append(titlebar);\n",
       "    this.header = titletext[0];\n",
       "}\n",
       "\n",
       "\n",
       "\n",
       "mpl.figure.prototype._canvas_extra_style = function(canvas_div) {\n",
       "\n",
       "}\n",
       "\n",
       "\n",
       "mpl.figure.prototype._root_extra_style = function(canvas_div) {\n",
       "\n",
       "}\n",
       "\n",
       "mpl.figure.prototype._init_canvas = function() {\n",
       "    var fig = this;\n",
       "\n",
       "    var canvas_div = $('<div/>');\n",
       "\n",
       "    canvas_div.attr('style', 'position: relative; clear: both; outline: 0');\n",
       "\n",
       "    function canvas_keyboard_event(event) {\n",
       "        return fig.key_event(event, event['data']);\n",
       "    }\n",
       "\n",
       "    canvas_div.keydown('key_press', canvas_keyboard_event);\n",
       "    canvas_div.keyup('key_release', canvas_keyboard_event);\n",
       "    this.canvas_div = canvas_div\n",
       "    this._canvas_extra_style(canvas_div)\n",
       "    this.root.append(canvas_div);\n",
       "\n",
       "    var canvas = $('<canvas/>');\n",
       "    canvas.addClass('mpl-canvas');\n",
       "    canvas.attr('style', \"left: 0; top: 0; z-index: 0; outline: 0\")\n",
       "\n",
       "    this.canvas = canvas[0];\n",
       "    this.context = canvas[0].getContext(\"2d\");\n",
       "\n",
       "    var backingStore = this.context.backingStorePixelRatio ||\n",
       "\tthis.context.webkitBackingStorePixelRatio ||\n",
       "\tthis.context.mozBackingStorePixelRatio ||\n",
       "\tthis.context.msBackingStorePixelRatio ||\n",
       "\tthis.context.oBackingStorePixelRatio ||\n",
       "\tthis.context.backingStorePixelRatio || 1;\n",
       "\n",
       "    mpl.ratio = (window.devicePixelRatio || 1) / backingStore;\n",
       "\n",
       "    var rubberband = $('<canvas/>');\n",
       "    rubberband.attr('style', \"position: absolute; left: 0; top: 0; z-index: 1;\")\n",
       "\n",
       "    var pass_mouse_events = true;\n",
       "\n",
       "    canvas_div.resizable({\n",
       "        start: function(event, ui) {\n",
       "            pass_mouse_events = false;\n",
       "        },\n",
       "        resize: function(event, ui) {\n",
       "            fig.request_resize(ui.size.width, ui.size.height);\n",
       "        },\n",
       "        stop: function(event, ui) {\n",
       "            pass_mouse_events = true;\n",
       "            fig.request_resize(ui.size.width, ui.size.height);\n",
       "        },\n",
       "    });\n",
       "\n",
       "    function mouse_event_fn(event) {\n",
       "        if (pass_mouse_events)\n",
       "            return fig.mouse_event(event, event['data']);\n",
       "    }\n",
       "\n",
       "    rubberband.mousedown('button_press', mouse_event_fn);\n",
       "    rubberband.mouseup('button_release', mouse_event_fn);\n",
       "    // Throttle sequential mouse events to 1 every 20ms.\n",
       "    rubberband.mousemove('motion_notify', mouse_event_fn);\n",
       "\n",
       "    rubberband.mouseenter('figure_enter', mouse_event_fn);\n",
       "    rubberband.mouseleave('figure_leave', mouse_event_fn);\n",
       "\n",
       "    canvas_div.on(\"wheel\", function (event) {\n",
       "        event = event.originalEvent;\n",
       "        event['data'] = 'scroll'\n",
       "        if (event.deltaY < 0) {\n",
       "            event.step = 1;\n",
       "        } else {\n",
       "            event.step = -1;\n",
       "        }\n",
       "        mouse_event_fn(event);\n",
       "    });\n",
       "\n",
       "    canvas_div.append(canvas);\n",
       "    canvas_div.append(rubberband);\n",
       "\n",
       "    this.rubberband = rubberband;\n",
       "    this.rubberband_canvas = rubberband[0];\n",
       "    this.rubberband_context = rubberband[0].getContext(\"2d\");\n",
       "    this.rubberband_context.strokeStyle = \"#000000\";\n",
       "\n",
       "    this._resize_canvas = function(width, height) {\n",
       "        // Keep the size of the canvas, canvas container, and rubber band\n",
       "        // canvas in synch.\n",
       "        canvas_div.css('width', width)\n",
       "        canvas_div.css('height', height)\n",
       "\n",
       "        canvas.attr('width', width * mpl.ratio);\n",
       "        canvas.attr('height', height * mpl.ratio);\n",
       "        canvas.attr('style', 'width: ' + width + 'px; height: ' + height + 'px;');\n",
       "\n",
       "        rubberband.attr('width', width);\n",
       "        rubberband.attr('height', height);\n",
       "    }\n",
       "\n",
       "    // Set the figure to an initial 600x600px, this will subsequently be updated\n",
       "    // upon first draw.\n",
       "    this._resize_canvas(600, 600);\n",
       "\n",
       "    // Disable right mouse context menu.\n",
       "    $(this.rubberband_canvas).bind(\"contextmenu\",function(e){\n",
       "        return false;\n",
       "    });\n",
       "\n",
       "    function set_focus () {\n",
       "        canvas.focus();\n",
       "        canvas_div.focus();\n",
       "    }\n",
       "\n",
       "    window.setTimeout(set_focus, 100);\n",
       "}\n",
       "\n",
       "mpl.figure.prototype._init_toolbar = function() {\n",
       "    var fig = this;\n",
       "\n",
       "    var nav_element = $('<div/>')\n",
       "    nav_element.attr('style', 'width: 100%');\n",
       "    this.root.append(nav_element);\n",
       "\n",
       "    // Define a callback function for later on.\n",
       "    function toolbar_event(event) {\n",
       "        return fig.toolbar_button_onclick(event['data']);\n",
       "    }\n",
       "    function toolbar_mouse_event(event) {\n",
       "        return fig.toolbar_button_onmouseover(event['data']);\n",
       "    }\n",
       "\n",
       "    for(var toolbar_ind in mpl.toolbar_items) {\n",
       "        var name = mpl.toolbar_items[toolbar_ind][0];\n",
       "        var tooltip = mpl.toolbar_items[toolbar_ind][1];\n",
       "        var image = mpl.toolbar_items[toolbar_ind][2];\n",
       "        var method_name = mpl.toolbar_items[toolbar_ind][3];\n",
       "\n",
       "        if (!name) {\n",
       "            // put a spacer in here.\n",
       "            continue;\n",
       "        }\n",
       "        var button = $('<button/>');\n",
       "        button.addClass('ui-button ui-widget ui-state-default ui-corner-all ' +\n",
       "                        'ui-button-icon-only');\n",
       "        button.attr('role', 'button');\n",
       "        button.attr('aria-disabled', 'false');\n",
       "        button.click(method_name, toolbar_event);\n",
       "        button.mouseover(tooltip, toolbar_mouse_event);\n",
       "\n",
       "        var icon_img = $('<span/>');\n",
       "        icon_img.addClass('ui-button-icon-primary ui-icon');\n",
       "        icon_img.addClass(image);\n",
       "        icon_img.addClass('ui-corner-all');\n",
       "\n",
       "        var tooltip_span = $('<span/>');\n",
       "        tooltip_span.addClass('ui-button-text');\n",
       "        tooltip_span.html(tooltip);\n",
       "\n",
       "        button.append(icon_img);\n",
       "        button.append(tooltip_span);\n",
       "\n",
       "        nav_element.append(button);\n",
       "    }\n",
       "\n",
       "    var fmt_picker_span = $('<span/>');\n",
       "\n",
       "    var fmt_picker = $('<select/>');\n",
       "    fmt_picker.addClass('mpl-toolbar-option ui-widget ui-widget-content');\n",
       "    fmt_picker_span.append(fmt_picker);\n",
       "    nav_element.append(fmt_picker_span);\n",
       "    this.format_dropdown = fmt_picker[0];\n",
       "\n",
       "    for (var ind in mpl.extensions) {\n",
       "        var fmt = mpl.extensions[ind];\n",
       "        var option = $(\n",
       "            '<option/>', {selected: fmt === mpl.default_extension}).html(fmt);\n",
       "        fmt_picker.append(option)\n",
       "    }\n",
       "\n",
       "    // Add hover states to the ui-buttons\n",
       "    $( \".ui-button\" ).hover(\n",
       "        function() { $(this).addClass(\"ui-state-hover\");},\n",
       "        function() { $(this).removeClass(\"ui-state-hover\");}\n",
       "    );\n",
       "\n",
       "    var status_bar = $('<span class=\"mpl-message\"/>');\n",
       "    nav_element.append(status_bar);\n",
       "    this.message = status_bar[0];\n",
       "}\n",
       "\n",
       "mpl.figure.prototype.request_resize = function(x_pixels, y_pixels) {\n",
       "    // Request matplotlib to resize the figure. Matplotlib will then trigger a resize in the client,\n",
       "    // which will in turn request a refresh of the image.\n",
       "    this.send_message('resize', {'width': x_pixels, 'height': y_pixels});\n",
       "}\n",
       "\n",
       "mpl.figure.prototype.send_message = function(type, properties) {\n",
       "    properties['type'] = type;\n",
       "    properties['figure_id'] = this.id;\n",
       "    this.ws.send(JSON.stringify(properties));\n",
       "}\n",
       "\n",
       "mpl.figure.prototype.send_draw_message = function() {\n",
       "    if (!this.waiting) {\n",
       "        this.waiting = true;\n",
       "        this.ws.send(JSON.stringify({type: \"draw\", figure_id: this.id}));\n",
       "    }\n",
       "}\n",
       "\n",
       "\n",
       "mpl.figure.prototype.handle_save = function(fig, msg) {\n",
       "    var format_dropdown = fig.format_dropdown;\n",
       "    var format = format_dropdown.options[format_dropdown.selectedIndex].value;\n",
       "    fig.ondownload(fig, format);\n",
       "}\n",
       "\n",
       "\n",
       "mpl.figure.prototype.handle_resize = function(fig, msg) {\n",
       "    var size = msg['size'];\n",
       "    if (size[0] != fig.canvas.width || size[1] != fig.canvas.height) {\n",
       "        fig._resize_canvas(size[0], size[1]);\n",
       "        fig.send_message(\"refresh\", {});\n",
       "    };\n",
       "}\n",
       "\n",
       "mpl.figure.prototype.handle_rubberband = function(fig, msg) {\n",
       "    var x0 = msg['x0'] / mpl.ratio;\n",
       "    var y0 = (fig.canvas.height - msg['y0']) / mpl.ratio;\n",
       "    var x1 = msg['x1'] / mpl.ratio;\n",
       "    var y1 = (fig.canvas.height - msg['y1']) / mpl.ratio;\n",
       "    x0 = Math.floor(x0) + 0.5;\n",
       "    y0 = Math.floor(y0) + 0.5;\n",
       "    x1 = Math.floor(x1) + 0.5;\n",
       "    y1 = Math.floor(y1) + 0.5;\n",
       "    var min_x = Math.min(x0, x1);\n",
       "    var min_y = Math.min(y0, y1);\n",
       "    var width = Math.abs(x1 - x0);\n",
       "    var height = Math.abs(y1 - y0);\n",
       "\n",
       "    fig.rubberband_context.clearRect(\n",
       "        0, 0, fig.canvas.width, fig.canvas.height);\n",
       "\n",
       "    fig.rubberband_context.strokeRect(min_x, min_y, width, height);\n",
       "}\n",
       "\n",
       "mpl.figure.prototype.handle_figure_label = function(fig, msg) {\n",
       "    // Updates the figure title.\n",
       "    fig.header.textContent = msg['label'];\n",
       "}\n",
       "\n",
       "mpl.figure.prototype.handle_cursor = function(fig, msg) {\n",
       "    var cursor = msg['cursor'];\n",
       "    switch(cursor)\n",
       "    {\n",
       "    case 0:\n",
       "        cursor = 'pointer';\n",
       "        break;\n",
       "    case 1:\n",
       "        cursor = 'default';\n",
       "        break;\n",
       "    case 2:\n",
       "        cursor = 'crosshair';\n",
       "        break;\n",
       "    case 3:\n",
       "        cursor = 'move';\n",
       "        break;\n",
       "    }\n",
       "    fig.rubberband_canvas.style.cursor = cursor;\n",
       "}\n",
       "\n",
       "mpl.figure.prototype.handle_message = function(fig, msg) {\n",
       "    fig.message.textContent = msg['message'];\n",
       "}\n",
       "\n",
       "mpl.figure.prototype.handle_draw = function(fig, msg) {\n",
       "    // Request the server to send over a new figure.\n",
       "    fig.send_draw_message();\n",
       "}\n",
       "\n",
       "mpl.figure.prototype.handle_image_mode = function(fig, msg) {\n",
       "    fig.image_mode = msg['mode'];\n",
       "}\n",
       "\n",
       "mpl.figure.prototype.updated_canvas_event = function() {\n",
       "    // Called whenever the canvas gets updated.\n",
       "    this.send_message(\"ack\", {});\n",
       "}\n",
       "\n",
       "// A function to construct a web socket function for onmessage handling.\n",
       "// Called in the figure constructor.\n",
       "mpl.figure.prototype._make_on_message_function = function(fig) {\n",
       "    return function socket_on_message(evt) {\n",
       "        if (evt.data instanceof Blob) {\n",
       "            /* FIXME: We get \"Resource interpreted as Image but\n",
       "             * transferred with MIME type text/plain:\" errors on\n",
       "             * Chrome.  But how to set the MIME type?  It doesn't seem\n",
       "             * to be part of the websocket stream */\n",
       "            evt.data.type = \"image/png\";\n",
       "\n",
       "            /* Free the memory for the previous frames */\n",
       "            if (fig.imageObj.src) {\n",
       "                (window.URL || window.webkitURL).revokeObjectURL(\n",
       "                    fig.imageObj.src);\n",
       "            }\n",
       "\n",
       "            fig.imageObj.src = (window.URL || window.webkitURL).createObjectURL(\n",
       "                evt.data);\n",
       "            fig.updated_canvas_event();\n",
       "            fig.waiting = false;\n",
       "            return;\n",
       "        }\n",
       "        else if (typeof evt.data === 'string' && evt.data.slice(0, 21) == \"data:image/png;base64\") {\n",
       "            fig.imageObj.src = evt.data;\n",
       "            fig.updated_canvas_event();\n",
       "            fig.waiting = false;\n",
       "            return;\n",
       "        }\n",
       "\n",
       "        var msg = JSON.parse(evt.data);\n",
       "        var msg_type = msg['type'];\n",
       "\n",
       "        // Call the  \"handle_{type}\" callback, which takes\n",
       "        // the figure and JSON message as its only arguments.\n",
       "        try {\n",
       "            var callback = fig[\"handle_\" + msg_type];\n",
       "        } catch (e) {\n",
       "            console.log(\"No handler for the '\" + msg_type + \"' message type: \", msg);\n",
       "            return;\n",
       "        }\n",
       "\n",
       "        if (callback) {\n",
       "            try {\n",
       "                // console.log(\"Handling '\" + msg_type + \"' message: \", msg);\n",
       "                callback(fig, msg);\n",
       "            } catch (e) {\n",
       "                console.log(\"Exception inside the 'handler_\" + msg_type + \"' callback:\", e, e.stack, msg);\n",
       "            }\n",
       "        }\n",
       "    };\n",
       "}\n",
       "\n",
       "// from http://stackoverflow.com/questions/1114465/getting-mouse-location-in-canvas\n",
       "mpl.findpos = function(e) {\n",
       "    //this section is from http://www.quirksmode.org/js/events_properties.html\n",
       "    var targ;\n",
       "    if (!e)\n",
       "        e = window.event;\n",
       "    if (e.target)\n",
       "        targ = e.target;\n",
       "    else if (e.srcElement)\n",
       "        targ = e.srcElement;\n",
       "    if (targ.nodeType == 3) // defeat Safari bug\n",
       "        targ = targ.parentNode;\n",
       "\n",
       "    // jQuery normalizes the pageX and pageY\n",
       "    // pageX,Y are the mouse positions relative to the document\n",
       "    // offset() returns the position of the element relative to the document\n",
       "    var x = e.pageX - $(targ).offset().left;\n",
       "    var y = e.pageY - $(targ).offset().top;\n",
       "\n",
       "    return {\"x\": x, \"y\": y};\n",
       "};\n",
       "\n",
       "/*\n",
       " * return a copy of an object with only non-object keys\n",
       " * we need this to avoid circular references\n",
       " * http://stackoverflow.com/a/24161582/3208463\n",
       " */\n",
       "function simpleKeys (original) {\n",
       "  return Object.keys(original).reduce(function (obj, key) {\n",
       "    if (typeof original[key] !== 'object')\n",
       "        obj[key] = original[key]\n",
       "    return obj;\n",
       "  }, {});\n",
       "}\n",
       "\n",
       "mpl.figure.prototype.mouse_event = function(event, name) {\n",
       "    var canvas_pos = mpl.findpos(event)\n",
       "\n",
       "    if (name === 'button_press')\n",
       "    {\n",
       "        this.canvas.focus();\n",
       "        this.canvas_div.focus();\n",
       "    }\n",
       "\n",
       "    var x = canvas_pos.x * mpl.ratio;\n",
       "    var y = canvas_pos.y * mpl.ratio;\n",
       "\n",
       "    this.send_message(name, {x: x, y: y, button: event.button,\n",
       "                             step: event.step,\n",
       "                             guiEvent: simpleKeys(event)});\n",
       "\n",
       "    /* This prevents the web browser from automatically changing to\n",
       "     * the text insertion cursor when the button is pressed.  We want\n",
       "     * to control all of the cursor setting manually through the\n",
       "     * 'cursor' event from matplotlib */\n",
       "    event.preventDefault();\n",
       "    return false;\n",
       "}\n",
       "\n",
       "mpl.figure.prototype._key_event_extra = function(event, name) {\n",
       "    // Handle any extra behaviour associated with a key event\n",
       "}\n",
       "\n",
       "mpl.figure.prototype.key_event = function(event, name) {\n",
       "\n",
       "    // Prevent repeat events\n",
       "    if (name == 'key_press')\n",
       "    {\n",
       "        if (event.which === this._key)\n",
       "            return;\n",
       "        else\n",
       "            this._key = event.which;\n",
       "    }\n",
       "    if (name == 'key_release')\n",
       "        this._key = null;\n",
       "\n",
       "    var value = '';\n",
       "    if (event.ctrlKey && event.which != 17)\n",
       "        value += \"ctrl+\";\n",
       "    if (event.altKey && event.which != 18)\n",
       "        value += \"alt+\";\n",
       "    if (event.shiftKey && event.which != 16)\n",
       "        value += \"shift+\";\n",
       "\n",
       "    value += 'k';\n",
       "    value += event.which.toString();\n",
       "\n",
       "    this._key_event_extra(event, name);\n",
       "\n",
       "    this.send_message(name, {key: value,\n",
       "                             guiEvent: simpleKeys(event)});\n",
       "    return false;\n",
       "}\n",
       "\n",
       "mpl.figure.prototype.toolbar_button_onclick = function(name) {\n",
       "    if (name == 'download') {\n",
       "        this.handle_save(this, null);\n",
       "    } else {\n",
       "        this.send_message(\"toolbar_button\", {name: name});\n",
       "    }\n",
       "};\n",
       "\n",
       "mpl.figure.prototype.toolbar_button_onmouseover = function(tooltip) {\n",
       "    this.message.textContent = tooltip;\n",
       "};\n",
       "mpl.toolbar_items = [[\"Home\", \"Reset original view\", \"fa fa-home icon-home\", \"home\"], [\"Back\", \"Back to  previous view\", \"fa fa-arrow-left icon-arrow-left\", \"back\"], [\"Forward\", \"Forward to next view\", \"fa fa-arrow-right icon-arrow-right\", \"forward\"], [\"\", \"\", \"\", \"\"], [\"Pan\", \"Pan axes with left mouse, zoom with right\", \"fa fa-arrows icon-move\", \"pan\"], [\"Zoom\", \"Zoom to rectangle\", \"fa fa-square-o icon-check-empty\", \"zoom\"], [\"\", \"\", \"\", \"\"], [\"Download\", \"Download plot\", \"fa fa-floppy-o icon-save\", \"download\"]];\n",
       "\n",
       "mpl.extensions = [\"eps\", \"jpeg\", \"pdf\", \"png\", \"ps\", \"raw\", \"svg\", \"tif\"];\n",
       "\n",
       "mpl.default_extension = \"png\";var comm_websocket_adapter = function(comm) {\n",
       "    // Create a \"websocket\"-like object which calls the given IPython comm\n",
       "    // object with the appropriate methods. Currently this is a non binary\n",
       "    // socket, so there is still some room for performance tuning.\n",
       "    var ws = {};\n",
       "\n",
       "    ws.close = function() {\n",
       "        comm.close()\n",
       "    };\n",
       "    ws.send = function(m) {\n",
       "        //console.log('sending', m);\n",
       "        comm.send(m);\n",
       "    };\n",
       "    // Register the callback with on_msg.\n",
       "    comm.on_msg(function(msg) {\n",
       "        //console.log('receiving', msg['content']['data'], msg);\n",
       "        // Pass the mpl event to the overriden (by mpl) onmessage function.\n",
       "        ws.onmessage(msg['content']['data'])\n",
       "    });\n",
       "    return ws;\n",
       "}\n",
       "\n",
       "mpl.mpl_figure_comm = function(comm, msg) {\n",
       "    // This is the function which gets called when the mpl process\n",
       "    // starts-up an IPython Comm through the \"matplotlib\" channel.\n",
       "\n",
       "    var id = msg.content.data.id;\n",
       "    // Get hold of the div created by the display call when the Comm\n",
       "    // socket was opened in Python.\n",
       "    var element = $(\"#\" + id);\n",
       "    var ws_proxy = comm_websocket_adapter(comm)\n",
       "\n",
       "    function ondownload(figure, format) {\n",
       "        window.open(figure.imageObj.src);\n",
       "    }\n",
       "\n",
       "    var fig = new mpl.figure(id, ws_proxy,\n",
       "                           ondownload,\n",
       "                           element.get(0));\n",
       "\n",
       "    // Call onopen now - mpl needs it, as it is assuming we've passed it a real\n",
       "    // web socket which is closed, not our websocket->open comm proxy.\n",
       "    ws_proxy.onopen();\n",
       "\n",
       "    fig.parent_element = element.get(0);\n",
       "    fig.cell_info = mpl.find_output_cell(\"<div id='\" + id + \"'></div>\");\n",
       "    if (!fig.cell_info) {\n",
       "        console.error(\"Failed to find cell for figure\", id, fig);\n",
       "        return;\n",
       "    }\n",
       "\n",
       "    var output_index = fig.cell_info[2]\n",
       "    var cell = fig.cell_info[0];\n",
       "\n",
       "};\n",
       "\n",
       "mpl.figure.prototype.handle_close = function(fig, msg) {\n",
       "    var width = fig.canvas.width/mpl.ratio\n",
       "    fig.root.unbind('remove')\n",
       "\n",
       "    // Update the output cell to use the data from the current canvas.\n",
       "    fig.push_to_output();\n",
       "    var dataURL = fig.canvas.toDataURL();\n",
       "    // Re-enable the keyboard manager in IPython - without this line, in FF,\n",
       "    // the notebook keyboard shortcuts fail.\n",
       "    IPython.keyboard_manager.enable()\n",
       "    $(fig.parent_element).html('<img src=\"' + dataURL + '\" width=\"' + width + '\">');\n",
       "    fig.close_ws(fig, msg);\n",
       "}\n",
       "\n",
       "mpl.figure.prototype.close_ws = function(fig, msg){\n",
       "    fig.send_message('closing', msg);\n",
       "    // fig.ws.close()\n",
       "}\n",
       "\n",
       "mpl.figure.prototype.push_to_output = function(remove_interactive) {\n",
       "    // Turn the data on the canvas into data in the output cell.\n",
       "    var width = this.canvas.width/mpl.ratio\n",
       "    var dataURL = this.canvas.toDataURL();\n",
       "    this.cell_info[1]['text/html'] = '<img src=\"' + dataURL + '\" width=\"' + width + '\">';\n",
       "}\n",
       "\n",
       "mpl.figure.prototype.updated_canvas_event = function() {\n",
       "    // Tell IPython that the notebook contents must change.\n",
       "    IPython.notebook.set_dirty(true);\n",
       "    this.send_message(\"ack\", {});\n",
       "    var fig = this;\n",
       "    // Wait a second, then push the new image to the DOM so\n",
       "    // that it is saved nicely (might be nice to debounce this).\n",
       "    setTimeout(function () { fig.push_to_output() }, 1000);\n",
       "}\n",
       "\n",
       "mpl.figure.prototype._init_toolbar = function() {\n",
       "    var fig = this;\n",
       "\n",
       "    var nav_element = $('<div/>')\n",
       "    nav_element.attr('style', 'width: 100%');\n",
       "    this.root.append(nav_element);\n",
       "\n",
       "    // Define a callback function for later on.\n",
       "    function toolbar_event(event) {\n",
       "        return fig.toolbar_button_onclick(event['data']);\n",
       "    }\n",
       "    function toolbar_mouse_event(event) {\n",
       "        return fig.toolbar_button_onmouseover(event['data']);\n",
       "    }\n",
       "\n",
       "    for(var toolbar_ind in mpl.toolbar_items){\n",
       "        var name = mpl.toolbar_items[toolbar_ind][0];\n",
       "        var tooltip = mpl.toolbar_items[toolbar_ind][1];\n",
       "        var image = mpl.toolbar_items[toolbar_ind][2];\n",
       "        var method_name = mpl.toolbar_items[toolbar_ind][3];\n",
       "\n",
       "        if (!name) { continue; };\n",
       "\n",
       "        var button = $('<button class=\"btn btn-default\" href=\"#\" title=\"' + name + '\"><i class=\"fa ' + image + ' fa-lg\"></i></button>');\n",
       "        button.click(method_name, toolbar_event);\n",
       "        button.mouseover(tooltip, toolbar_mouse_event);\n",
       "        nav_element.append(button);\n",
       "    }\n",
       "\n",
       "    // Add the status bar.\n",
       "    var status_bar = $('<span class=\"mpl-message\" style=\"text-align:right; float: right;\"/>');\n",
       "    nav_element.append(status_bar);\n",
       "    this.message = status_bar[0];\n",
       "\n",
       "    // Add the close button to the window.\n",
       "    var buttongrp = $('<div class=\"btn-group inline pull-right\"></div>');\n",
       "    var button = $('<button class=\"btn btn-mini btn-primary\" href=\"#\" title=\"Stop Interaction\"><i class=\"fa fa-power-off icon-remove icon-large\"></i></button>');\n",
       "    button.click(function (evt) { fig.handle_close(fig, {}); } );\n",
       "    button.mouseover('Stop Interaction', toolbar_mouse_event);\n",
       "    buttongrp.append(button);\n",
       "    var titlebar = this.root.find($('.ui-dialog-titlebar'));\n",
       "    titlebar.prepend(buttongrp);\n",
       "}\n",
       "\n",
       "mpl.figure.prototype._root_extra_style = function(el){\n",
       "    var fig = this\n",
       "    el.on(\"remove\", function(){\n",
       "\tfig.close_ws(fig, {});\n",
       "    });\n",
       "}\n",
       "\n",
       "mpl.figure.prototype._canvas_extra_style = function(el){\n",
       "    // this is important to make the div 'focusable\n",
       "    el.attr('tabindex', 0)\n",
       "    // reach out to IPython and tell the keyboard manager to turn it's self\n",
       "    // off when our div gets focus\n",
       "\n",
       "    // location in version 3\n",
       "    if (IPython.notebook.keyboard_manager) {\n",
       "        IPython.notebook.keyboard_manager.register_events(el);\n",
       "    }\n",
       "    else {\n",
       "        // location in version 2\n",
       "        IPython.keyboard_manager.register_events(el);\n",
       "    }\n",
       "\n",
       "}\n",
       "\n",
       "mpl.figure.prototype._key_event_extra = function(event, name) {\n",
       "    var manager = IPython.notebook.keyboard_manager;\n",
       "    if (!manager)\n",
       "        manager = IPython.keyboard_manager;\n",
       "\n",
       "    // Check for shift+enter\n",
       "    if (event.shiftKey && event.which == 13) {\n",
       "        this.canvas_div.blur();\n",
       "        event.shiftKey = false;\n",
       "        // Send a \"J\" for go to next cell\n",
       "        event.which = 74;\n",
       "        event.keyCode = 74;\n",
       "        manager.command_mode();\n",
       "        manager.handle_keydown(event);\n",
       "    }\n",
       "}\n",
       "\n",
       "mpl.figure.prototype.handle_save = function(fig, msg) {\n",
       "    fig.ondownload(fig, null);\n",
       "}\n",
       "\n",
       "\n",
       "mpl.find_output_cell = function(html_output) {\n",
       "    // Return the cell and output element which can be found *uniquely* in the notebook.\n",
       "    // Note - this is a bit hacky, but it is done because the \"notebook_saving.Notebook\"\n",
       "    // IPython event is triggered only after the cells have been serialised, which for\n",
       "    // our purposes (turning an active figure into a static one), is too late.\n",
       "    var cells = IPython.notebook.get_cells();\n",
       "    var ncells = cells.length;\n",
       "    for (var i=0; i<ncells; i++) {\n",
       "        var cell = cells[i];\n",
       "        if (cell.cell_type === 'code'){\n",
       "            for (var j=0; j<cell.output_area.outputs.length; j++) {\n",
       "                var data = cell.output_area.outputs[j];\n",
       "                if (data.data) {\n",
       "                    // IPython >= 3 moved mimebundle to data attribute of output\n",
       "                    data = data.data;\n",
       "                }\n",
       "                if (data['text/html'] == html_output) {\n",
       "                    return [cell, data, j];\n",
       "                }\n",
       "            }\n",
       "        }\n",
       "    }\n",
       "}\n",
       "\n",
       "// Register the function which deals with the matplotlib target/channel.\n",
       "// The kernel may be null if the page has been refreshed.\n",
       "if (IPython.notebook.kernel != null) {\n",
       "    IPython.notebook.kernel.comm_manager.register_target('matplotlib', mpl.mpl_figure_comm);\n",
       "}\n"
      ],
      "text/plain": [
       "<IPython.core.display.Javascript object>"
      ]
     },
     "metadata": {},
     "output_type": "display_data"
    },
    {
     "data": {
      "text/html": [
       "<img src=\"data:image/png;base64,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\" width=\"640\">"
      ],
      "text/plain": [
       "<IPython.core.display.HTML object>"
      ]
     },
     "metadata": {},
     "output_type": "display_data"
    }
   ],
   "source": [
    "# Age deemed long-tailed\n",
    "# age_log=[]\n",
    "# for i in range(0,len(dataset_features[1])):\n",
    "#     if dataset_features[1][i]<=0:\n",
    "#         age_log.append(0)\n",
    "#     else:\n",
    "#         age_log.append(np.log2(dataset_features[1][i]))\n",
    "# print(age_log)\n",
    "\n",
    "# plt.hist(age_log,bins=range(0,math.ceil(np.log2(81))))\n",
    "# plt.show()"
   ]
  },
  {
   "cell_type": "code",
   "execution_count": 42,
   "metadata": {},
   "outputs": [
    {
     "name": "stdout",
     "output_type": "stream",
     "text": [
      "[1, 3, 4]\n",
      "[0, 3.0, 0, 4.0, 3.0, 0]\n"
     ]
    }
   ],
   "source": [
    "# a=[0,8,0,16,8,0]\n",
    "# nonzeros=list(np.nonzero(a)[0])\n",
    "# print(nonzeros)\n",
    "# log=[]\n",
    "# for i in range(0,len(a)):\n",
    "#     if a[i]==0:\n",
    "#         log.append(0)\n",
    "#     else:\n",
    "#         log.append(np.log2(a[i]))\n",
    "# print(log)"
   ]
  },
  {
   "cell_type": "markdown",
   "metadata": {},
   "source": [
    "## Train/Test Separation"
   ]
  },
  {
   "cell_type": "code",
   "execution_count": 6,
   "metadata": {
    "collapsed": true
   },
   "outputs": [],
   "source": [
    "perm = np.random.permutation(dataset_targets.shape[0])\n",
    "dataset_features = dataset_features[perm]\n",
    "dataset_targets = dataset_targets[perm]\n",
    "\n",
    "def get_batch(n_size, phase):\n",
    "    # select indices\n",
    "    n_samples = dataset_features.shape[0]\n",
    "    n_classes = int(dataset_targets.max() + 1)\n",
    "    if phase == 'test':\n",
    "        inds_sel = np.arange(0, int(n_samples*0.15), 1)\n",
    "    elif phase == 'validation':\n",
    "        n_samples = dataset_features.shape[0]\n",
    "        inds_sel = np.arange(int(n_samples*0.15), int(n_samples*0.30), 1)\n",
    "    elif phase == 'train':\n",
    "        n_samples = dataset_features.shape[0]\n",
    "        inds_sel = np.arange(int(n_samples*0.30), n_samples, 1)\n",
    "    else:\n",
    "        raise NotImplementedError\n",
    "    inds_sel = np.random.permutation(inds_sel)\n",
    "    batch_inds = []\n",
    "    for cl in range(n_classes):\n",
    "        inds_cl = inds_sel[dataset_targets[inds_sel] == cl]\n",
    "        batch_inds.extend(inds_cl[:n_size//n_classes])\n",
    "    batch_inds = np.random.permutation(batch_inds)\n",
    "    \n",
    "    return dataset_features[batch_inds], dataset_targets[batch_inds]\n",
    "    \n",
    "features_trn, targets_trn = get_batch(n_size=5000, phase='train')\n",
    "features_tst, targets_tst = get_batch(n_size=1000, phase='test')"
   ]
  },
  {
   "cell_type": "markdown",
   "metadata": {},
   "source": [
    "## Classification"
   ]
  },
  {
   "cell_type": "code",
   "execution_count": 7,
   "metadata": {
    "collapsed": true
   },
   "outputs": [],
   "source": [
    "# tmp = features_trn.T[10]\n",
    "# np.where(np.isnan(tmp))\n",
    "# np.where(np.isnan(tmp))\n"
   ]
  },
  {
   "cell_type": "code",
   "execution_count": 8,
   "metadata": {
    "collapsed": true
   },
   "outputs": [],
   "source": [
    "# features_trn = features_trn.T[:1].T\n",
    "# features_tst = features_tst.T[:1].T"
   ]
  },
  {
   "cell_type": "markdown",
   "metadata": {},
   "source": [
    "## Feature Selection"
   ]
  },
  {
   "cell_type": "code",
   "execution_count": 9,
   "metadata": {
    "collapsed": true
   },
   "outputs": [],
   "source": [
    "# L1-based\n",
    "log_clf_l1 = LogisticRegression(max_iter=200, penalty='l1', solver='liblinear')\n",
    "log_clf_l1.fit(features_trn, targets_trn)\n",
    "model = SelectFromModel(log_clf_l1, prefit=True)\n",
    "features_trn_l1 = model.transform(features_trn)\n",
    "features_tst_l1 = model.transform(features_tst)"
   ]
  },
  {
   "cell_type": "code",
   "execution_count": 10,
   "metadata": {},
   "outputs": [
    {
     "data": {
      "text/plain": [
       "{'max_leaf_nodes': 50, 'n_estimators': 200}"
      ]
     },
     "execution_count": 10,
     "metadata": {},
     "output_type": "execute_result"
    }
   ],
   "source": [
    "# Tree-based\n",
    "from sklearn.model_selection import GridSearchCV\n",
    "np.random.seed(100)\n",
    "clf = RandomForestClassifier(n_jobs = -1)\n",
    "\n",
    "#Setup parameter values to search through\n",
    "#uses cross validation to select best params\n",
    "param_grid = [\n",
    "    {'n_estimators' : [50,100,200], 'max_leaf_nodes':[10,50,100]},\n",
    "    ]\n",
    "grid_search = GridSearchCV(clf, param_grid,cv=5)\n",
    "grid_search.fit(features_trn, targets_trn)\n",
    "\n",
    "grid_search.best_params_"
   ]
  },
  {
   "cell_type": "code",
   "execution_count": 11,
   "metadata": {
    "collapsed": true
   },
   "outputs": [],
   "source": [
    "rnd_clf = RandomForestClassifier(n_estimators = 200, max_leaf_nodes = 50,n_jobs=-1)\n",
    "rnd_clf.fit(features_trn, targets_trn)\n",
    "model = SelectFromModel(rnd_clf, prefit=True)\n",
    "features_trn_tree = model.transform(features_trn)\n",
    "features_tst_tree = model.transform(features_tst)"
   ]
  },
  {
   "cell_type": "code",
   "execution_count": 12,
   "metadata": {
    "collapsed": true
   },
   "outputs": [],
   "source": [
    "model=SelectFromModel(rnd_clf, prefit=True, threshold=1.39763273e-02)\n",
    "features_trn_tree2=model.transform(features_trn)\n",
    "features_tst_tree2=model.transform(features_tst)"
   ]
  },
  {
   "cell_type": "code",
   "execution_count": 13,
   "metadata": {},
   "outputs": [
    {
     "name": "stdout",
     "output_type": "stream",
     "text": [
      "(1000, 80)\n",
      "(1000, 71)\n",
      "(1000, 18)\n",
      "(1000, 16)\n"
     ]
    }
   ],
   "source": [
    "print(features_tst.shape)\n",
    "print(features_tst_l1.shape)\n",
    "print(features_tst_tree.shape)\n",
    "print(features_tst_tree2.shape)\n",
    "#features_trn"
   ]
  },
  {
   "cell_type": "markdown",
   "metadata": {},
   "source": [
    "## Models w/ all features"
   ]
  },
  {
   "cell_type": "code",
   "execution_count": 14,
   "metadata": {},
   "outputs": [
    {
     "name": "stdout",
     "output_type": "stream",
     "text": [
      "accu_tst_RFC 0.731\n",
      "accu_tst_SVC 0.719\n",
      "accu_tst_LR_l1 0.746\n"
     ]
    },
    {
     "name": "stderr",
     "output_type": "stream",
     "text": [
      "/anaconda3/lib/python3.6/site-packages/sklearn/linear_model/sag.py:326: ConvergenceWarning: The max_iter was reached which means the coef_ did not converge\n",
      "  \"the coef_ did not converge\", ConvergenceWarning)\n"
     ]
    },
    {
     "name": "stdout",
     "output_type": "stream",
     "text": [
      "accu_tst_LR_elastic 0.747\n",
      "accu_tst_LR_l2 0.747\n",
      "accu_tst_knn 0.662\n",
      "accu_tst_adaboost 0.744\n"
     ]
    }
   ],
   "source": [
    "rnd_clf = RandomForestClassifier(n_estimators=100,n_jobs=-1)\n",
    "rnd_clf.fit(features_trn, targets_trn)\n",
    "preds_tst = rnd_clf.predict(features_tst)\n",
    "accu = np.mean(preds_tst==targets_tst)\n",
    "#print(rnd_clf.feature_importances_)\n",
    "print('accu_tst_RFC', accu)\n",
    "\n",
    "svm_clf = SVC(gamma='auto')\n",
    "svm_clf.fit(features_trn, targets_trn)\n",
    "preds_tst = svm_clf.predict(features_tst)\n",
    "accu = np.mean(preds_tst==targets_tst)\n",
    "print('accu_tst_SVC', accu)\n",
    "\n",
    "log_clf_l1.fit(features_trn, targets_trn)\n",
    "preds_tst = log_clf_l1.predict(features_tst)\n",
    "accu = np.mean(preds_tst==targets_tst)\n",
    "#print(log_clf_l1.coef_)\n",
    "print('accu_tst_LR_l1', accu)\n",
    "\n",
    "log_clf_elastic = LogisticRegression(max_iter=500, penalty='elasticnet',solver='saga')\n",
    "log_clf_elastic.fit(features_trn, targets_trn)\n",
    "preds_tst = log_clf_elastic.predict(features_tst)\n",
    "accu = np.mean(preds_tst==targets_tst)\n",
    "print('accu_tst_LR_elastic', accu)\n",
    "\n",
    "log_clf_l2 = LogisticRegression(max_iter=200, penalty='l2',solver='sag')\n",
    "log_clf_l2.fit(features_trn, targets_trn)\n",
    "preds_tst = log_clf_l2.predict(features_tst)\n",
    "accu = np.mean(preds_tst==targets_tst)\n",
    "print('accu_tst_LR_l2', accu)\n",
    "\n",
    "neigh_clf = KNeighborsClassifier(n_neighbors=3)\n",
    "neigh_clf.fit(features_trn, targets_trn) \n",
    "preds_tst = neigh_clf.predict(features_tst)\n",
    "accu = np.mean(preds_tst==targets_tst)\n",
    "print('accu_tst_knn', accu)\n",
    "\n",
    "adaboost_clf = AdaBoostClassifier(base_estimator=LogisticRegression(),n_estimators=100)\n",
    "adaboost_clf.fit(features_trn, targets_trn)\n",
    "preds_tst = adaboost_clf.predict(features_tst)\n",
    "accu = np.mean(preds_tst==targets_tst)\n",
    "print('accu_tst_adaboost', accu)"
   ]
  },
  {
   "cell_type": "code",
   "execution_count": 15,
   "metadata": {
    "collapsed": true
   },
   "outputs": [],
   "source": [
    "LR_l1_allfeat_df = pd.DataFrame(log_clf_l1.coef_)\n",
    "LR_l1_allfeat_df=LR_l1_allfeat_df.T\n",
    "LR_l1_allfeat_df['features']=ds.feat_names\n",
    "LR_l1_allfeat_df.to_csv(\"/Users/teianoel/Desktop/CS_205/LR_l1_allfeat_df.csv\")"
   ]
  },
  {
   "cell_type": "code",
   "execution_count": 15,
   "metadata": {
    "scrolled": true
   },
   "outputs": [
    {
     "name": "stdout",
     "output_type": "stream",
     "text": [
      "accu_tst_LR_l1_hyper 0.748\n"
     ]
    },
    {
     "name": "stderr",
     "output_type": "stream",
     "text": [
      "/anaconda3/lib/python3.6/site-packages/sklearn/linear_model/sag.py:326: ConvergenceWarning: The max_iter was reached which means the coef_ did not converge\n",
      "  \"the coef_ did not converge\", ConvergenceWarning)\n"
     ]
    },
    {
     "name": "stdout",
     "output_type": "stream",
     "text": [
      "accu_tst_LR_elastic_hyper 0.748\n",
      "accu_tst_LR_l2_hyper 0.747\n"
     ]
    }
   ],
   "source": [
    "# Models w/ hyperparameter tuning\n",
    "\n",
    "log_clf_l1_hyper = LogisticRegressionCV(penalty='l1',solver='liblinear')\n",
    "log_clf_l1_hyper.fit(features_trn, targets_trn)\n",
    "preds_tst = log_clf_l1_hyper.predict(features_tst)\n",
    "accu = np.mean(preds_tst==targets_tst)\n",
    "print('accu_tst_LR_l1_hyper', accu)\n",
    "\n",
    "log_clf_elastic_hyper = LogisticRegressionCV(max_iter=500,penalty='elasticnet',solver='saga')\n",
    "log_clf_elastic_hyper.fit(features_trn, targets_trn)\n",
    "preds_tst = log_clf_elastic_hyper.predict(features_tst)\n",
    "accu = np.mean(preds_tst==targets_tst)\n",
    "print('accu_tst_LR_elastic_hyper', accu)\n",
    "\n",
    "log_clf_l2_hyper = LogisticRegressionCV(penalty='l2',solver='sag')\n",
    "log_clf_l2_hyper.fit(features_trn, targets_trn)\n",
    "preds_tst = log_clf_l2_hyper.predict(features_tst)\n",
    "accu = np.mean(preds_tst==targets_tst)\n",
    "print('accu_tst_LR_l2_hyper', accu)"
   ]
  },
  {
   "cell_type": "code",
   "execution_count": 58,
   "metadata": {
    "collapsed": true
   },
   "outputs": [],
   "source": [
    "LR_l1_hyper_allfeat_df = pd.DataFrame(log_clf_l1_hyper.coef_)\n",
    "LR_l1_hyper_allfeat_df=LR_l1_hyper_allfeat_df.T\n",
    "LR_l1_hyper_allfeat_df['features']=ds.feat_names\n",
    "LR_l1_hyper_allfeat_df.to_csv(\"/Users/teianoel/Desktop/CS_205/LR_l1_hyper_allfeat_df.csv\")"
   ]
  },
  {
   "cell_type": "code",
   "execution_count": 61,
   "metadata": {
    "collapsed": true
   },
   "outputs": [],
   "source": [
    "LR_elastic_hyper_allfeat_df = pd.DataFrame(log_clf_elastic_hyper.coef_)\n",
    "LR_elastic_hyper_allfeat_df=LR_elastic_hyper_allfeat_df.T\n",
    "LR_elastic_hyper_allfeat_df['features']=ds.feat_names\n",
    "LR_elastic_hyper_allfeat_df.to_csv(\"/Users/teianoel/Desktop/CS_205/LR_elastic_hyper_allfeat_df.csv\")"
   ]
  },
  {
   "cell_type": "code",
   "execution_count": 16,
   "metadata": {},
   "outputs": [
    {
     "data": {
      "text/plain": [
       "{'max_leaf_nodes': 50, 'n_estimators': 200}"
      ]
     },
     "execution_count": 16,
     "metadata": {},
     "output_type": "execute_result"
    }
   ],
   "source": [
    "np.random.seed(100)\n",
    "clf = RandomForestClassifier(n_jobs = -1)\n",
    "\n",
    "#Setup parameter values to search through\n",
    "#uses cross validation to select best params\n",
    "param_grid = [\n",
    "    {'n_estimators' : [50,100,200], 'max_leaf_nodes':[10,50,100]},\n",
    "    ]\n",
    "grid_search = GridSearchCV(clf, param_grid,cv=5)\n",
    "grid_search.fit(features_trn, targets_trn)\n",
    "\n",
    "grid_search.best_params_"
   ]
  },
  {
   "cell_type": "code",
   "execution_count": 17,
   "metadata": {},
   "outputs": [
    {
     "data": {
      "text/plain": [
       "(1000, 81)"
      ]
     },
     "execution_count": 17,
     "metadata": {},
     "output_type": "execute_result"
    }
   ],
   "source": [
    "# random feature later used for tree-based feature selection threshold\n",
    "rand_feat=norm(loc=0,scale=1,size=5000)\n",
    "rand_feat=rand_feat.reshape(-1,1)\n",
    "#rand_feat=[rand_feat]\n",
    "#rand_feat.shape\n",
    "features_trn_rand=np.append(features_trn,rand_feat,axis=1)\n",
    "features_trn_rand.shape\n",
    "\n",
    "rand_feat2=norm(loc=0,scale=1,size=1000)\n",
    "rand_feat2=rand_feat2.reshape(-1,1)\n",
    "#rand_feat=[rand_feat]\n",
    "#rand_feat.shape\n",
    "features_tst_rand=np.append(features_tst,rand_feat2,axis=1)\n",
    "features_tst_rand.shape"
   ]
  },
  {
   "cell_type": "code",
   "execution_count": 18,
   "metadata": {},
   "outputs": [
    {
     "name": "stdout",
     "output_type": "stream",
     "text": [
      "[  7.86078984e-03   8.13477393e-03   2.31281982e-01   1.01504833e-03\n",
      "   7.14685325e-04   7.35700912e-03   9.82091103e-04   1.82457680e-03\n",
      "   8.88089355e-05   6.24510725e-02   5.38939326e-03   1.84007408e-02\n",
      "   0.00000000e+00   7.70507936e-03   1.14794755e-03   2.33769765e-03\n",
      "   1.02136309e-02   1.54172615e-02   1.08549669e-02   1.15380773e-02\n",
      "   1.32387044e-02   1.68691887e-02   1.49911730e-02   9.71755615e-03\n",
      "   4.64622163e-03   4.96436772e-04   3.95575208e-03   0.00000000e+00\n",
      "   9.64695768e-02   9.16025881e-03   1.33720817e-02   3.90995212e-04\n",
      "   2.20869912e-03   1.76437920e-03   9.76373985e-04   9.23846994e-04\n",
      "   9.36287027e-04   5.60034131e-03   8.53955289e-02   4.63719878e-02\n",
      "   3.13550899e-02   4.15647325e-05   1.17874970e-03   8.76268425e-03\n",
      "   6.70105885e-03   7.34355714e-03   4.41424082e-04   5.96139170e-04\n",
      "   8.39374153e-04   2.07162372e-03   4.51513465e-03   0.00000000e+00\n",
      "   4.11535808e-03   4.09867041e-03   4.94482313e-03   7.27233135e-03\n",
      "   5.14400212e-03   3.05895766e-02   1.44476808e-03   2.25187273e-03\n",
      "   4.61927308e-04   8.70282238e-04   2.44860983e-03   9.08983568e-03\n",
      "   2.11524947e-02   1.64002140e-04   3.03643353e-03   7.70211677e-04\n",
      "   1.11853881e-02   6.30475613e-03   1.67055845e-03   1.11812540e-03\n",
      "   2.60716249e-02   2.27038755e-02   9.75725292e-03   1.61284924e-03\n",
      "   6.86170098e-03   1.18402136e-03   5.83337316e-04   4.36691973e-03\n",
      "   1.26769669e-02]\n",
      "accu_tst_RFC_rand_hyper 0.721\n"
     ]
    }
   ],
   "source": [
    "rnd_clf_rand_hyper = RandomForestClassifier(n_estimators = 200, max_leaf_nodes = 50,n_jobs=-1)\n",
    "rnd_clf_rand_hyper.fit(features_trn_rand, targets_trn)\n",
    "\n",
    "preds_tst = rnd_clf_rand_hyper.predict(features_tst_rand)\n",
    "accu = np.mean(preds_tst==targets_tst)\n",
    "print(rnd_clf_rand_hyper.feature_importances_)\n",
    "print('accu_tst_RFC_rand_hyper', accu)\n",
    "#-->1.39763273e-02 used for tree-based selection threshold above"
   ]
  },
  {
   "cell_type": "code",
   "execution_count": 19,
   "metadata": {},
   "outputs": [
    {
     "name": "stdout",
     "output_type": "stream",
     "text": [
      "accu_tst_RFC_hyper 0.72\n"
     ]
    }
   ],
   "source": [
    "rnd_clf_hyper = RandomForestClassifier(n_estimators = 200, max_leaf_nodes = 50,n_jobs=-1)\n",
    "rnd_clf_hyper.fit(features_trn, targets_trn)\n",
    "\n",
    "preds_tst = rnd_clf_hyper.predict(features_tst)\n",
    "accu = np.mean(preds_tst==targets_tst)\n",
    "#print(rnd_clf.feature_importances_)\n",
    "print('accu_tst_RFC_hyper', accu)"
   ]
  },
  {
   "cell_type": "code",
   "execution_count": 20,
   "metadata": {},
   "outputs": [
    {
     "data": {
      "text/plain": [
       "{'gamma': 1, 'kernel': 'linear'}"
      ]
     },
     "execution_count": 20,
     "metadata": {},
     "output_type": "execute_result"
    }
   ],
   "source": [
    "np.random.seed(100)\n",
    "clf = SVC()\n",
    "\n",
    "#Setup parameter values to search through\n",
    "#uses cross validation to select best params\n",
    "param_grid = [\n",
    "    {'gamma':[1,0.1,0.001], 'kernel':['linear','rbf']},\n",
    "    ]\n",
    "grid_search = GridSearchCV(clf, param_grid,cv=5)\n",
    "grid_search.fit(features_trn, targets_trn)\n",
    "\n",
    "grid_search.best_params_"
   ]
  },
  {
   "cell_type": "code",
   "execution_count": 21,
   "metadata": {},
   "outputs": [
    {
     "name": "stdout",
     "output_type": "stream",
     "text": [
      "accu_tst_SVC_hyper 0.733\n"
     ]
    }
   ],
   "source": [
    "svm_clf_hyper = SVC(gamma=1,kernel='linear')\n",
    "svm_clf_hyper.fit(features_trn,targets_trn)\n",
    "\n",
    "preds_tst = svm_clf_hyper.predict(features_tst)\n",
    "accu = np.mean(preds_tst==targets_tst)\n",
    "print('accu_tst_SVC_hyper', accu)"
   ]
  },
  {
   "cell_type": "code",
   "execution_count": 20,
   "metadata": {},
   "outputs": [
    {
     "ename": "NameError",
     "evalue": "name 'svm_clf_hyper' is not defined",
     "output_type": "error",
     "traceback": [
      "\u001b[0;31m---------------------------------------------------------------------------\u001b[0m",
      "\u001b[0;31mNameError\u001b[0m                                 Traceback (most recent call last)",
      "\u001b[0;32m<ipython-input-20-1cff3b0042ed>\u001b[0m in \u001b[0;36m<module>\u001b[0;34m()\u001b[0m\n\u001b[0;32m----> 1\u001b[0;31m \u001b[0mSVC_hyper_allfeat_df\u001b[0m \u001b[0;34m=\u001b[0m \u001b[0mpd\u001b[0m\u001b[0;34m.\u001b[0m\u001b[0mDataFrame\u001b[0m\u001b[0;34m(\u001b[0m\u001b[0msvm_clf_hyper\u001b[0m\u001b[0;34m.\u001b[0m\u001b[0mcoef_\u001b[0m\u001b[0;34m)\u001b[0m\u001b[0;34m\u001b[0m\u001b[0;34m\u001b[0m\u001b[0m\n\u001b[0m\u001b[1;32m      2\u001b[0m \u001b[0mSVC_hyper_allfeat_df\u001b[0m\u001b[0;34m=\u001b[0m\u001b[0mSVC_hyper_allfeat_df\u001b[0m\u001b[0;34m.\u001b[0m\u001b[0mT\u001b[0m\u001b[0;34m\u001b[0m\u001b[0;34m\u001b[0m\u001b[0m\n\u001b[1;32m      3\u001b[0m \u001b[0mSVC_hyper_allfeat_df\u001b[0m\u001b[0;34m[\u001b[0m\u001b[0;34m'features'\u001b[0m\u001b[0;34m]\u001b[0m\u001b[0;34m=\u001b[0m\u001b[0mds\u001b[0m\u001b[0;34m.\u001b[0m\u001b[0mfeat_names\u001b[0m\u001b[0;34m\u001b[0m\u001b[0;34m\u001b[0m\u001b[0m\n\u001b[1;32m      4\u001b[0m \u001b[0mSVC_hyper_allfeat_df\u001b[0m\u001b[0;34m.\u001b[0m\u001b[0mto_csv\u001b[0m\u001b[0;34m(\u001b[0m\u001b[0;34m\"/Users/teianoel/Desktop/CS_205/SVC_hyper_allfeat_df.csv\"\u001b[0m\u001b[0;34m)\u001b[0m\u001b[0;34m\u001b[0m\u001b[0;34m\u001b[0m\u001b[0m\n",
      "\u001b[0;31mNameError\u001b[0m: name 'svm_clf_hyper' is not defined"
     ]
    }
   ],
   "source": [
    "SVC_hyper_allfeat_df = pd.DataFrame(svm_clf_hyper.coef_)\n",
    "SVC_hyper_allfeat_df=SVC_hyper_allfeat_df.T\n",
    "SVC_hyper_allfeat_df['features']=ds.feat_names\n",
    "SVC_hyper_allfeat_df.to_csv(\"/Users/teianoel/Desktop/CS_205/SVC_hyper_allfeat_df.csv\")"
   ]
  },
  {
   "cell_type": "code",
   "execution_count": 22,
   "metadata": {},
   "outputs": [
    {
     "data": {
      "text/plain": [
       "{'metric': 'manhattan', 'n_neighbors': 11, 'weights': 'distance'}"
      ]
     },
     "execution_count": 22,
     "metadata": {},
     "output_type": "execute_result"
    }
   ],
   "source": [
    "np.random.seed(100)\n",
    "clf = KNeighborsClassifier(n_jobs = -1)\n",
    "\n",
    "#Setup parameter values to search through\n",
    "#uses cross validation to select best params\n",
    "param_grid = [\n",
    "    {'n_neighbors' : [3,5,11], 'metric':['euclidean','manhattan'], 'weights':['uniform','distance']},\n",
    "    ]\n",
    "grid_search = GridSearchCV(clf, param_grid,cv=5)\n",
    "grid_search.fit(features_trn, targets_trn)\n",
    "\n",
    "grid_search.best_params_"
   ]
  },
  {
   "cell_type": "code",
   "execution_count": 23,
   "metadata": {},
   "outputs": [
    {
     "name": "stdout",
     "output_type": "stream",
     "text": [
      "accu_tst_KNN_hyper 0.705\n"
     ]
    }
   ],
   "source": [
    "neigh_clf_hyper = KNeighborsClassifier(n_neighbors=11,metric='manhattan',weights='distance')\n",
    "neigh_clf_hyper.fit(features_trn,targets_trn)\n",
    "\n",
    "preds_tst = neigh_clf_hyper.predict(features_tst)\n",
    "accu = np.mean(preds_tst==targets_tst)\n",
    "print('accu_tst_KNN_hyper', accu)"
   ]
  },
  {
   "cell_type": "code",
   "execution_count": 24,
   "metadata": {},
   "outputs": [
    {
     "data": {
      "text/plain": [
       "{'n_estimators': 100}"
      ]
     },
     "execution_count": 24,
     "metadata": {},
     "output_type": "execute_result"
    }
   ],
   "source": [
    "np.random.seed(100)\n",
    "clf = AdaBoostClassifier(base_estimator=LogisticRegression())\n",
    "\n",
    "#Setup parameter values to search through\n",
    "#uses cross validation to select best params\n",
    "param_grid = [\n",
    "    {'n_estimators' : [50,100,1000]},\n",
    "    ]\n",
    "grid_search = GridSearchCV(clf, param_grid,cv=5)\n",
    "grid_search.fit(features_trn, targets_trn)\n",
    "\n",
    "grid_search.best_params_"
   ]
  },
  {
   "cell_type": "code",
   "execution_count": 24,
   "metadata": {},
   "outputs": [
    {
     "name": "stdout",
     "output_type": "stream",
     "text": [
      "accu_tst_adaboost_hyper 0.744\n"
     ]
    }
   ],
   "source": [
    "adaboost_clf_hyper = AdaBoostClassifier(base_estimator=LogisticRegression(),n_estimators=100)\n",
    "adaboost_clf_hyper.fit(features_trn,targets_trn)\n",
    "\n",
    "preds_tst = adaboost_clf_hyper.predict(features_tst)\n",
    "accu = np.mean(preds_tst==targets_tst)\n",
    "print('accu_tst_adaboost_hyper', accu)"
   ]
  },
  {
   "cell_type": "code",
   "execution_count": 27,
   "metadata": {
    "scrolled": true
   },
   "outputs": [
    {
     "data": {
      "text/plain": [
       "VotingClassifier(estimators=[('lr', LogisticRegressionCV(Cs=10, class_weight=None, cv=None, dual=False,\n",
       "           fit_intercept=True, intercept_scaling=1.0, max_iter=100,\n",
       "           multi_class='ovr', n_jobs=1, penalty='l1', random_state=None,\n",
       "           refit=True, scoring=None, solver='liblinear', tol=0.0001,\n",
       "   ...tan',\n",
       "           metric_params=None, n_jobs=1, n_neighbors=11, p=2,\n",
       "           weights='distance'))],\n",
       "         flatten_transform=None, n_jobs=1, voting='hard', weights=None)"
      ]
     },
     "execution_count": 27,
     "metadata": {},
     "output_type": "execute_result"
    }
   ],
   "source": [
    "voting_clf=VotingClassifier(\n",
    "    estimators=[('lr',log_clf_l1_hyper), ('rf',rnd_clf_hyper), ('svc', svm_clf_hyper), ('knn', neigh_clf_hyper)],\n",
    "    voting='hard')\n",
    "voting_clf.fit(features_trn, targets_trn)"
   ]
  },
  {
   "cell_type": "code",
   "execution_count": 28,
   "metadata": {
    "scrolled": true
   },
   "outputs": [
    {
     "name": "stdout",
     "output_type": "stream",
     "text": [
      "LogisticRegressionCV 0.748\n",
      "RandomForestClassifier 0.722\n",
      "SVC 0.733\n",
      "KNeighborsClassifier 0.705\n",
      "VotingClassifier 0.738\n"
     ]
    }
   ],
   "source": [
    "for clf in (log_clf_l1_hyper,rnd_clf_hyper,svm_clf_hyper,neigh_clf_hyper,voting_clf):\n",
    "    clf.fit(features_trn,targets_trn)\n",
    "    y_pred=clf.predict(features_tst)\n",
    "    print(clf.__class__.__name__,accuracy_score(targets_tst,y_pred))"
   ]
  },
  {
   "cell_type": "code",
   "execution_count": 29,
   "metadata": {},
   "outputs": [
    {
     "data": {
      "text/plain": [
       "VotingClassifier(estimators=[('lr', LogisticRegressionCV(Cs=10, class_weight=None, cv=None, dual=False,\n",
       "           fit_intercept=True, intercept_scaling=1.0, max_iter=100,\n",
       "           multi_class='ovr', n_jobs=1, penalty='l1', random_state=None,\n",
       "           refit=True, scoring=None, solver='liblinear', tol=0.0001,\n",
       "   ...tan',\n",
       "           metric_params=None, n_jobs=1, n_neighbors=11, p=2,\n",
       "           weights='distance'))],\n",
       "         flatten_transform=None, n_jobs=1, voting='soft', weights=None)"
      ]
     },
     "execution_count": 29,
     "metadata": {},
     "output_type": "execute_result"
    }
   ],
   "source": [
    "voting_clf=VotingClassifier(\n",
    "    estimators=[('lr',log_clf_l1_hyper), ('rf',rnd_clf_hyper), ('knn', neigh_clf_hyper)],\n",
    "    voting='soft')\n",
    "voting_clf.fit(features_trn, targets_trn)"
   ]
  },
  {
   "cell_type": "code",
   "execution_count": 30,
   "metadata": {},
   "outputs": [
    {
     "name": "stdout",
     "output_type": "stream",
     "text": [
      "LogisticRegressionCV 0.748\n",
      "RandomForestClassifier 0.726\n",
      "KNeighborsClassifier 0.705\n",
      "VotingClassifier 0.723\n"
     ]
    }
   ],
   "source": [
    "for clf in (log_clf_l1_hyper,rnd_clf_hyper,neigh_clf_hyper,voting_clf):\n",
    "    clf.fit(features_trn,targets_trn)\n",
    "    y_pred=clf.predict(features_tst)\n",
    "    print(clf.__class__.__name__,accuracy_score(targets_tst,y_pred))"
   ]
  },
  {
   "cell_type": "code",
   "execution_count": 31,
   "metadata": {},
   "outputs": [
    {
     "data": {
      "text/plain": [
       "VotingClassifier(estimators=[('lr', LogisticRegressionCV(Cs=10, class_weight=None, cv=None, dual=False,\n",
       "           fit_intercept=True, intercept_scaling=1.0, max_iter=100,\n",
       "           multi_class='ovr', n_jobs=1, penalty='l1', random_state=None,\n",
       "           refit=True, scoring=None, solver='liblinear', tol=0.0001,\n",
       "   ...,\n",
       "  max_iter=-1, probability=False, random_state=None, shrinking=True,\n",
       "  tol=0.001, verbose=False))],\n",
       "         flatten_transform=None, n_jobs=1, voting='hard', weights=None)"
      ]
     },
     "execution_count": 31,
     "metadata": {},
     "output_type": "execute_result"
    }
   ],
   "source": [
    "voting_clf=VotingClassifier(\n",
    "    estimators=[('lr',log_clf_l1_hyper), ('svc', svm_clf_hyper)],\n",
    "    voting='hard')\n",
    "voting_clf.fit(features_trn, targets_trn)"
   ]
  },
  {
   "cell_type": "code",
   "execution_count": 32,
   "metadata": {},
   "outputs": [
    {
     "name": "stdout",
     "output_type": "stream",
     "text": [
      "LogisticRegression 0.746\n",
      "SVC 0.733\n",
      "VotingClassifier 0.748\n"
     ]
    }
   ],
   "source": [
    "for clf in (log_clf_l1,svm_clf_hyper,voting_clf):\n",
    "    clf.fit(features_trn,targets_trn)\n",
    "    y_pred=clf.predict(features_tst)\n",
    "    print(clf.__class__.__name__,accuracy_score(targets_tst,y_pred))"
   ]
  },
  {
   "cell_type": "code",
   "execution_count": 33,
   "metadata": {},
   "outputs": [
    {
     "name": "stdout",
     "output_type": "stream",
     "text": [
      "accu_tst_LR_AGE_ONLY 0.721\n"
     ]
    }
   ],
   "source": [
    "age_log_clf = LogisticRegression( max_iter=200, penalty='l1')\n",
    "age_log_clf.fit(features_trn.T[2].T.reshape(-1,1), targets_trn)\n",
    "preds_tst = age_log_clf.predict(features_tst.T[2].T.reshape(-1,1))\n",
    "accu = np.mean(preds_tst==targets_tst)\n",
    "print('accu_tst_LR_AGE_ONLY', accu)"
   ]
  },
  {
   "cell_type": "markdown",
   "metadata": {},
   "source": [
    "## Models w/ l1-transformed features"
   ]
  },
  {
   "cell_type": "code",
   "execution_count": 20,
   "metadata": {},
   "outputs": [
    {
     "name": "stdout",
     "output_type": "stream",
     "text": [
      "accu_tst_RFC_l1select 0.727\n",
      "accu_tst_SVC_l1select 0.716\n"
     ]
    },
    {
     "name": "stderr",
     "output_type": "stream",
     "text": [
      "/anaconda3/lib/python3.6/site-packages/sklearn/linear_model/sag.py:326: ConvergenceWarning: The max_iter was reached which means the coef_ did not converge\n",
      "  \"the coef_ did not converge\", ConvergenceWarning)\n"
     ]
    },
    {
     "name": "stdout",
     "output_type": "stream",
     "text": [
      "[[ -6.59512116e-01   1.50364426e+00  -2.91196562e-02  -2.76271942e-01\n",
      "    2.31795314e-01  -4.17773910e-01  -9.59587224e-01  -5.85337142e-02\n",
      "   -3.77812319e-02   3.51879172e-02  -6.16887475e-01  -4.21535961e-01\n",
      "   -1.48583815e-01   8.20491682e-02   1.62933888e-03   4.81004657e-01\n",
      "    6.24577227e-01  -2.23711481e-02  -9.43473450e-02   3.67576441e-02\n",
      "    4.41830337e-01  -3.52176835e-01   4.51912751e-02  -1.73125309e-02\n",
      "   -1.14427889e-02  -3.65171769e-02  -2.90488344e-02   1.87814294e-02\n",
      "   -3.66175249e-02   8.89910202e-02  -5.11706089e-02   1.08979035e-02\n",
      "   -1.61422394e-02   1.05742609e-01  -3.93289168e-01  -2.70397863e-01\n",
      "   -2.53263224e-01  -4.19799693e-01   1.99299418e-01  -2.24957890e-01\n",
      "    8.87381006e-02  -5.60237074e-02   2.87359410e-01  -1.94777030e-01\n",
      "    1.91360643e-01   5.07811092e-02  -9.31034699e-03  -2.82001079e-02\n",
      "   -2.27016235e-02   2.08480065e-01   4.16069085e-01   8.06842190e-01\n",
      "   -3.26116158e-01   6.48780401e-02  -4.58745735e-02   8.77147187e-02\n",
      "   -5.51119392e-01   2.09181304e-01   2.87990400e-01   5.80673150e-01\n",
      "    5.12915356e-01   5.11446073e-02  -8.70377089e-02  -1.47335194e-01\n",
      "    2.32412351e-03  -1.86799735e-03  -1.09958679e-03  -3.55580627e-02\n",
      "   -1.00684111e-01   0.00000000e+00  -1.14494486e-01  -2.81218201e-01\n",
      "   -5.01497462e-01   2.35831886e-01   1.97131784e-01   7.57979291e-01\n",
      "   -1.75372959e-01  -1.26461084e-01   9.55690784e-02  -2.15315808e-01\n",
      "   -1.19528076e-01]]\n",
      "accu_tst_LR_l1_l1select 0.746\n",
      "accu_tst_LR_elastic_l1select 0.742\n",
      "accu_tst_LR_l2_l1select 0.745\n",
      "accu_tst_knn_l1select 0.64\n",
      "accu_tst_adaboost_l1select 0.735\n"
     ]
    }
   ],
   "source": [
    "rnd_clf_l1select = RandomForestClassifier(n_estimators=100,n_jobs=-1)\n",
    "rnd_clf_l1select.fit(features_trn_l1, targets_trn)\n",
    "preds_tst = rnd_clf_l1select.predict(features_tst_l1)\n",
    "accu = np.mean(preds_tst==targets_tst)\n",
    "#print(rnd_clf.feature_importances_)\n",
    "print('accu_tst_RFC_l1select', accu)\n",
    "\n",
    "svm_clf_l1select = SVC(gamma='auto')\n",
    "svm_clf_l1select.fit(features_trn_l1, targets_trn)\n",
    "preds_tst = svm_clf_l1select.predict(features_tst_l1)\n",
    "accu = np.mean(preds_tst==targets_tst)\n",
    "print('accu_tst_SVC_l1select', accu)\n",
    "\n",
    "log_clf_l1_l1select = LogisticRegression(max_iter=200, penalty='l1',solver='saga')\n",
    "log_clf_l1_l1select.fit(features_trn_l1,targets_trn)\n",
    "preds_tst = log_clf_l1_l1select.predict(features_tst_l1)\n",
    "accu = np.mean(preds_tst==targets_tst)\n",
    "print(log_clf_l1_l1select.coef_)\n",
    "print('accu_tst_LR_l1_l1select', accu)\n",
    "\n",
    "log_clf_elastic_l1select = LogisticRegression(max_iter=200, penalty='elasticnet',solver='saga')\n",
    "log_clf_elastic_l1select.fit(features_trn_l1, targets_trn)\n",
    "preds_tst = log_clf_elastic_l1select.predict(features_tst_l1)\n",
    "accu = np.mean(preds_tst==targets_tst)\n",
    "print('accu_tst_LR_elastic_l1select', accu)\n",
    "\n",
    "log_clf_l2_l1select = LogisticRegression(max_iter=200, penalty='l2',solver='sag')\n",
    "log_clf_l2_l1select.fit(features_trn_l1, targets_trn)\n",
    "preds_tst = log_clf_l2_l1select.predict(features_tst_l1)\n",
    "accu = np.mean(preds_tst==targets_tst)\n",
    "print('accu_tst_LR_l2_l1select', accu)\n",
    "\n",
    "neigh_clf_l1select = KNeighborsClassifier(n_neighbors=3)\n",
    "neigh_clf_l1select.fit(features_trn_l1, targets_trn) \n",
    "preds_tst = neigh_clf_l1select.predict(features_tst_l1)\n",
    "accu = np.mean(preds_tst==targets_tst)\n",
    "print('accu_tst_knn_l1select', accu)\n",
    "\n",
    "adaboost_clf_l1select = AdaBoostClassifier(base_estimator=LogisticRegression(),n_estimators=100)\n",
    "adaboost_clf_l1select.fit(features_trn_l1, targets_trn)\n",
    "preds_tst = adaboost_clf_l1select.predict(features_tst_l1)\n",
    "accu = np.mean(preds_tst==targets_tst)\n",
    "print('accu_tst_adaboost_l1select', accu)"
   ]
  },
  {
   "cell_type": "code",
   "execution_count": 21,
   "metadata": {},
   "outputs": [
    {
     "name": "stdout",
     "output_type": "stream",
     "text": [
      "accu_tst_LR_l1_l1select_hyper 0.742\n"
     ]
    },
    {
     "name": "stderr",
     "output_type": "stream",
     "text": [
      "/anaconda3/lib/python3.6/site-packages/sklearn/linear_model/sag.py:326: ConvergenceWarning: The max_iter was reached which means the coef_ did not converge\n",
      "  \"the coef_ did not converge\", ConvergenceWarning)\n"
     ]
    },
    {
     "name": "stdout",
     "output_type": "stream",
     "text": [
      "accu_tst_LR_elastic_l1select_hyper 0.746\n",
      "accu_tst_LR_l2_l1select_hyper 0.746\n"
     ]
    }
   ],
   "source": [
    "# Models w/ hyperparameter tuning\n",
    "\n",
    "log_clf_l1_l1select_hyper = LogisticRegressionCV(penalty='l1',solver='liblinear')\n",
    "log_clf_l1_l1select_hyper.fit(features_trn_l1, targets_trn)\n",
    "preds_tst = log_clf_l1_l1select_hyper.predict(features_tst_l1)\n",
    "accu = np.mean(preds_tst==targets_tst)\n",
    "#print(log_clf_l1.coef_)\n",
    "print('accu_tst_LR_l1_l1select_hyper', accu)\n",
    "\n",
    "log_clf_elastic_l1select_hyper = LogisticRegressionCV(penalty='elasticnet',solver='saga')\n",
    "log_clf_elastic_l1select_hyper.fit(features_trn_l1, targets_trn)\n",
    "preds_tst = log_clf_elastic_l1select_hyper.predict(features_tst_l1)\n",
    "accu = np.mean(preds_tst==targets_tst)\n",
    "print('accu_tst_LR_elastic_l1select_hyper', accu)\n",
    "\n",
    "log_clf_l2_l1select_hyper = LogisticRegressionCV(penalty='l2',solver='sag')\n",
    "log_clf_l2_l1select_hyper.fit(features_trn_l1, targets_trn)\n",
    "preds_tst = log_clf_l2_l1select_hyper.predict(features_tst_l1)\n",
    "accu = np.mean(preds_tst==targets_tst)\n",
    "print('accu_tst_LR_l2_l1select_hyper', accu)"
   ]
  },
  {
   "cell_type": "code",
   "execution_count": 96,
   "metadata": {
    "collapsed": true
   },
   "outputs": [],
   "source": [
    "l1_nonzero_coefs=np.where(log_clf_l1.coef_[0]!=0)\n",
    "l1_nonzero_coefs=l1_nonzero_coefs[0].tolist()\n",
    "\n",
    "ds.feat_names_list=ds.feat_names.tolist()\n",
    "ds.feat_names_l1select=[ds.feat_names_list[i] for i in l1_nonzero_coefs]\n",
    "\n",
    "LR_elastic_l1select_hyper_df = pd.DataFrame(log_clf_elastic_l1select_hyper.coef_)\n",
    "LR_elastic_l1select_hyper_df=LR_elastic_l1select_hyper_df.T\n",
    "LR_elastic_l1select_hyper_df['features']=ds.feat_names_l1select\n",
    "LR_elastic_l1select_hyper_df.to_csv(\"/Users/teianoel/Desktop/CS_205/LR_elastic_hyper_l1select_df.csv\")"
   ]
  },
  {
   "cell_type": "code",
   "execution_count": 97,
   "metadata": {
    "collapsed": true
   },
   "outputs": [],
   "source": [
    "LR_l2_l1select_hyper_df = pd.DataFrame(log_clf_l2_l1select_hyper.coef_)\n",
    "LR_l2_l1select_hyper_df=LR_l2_l1select_hyper_df.T\n",
    "LR_l2_l1select_hyper_df['features']=ds.feat_names_l1select\n",
    "LR_l2_l1select_hyper_df.to_csv(\"/Users/teianoel/Desktop/CS_205/LR_l2_hyper_l1select_df.csv\")"
   ]
  },
  {
   "cell_type": "code",
   "execution_count": 36,
   "metadata": {},
   "outputs": [
    {
     "data": {
      "text/plain": [
       "{'max_leaf_nodes': 100, 'n_estimators': 200}"
      ]
     },
     "execution_count": 36,
     "metadata": {},
     "output_type": "execute_result"
    }
   ],
   "source": [
    "clf = RandomForestClassifier(n_jobs = -1)\n",
    "\n",
    "#Setup parameter values to search through\n",
    "#uses cross validation to select best params\n",
    "param_grid = [\n",
    "    {'n_estimators' : [50,100,200], 'max_leaf_nodes':[10,50,100]},\n",
    "    ]\n",
    "grid_search = GridSearchCV(clf, param_grid,cv=5)\n",
    "grid_search.fit(features_trn_l1, targets_trn)\n",
    "\n",
    "grid_search.best_params_"
   ]
  },
  {
   "cell_type": "code",
   "execution_count": 37,
   "metadata": {},
   "outputs": [
    {
     "name": "stdout",
     "output_type": "stream",
     "text": [
      "accu_tst_RFC_l1select_hyper 0.727\n"
     ]
    }
   ],
   "source": [
    "rnd_clf_l1select_hyper = RandomForestClassifier(n_estimators = 200, max_leaf_nodes = 100,n_jobs=-1)\n",
    "rnd_clf_l1select_hyper.fit(features_trn_l1, targets_trn)\n",
    "\n",
    "preds_tst = rnd_clf_l1select_hyper.predict(features_tst_l1)\n",
    "accu = np.mean(preds_tst==targets_tst)\n",
    "#print(rnd_clf.feature_importances_)\n",
    "print('accu_tst_RFC_l1select_hyper', accu)"
   ]
  },
  {
   "cell_type": "code",
   "execution_count": 38,
   "metadata": {},
   "outputs": [
    {
     "data": {
      "text/plain": [
       "{'metric': 'manhattan', 'n_neighbors': 11, 'weights': 'uniform'}"
      ]
     },
     "execution_count": 38,
     "metadata": {},
     "output_type": "execute_result"
    }
   ],
   "source": [
    "np.random.seed(100)\n",
    "clf = KNeighborsClassifier(n_jobs = -1)\n",
    "\n",
    "#Setup parameter values to search through\n",
    "#uses cross validation to select best params\n",
    "param_grid = [\n",
    "    {'n_neighbors' : [3,5,11], 'metric':['euclidean','manhattan'], 'weights':['uniform','distance']},\n",
    "    ]\n",
    "grid_search = GridSearchCV(clf, param_grid,cv=5)\n",
    "grid_search.fit(features_trn_l1, targets_trn)\n",
    "\n",
    "grid_search.best_params_"
   ]
  },
  {
   "cell_type": "code",
   "execution_count": 39,
   "metadata": {},
   "outputs": [
    {
     "name": "stdout",
     "output_type": "stream",
     "text": [
      "accu_tst_KNN_l1select_hyper 0.709\n"
     ]
    }
   ],
   "source": [
    "neigh_clf_l1select_hyper = KNeighborsClassifier(n_neighbors=11,metric='manhattan',weights='uniform')\n",
    "neigh_clf_l1select_hyper.fit(features_trn_l1,targets_trn)\n",
    "\n",
    "preds_tst = neigh_clf_l1select_hyper.predict(features_tst_l1)\n",
    "accu = np.mean(preds_tst==targets_tst)\n",
    "print('accu_tst_KNN_l1select_hyper', accu)"
   ]
  },
  {
   "cell_type": "code",
   "execution_count": 40,
   "metadata": {},
   "outputs": [
    {
     "data": {
      "text/plain": [
       "{'n_estimators': 100}"
      ]
     },
     "execution_count": 40,
     "metadata": {},
     "output_type": "execute_result"
    }
   ],
   "source": [
    "np.random.seed(100)\n",
    "clf = AdaBoostClassifier(base_estimator=LogisticRegression())\n",
    "\n",
    "#Setup parameter values to search through\n",
    "#uses cross validation to select best params\n",
    "param_grid = [\n",
    "    {'n_estimators' : [50,100,1000]},\n",
    "    ]\n",
    "grid_search = GridSearchCV(clf, param_grid,cv=5)\n",
    "grid_search.fit(features_trn_l1, targets_trn)\n",
    "\n",
    "grid_search.best_params_"
   ]
  },
  {
   "cell_type": "code",
   "execution_count": 41,
   "metadata": {},
   "outputs": [
    {
     "name": "stdout",
     "output_type": "stream",
     "text": [
      "accu_tst_adaboost_l1select_hyper 0.74\n"
     ]
    }
   ],
   "source": [
    "adaboost_clf_l1select_hyper = AdaBoostClassifier(base_estimator=LogisticRegression(),n_estimators=100)\n",
    "adaboost_clf_l1select_hyper.fit(features_trn_l1,targets_trn)\n",
    "\n",
    "preds_tst = adaboost_clf_l1select_hyper.predict(features_tst_l1)\n",
    "accu = np.mean(preds_tst==targets_tst)\n",
    "print('accu_tst_adaboost_l1select_hyper', accu)"
   ]
  },
  {
   "cell_type": "code",
   "execution_count": 42,
   "metadata": {},
   "outputs": [
    {
     "data": {
      "text/plain": [
       "{'gamma': 1, 'kernel': 'linear'}"
      ]
     },
     "execution_count": 42,
     "metadata": {},
     "output_type": "execute_result"
    }
   ],
   "source": [
    "np.random.seed(100)\n",
    "clf = SVC()\n",
    "\n",
    "#Setup parameter values to search through\n",
    "#uses cross validation to select best params\n",
    "param_grid = [\n",
    "    {'gamma':[1,0.1,0.001], 'kernel':['linear','rbf']},\n",
    "    ]\n",
    "grid_search = GridSearchCV(clf, param_grid,cv=5)\n",
    "grid_search.fit(features_trn_l1, targets_trn)\n",
    "\n",
    "grid_search.best_params_"
   ]
  },
  {
   "cell_type": "code",
   "execution_count": 43,
   "metadata": {},
   "outputs": [
    {
     "name": "stdout",
     "output_type": "stream",
     "text": [
      "accu_tst_SVC_l1select_hyper 0.734\n"
     ]
    }
   ],
   "source": [
    "svm_clf_l1select_hyper = SVC(gamma=1,kernel='linear')\n",
    "svm_clf_l1select_hyper.fit(features_trn_l1,targets_trn)\n",
    "\n",
    "preds_tst = svm_clf_l1select_hyper.predict(features_tst_l1)\n",
    "accu = np.mean(preds_tst==targets_tst)\n",
    "print('accu_tst_SVC_l1select_hyper', accu)"
   ]
  },
  {
   "cell_type": "code",
   "execution_count": 98,
   "metadata": {
    "collapsed": true
   },
   "outputs": [],
   "source": [
    "SVC_l1select_hyper_df = pd.DataFrame(log_clf_l2_l1select_hyper.coef_)\n",
    "SVC_l1select_hyper_df=SVC_l1select_hyper_df.T\n",
    "SVC_l1select_hyper_df['features']=ds.feat_names_l1select\n",
    "SVC_l1select_hyper_df.to_csv(\"/Users/teianoel/Desktop/CS_205/SVC_hyper_l1select_df.csv\")"
   ]
  },
  {
   "cell_type": "code",
   "execution_count": 44,
   "metadata": {},
   "outputs": [
    {
     "name": "stderr",
     "output_type": "stream",
     "text": [
      "/anaconda3/lib/python3.6/site-packages/sklearn/linear_model/sag.py:326: ConvergenceWarning: The max_iter was reached which means the coef_ did not converge\n",
      "  \"the coef_ did not converge\", ConvergenceWarning)\n"
     ]
    },
    {
     "data": {
      "text/plain": [
       "VotingClassifier(estimators=[('lr', LogisticRegressionCV(Cs=10, class_weight=None, cv=None, dual=False,\n",
       "           fit_intercept=True, intercept_scaling=1.0, max_iter=100,\n",
       "           multi_class='ovr', n_jobs=1, penalty='l2', random_state=None,\n",
       "           refit=True, scoring=None, solver='sag', tol=0.0001, verbose=0...ttan',\n",
       "           metric_params=None, n_jobs=1, n_neighbors=11, p=2,\n",
       "           weights='uniform'))],\n",
       "         flatten_transform=None, n_jobs=1, voting='hard', weights=None)"
      ]
     },
     "execution_count": 44,
     "metadata": {},
     "output_type": "execute_result"
    }
   ],
   "source": [
    "voting_clf=VotingClassifier(\n",
    "    estimators=[('lr',log_clf_l2_l1select_hyper), ('rf',rnd_clf_l1select), ('svc', svm_clf_l1select_hyper), ('knn', neigh_clf_l1select_hyper)],\n",
    "    voting='hard')\n",
    "voting_clf.fit(features_trn_l1, targets_trn)"
   ]
  },
  {
   "cell_type": "code",
   "execution_count": 45,
   "metadata": {},
   "outputs": [
    {
     "name": "stderr",
     "output_type": "stream",
     "text": [
      "/anaconda3/lib/python3.6/site-packages/sklearn/linear_model/sag.py:326: ConvergenceWarning: The max_iter was reached which means the coef_ did not converge\n",
      "  \"the coef_ did not converge\", ConvergenceWarning)\n"
     ]
    },
    {
     "name": "stdout",
     "output_type": "stream",
     "text": [
      "LogisticRegressionCV 0.75\n",
      "RandomForestClassifier 0.728\n",
      "SVC 0.734\n",
      "KNeighborsClassifier 0.709\n"
     ]
    },
    {
     "name": "stderr",
     "output_type": "stream",
     "text": [
      "/anaconda3/lib/python3.6/site-packages/sklearn/linear_model/sag.py:326: ConvergenceWarning: The max_iter was reached which means the coef_ did not converge\n",
      "  \"the coef_ did not converge\", ConvergenceWarning)\n"
     ]
    },
    {
     "name": "stdout",
     "output_type": "stream",
     "text": [
      "VotingClassifier 0.74\n"
     ]
    }
   ],
   "source": [
    "for clf in (log_clf_l2_l1select_hyper,rnd_clf_l1select,svm_clf_l1select_hyper,neigh_clf_l1select_hyper,voting_clf):\n",
    "    clf.fit(features_trn_l1,targets_trn)\n",
    "    y_pred=clf.predict(features_tst_l1)\n",
    "    print(clf.__class__.__name__,accuracy_score(targets_tst,y_pred))"
   ]
  },
  {
   "cell_type": "markdown",
   "metadata": {},
   "source": [
    "## Models with tree-transformed features "
   ]
  },
  {
   "cell_type": "code",
   "execution_count": 22,
   "metadata": {
    "scrolled": true
   },
   "outputs": [
    {
     "name": "stdout",
     "output_type": "stream",
     "text": [
      "accu_tst_RFC_treeselect 0.719\n",
      "accu_tst_SVC_treeselect 0.722\n",
      "accu_tst_LR_treeselect 0.739\n"
     ]
    },
    {
     "name": "stderr",
     "output_type": "stream",
     "text": [
      "/anaconda3/lib/python3.6/site-packages/sklearn/linear_model/sag.py:326: ConvergenceWarning: The max_iter was reached which means the coef_ did not converge\n",
      "  \"the coef_ did not converge\", ConvergenceWarning)\n"
     ]
    },
    {
     "name": "stdout",
     "output_type": "stream",
     "text": [
      "accu_tst_LR_elastic_l1select 0.739\n",
      "accu_tst_LR_l2_l1select 0.739\n",
      "accu_tst_knn_treeselect 0.649\n",
      "accu_tst_adaboost_treeselect 0.737\n"
     ]
    }
   ],
   "source": [
    "rnd_clf_treeselect = RandomForestClassifier(n_estimators=100,n_jobs=-1)\n",
    "rnd_clf_treeselect.fit(features_trn_tree2, targets_trn)\n",
    "preds_tst = rnd_clf_treeselect.predict(features_tst_tree2)\n",
    "accu = np.mean(preds_tst==targets_tst)\n",
    "#print(rnd_clf.feature_importances_)\n",
    "print('accu_tst_RFC_treeselect', accu)\n",
    "\n",
    "svm_clf_treeselect = SVC(gamma='auto')\n",
    "svm_clf_treeselect.fit(features_trn_tree2, targets_trn)\n",
    "preds_tst = svm_clf_treeselect.predict(features_tst_tree2)\n",
    "accu = np.mean(preds_tst==targets_tst)\n",
    "print('accu_tst_SVC_treeselect', accu)\n",
    "\n",
    "log_clf_l1_treeselect = LogisticRegression(max_iter=200, penalty='l1',solver='liblinear')\n",
    "log_clf_l1_treeselect.fit(features_trn_tree2,targets_trn)\n",
    "preds_tst = log_clf_l1_treeselect.predict(features_tst_tree2)\n",
    "accu = np.mean(preds_tst==targets_tst)\n",
    "print('accu_tst_LR_treeselect', accu)\n",
    "\n",
    "log_clf_elastic_treeselect = LogisticRegression(max_iter=200, penalty='elasticnet',solver='saga')\n",
    "log_clf_elastic_treeselect.fit(features_trn_tree2, targets_trn)\n",
    "preds_tst = log_clf_elastic_treeselect.predict(features_tst_tree2)\n",
    "accu = np.mean(preds_tst==targets_tst)\n",
    "print('accu_tst_LR_elastic_l1select', accu)\n",
    "\n",
    "log_clf_l2_treeselect = LogisticRegression(max_iter=200, penalty='l2',solver='sag')\n",
    "log_clf_l2_treeselect.fit(features_trn_tree2, targets_trn)\n",
    "preds_tst = log_clf_l2_treeselect.predict(features_tst_tree2)\n",
    "accu = np.mean(preds_tst==targets_tst)\n",
    "print('accu_tst_LR_l2_l1select', accu)\n",
    "\n",
    "neigh_clf_treeselect = KNeighborsClassifier(n_neighbors=3)\n",
    "neigh_clf_treeselect.fit(features_trn_tree2, targets_trn) \n",
    "preds_tst = neigh_clf_treeselect.predict(features_tst_tree2)\n",
    "accu = np.mean(preds_tst==targets_tst)\n",
    "print('accu_tst_knn_treeselect', accu)\n",
    "\n",
    "adaboost_clf_treeselect = AdaBoostClassifier(base_estimator=LogisticRegression(),n_estimators=100)\n",
    "adaboost_clf_treeselect.fit(features_trn_tree2, targets_trn)\n",
    "preds_tst = adaboost_clf_treeselect.predict(features_tst_tree2)\n",
    "accu = np.mean(preds_tst==targets_tst)\n",
    "print('accu_tst_adaboost_treeselect', accu)"
   ]
  },
  {
   "cell_type": "code",
   "execution_count": 23,
   "metadata": {},
   "outputs": [
    {
     "name": "stdout",
     "output_type": "stream",
     "text": [
      "accu_tst_LR_l1_treeselect_hyper 0.736\n"
     ]
    },
    {
     "name": "stderr",
     "output_type": "stream",
     "text": [
      "/anaconda3/lib/python3.6/site-packages/sklearn/linear_model/sag.py:326: ConvergenceWarning: The max_iter was reached which means the coef_ did not converge\n",
      "  \"the coef_ did not converge\", ConvergenceWarning)\n"
     ]
    },
    {
     "name": "stdout",
     "output_type": "stream",
     "text": [
      "accu_tst_LR_elastic_treeselect_hyper 0.738\n",
      "accu_tst_LR_l2_treeselect_hyper 0.739\n"
     ]
    }
   ],
   "source": [
    "# Models w/ hyperparameter tuning\n",
    "log_clf_l1_treeselect_hyper = LogisticRegressionCV(penalty='l1',solver='liblinear')\n",
    "log_clf_l1_treeselect_hyper.fit(features_trn_tree2, targets_trn)\n",
    "preds_tst = log_clf_l1_treeselect_hyper.predict(features_tst_tree2)\n",
    "accu = np.mean(preds_tst==targets_tst)\n",
    "#print(log_clf_l1.coef_)\n",
    "print('accu_tst_LR_l1_treeselect_hyper', accu)\n",
    "\n",
    "log_clf_elastic_treeselect_hyper = LogisticRegressionCV(penalty='elasticnet',solver='saga')\n",
    "log_clf_elastic_treeselect_hyper.fit(features_trn_tree2, targets_trn)\n",
    "preds_tst = log_clf_elastic_treeselect_hyper.predict(features_tst_tree2)\n",
    "accu = np.mean(preds_tst==targets_tst)\n",
    "print('accu_tst_LR_elastic_treeselect_hyper', accu)\n",
    "\n",
    "log_clf_l2_treeselect_hyper = LogisticRegressionCV(penalty='l2',solver='sag')\n",
    "log_clf_l2_treeselect_hyper.fit(features_trn_tree2, targets_trn)\n",
    "preds_tst = log_clf_l2_treeselect_hyper.predict(features_tst_tree2)\n",
    "accu = np.mean(preds_tst==targets_tst)\n",
    "print('accu_tst_LR_l2_treeselect_hyper', accu)"
   ]
  },
  {
   "cell_type": "code",
   "execution_count": 74,
   "metadata": {
    "collapsed": true
   },
   "outputs": [],
   "source": [
    "tree_nonzero_importances=np.where(rnd_clf.feature_importances_>1.39763273e-02)\n",
    "tree_nonzero_importances=tree_nonzero_importances[0].tolist()\n",
    "\n",
    "ds.feat_names_list=ds.feat_names.tolist()\n",
    "ds.feat_names_treeselect=[ds.feat_names_list[i] for i in tree_nonzero_importances]\n",
    "len(ds.feat_names_treeselect)\n",
    "\n",
    "LR_l1_treeselect_hyper_df = pd.DataFrame(log_clf_l1_treeselect_hyper.coef_)\n",
    "LR_l1_treeselect_hyper_df=LR_l1_treeselect_hyper_df.T\n",
    "LR_l1_treeselect_hyper_df['features']=ds.feat_names_treeselect\n",
    "LR_l1_treeselect_hyper_df.to_csv(\"/Users/teianoel/Desktop/CS_205/LR_l1_hyper_treeselect_df.csv\")"
   ]
  },
  {
   "cell_type": "code",
   "execution_count": 75,
   "metadata": {},
   "outputs": [
    {
     "data": {
      "text/plain": [
       "{'max_leaf_nodes': 100, 'n_estimators': 50}"
      ]
     },
     "execution_count": 75,
     "metadata": {},
     "output_type": "execute_result"
    }
   ],
   "source": [
    "clf = RandomForestClassifier(n_jobs = -1)\n",
    "\n",
    "#Setup parameter values to search through\n",
    "#uses cross validation to select best params\n",
    "param_grid = [\n",
    "    {'n_estimators' : [50,100,200], 'max_leaf_nodes':[10,50,100]},\n",
    "    ]\n",
    "grid_search = GridSearchCV(clf, param_grid,cv=5)\n",
    "grid_search.fit(features_trn_tree2, targets_trn)\n",
    "\n",
    "grid_search.best_params_"
   ]
  },
  {
   "cell_type": "code",
   "execution_count": 76,
   "metadata": {},
   "outputs": [
    {
     "name": "stdout",
     "output_type": "stream",
     "text": [
      "accu_tst_RFC_treeselect_hyper 0.719\n"
     ]
    }
   ],
   "source": [
    "rnd_clf_treeselect_hyper = RandomForestClassifier(n_estimators = 50, max_leaf_nodes = 100,n_jobs=-1)\n",
    "rnd_clf_treeselect_hyper.fit(features_trn_tree2, targets_trn)\n",
    "\n",
    "preds_tst = rnd_clf_treeselect_hyper.predict(features_tst_tree2)\n",
    "accu = np.mean(preds_tst==targets_tst)\n",
    "#print(rnd_clf.feature_importances_)\n",
    "print('accu_tst_RFC_treeselect_hyper', accu)"
   ]
  },
  {
   "cell_type": "code",
   "execution_count": 77,
   "metadata": {},
   "outputs": [
    {
     "data": {
      "text/plain": [
       "{'metric': 'manhattan', 'n_neighbors': 11, 'weights': 'uniform'}"
      ]
     },
     "execution_count": 77,
     "metadata": {},
     "output_type": "execute_result"
    }
   ],
   "source": [
    "np.random.seed(100)\n",
    "clf = KNeighborsClassifier(n_jobs = -1)\n",
    "\n",
    "#Setup parameter values to search through\n",
    "#uses cross validation to select best params\n",
    "param_grid = [\n",
    "    {'n_neighbors' : [3,5,11], 'metric':['euclidean','manhattan'], 'weights':['uniform','distance']},\n",
    "    ]\n",
    "grid_search = GridSearchCV(clf, param_grid,cv=5)\n",
    "grid_search.fit(features_trn_tree2, targets_trn)\n",
    "\n",
    "grid_search.best_params_"
   ]
  },
  {
   "cell_type": "code",
   "execution_count": 78,
   "metadata": {},
   "outputs": [
    {
     "name": "stdout",
     "output_type": "stream",
     "text": [
      "accu_tst_KNN_treeselect_hyper 0.69\n"
     ]
    }
   ],
   "source": [
    "neigh_clf_treeselect_hyper = KNeighborsClassifier(n_neighbors=11,metric='manhattan',weights='uniform')\n",
    "neigh_clf_treeselect_hyper.fit(features_trn_tree2,targets_trn)\n",
    "\n",
    "preds_tst = neigh_clf_treeselect_hyper.predict(features_tst_tree2)\n",
    "accu = np.mean(preds_tst==targets_tst)\n",
    "print('accu_tst_KNN_treeselect_hyper', accu)"
   ]
  },
  {
   "cell_type": "code",
   "execution_count": 79,
   "metadata": {},
   "outputs": [
    {
     "data": {
      "text/plain": [
       "{'gamma': 1, 'kernel': 'linear'}"
      ]
     },
     "execution_count": 79,
     "metadata": {},
     "output_type": "execute_result"
    }
   ],
   "source": [
    "np.random.seed(100)\n",
    "clf = SVC()\n",
    "\n",
    "#Setup parameter values to search through\n",
    "#uses cross validation to select best params\n",
    "param_grid = [\n",
    "    {'gamma':[1,0.1,0.001], 'kernel':['linear','rbf']},\n",
    "    ]\n",
    "grid_search = GridSearchCV(clf, param_grid,cv=5)\n",
    "grid_search.fit(features_trn_tree2, targets_trn)\n",
    "\n",
    "grid_search.best_params_"
   ]
  },
  {
   "cell_type": "code",
   "execution_count": 80,
   "metadata": {},
   "outputs": [
    {
     "name": "stdout",
     "output_type": "stream",
     "text": [
      "accu_tst_svm_treeselect_hyper 0.722\n"
     ]
    }
   ],
   "source": [
    "svm_clf_treeselect_hyper = SVC(gamma=1,kernel='linear')\n",
    "svm_clf_treeselect_hyper.fit(features_trn_tree2,targets_trn)\n",
    "\n",
    "preds_tst = svm_clf_treeselect_hyper.predict(features_tst_tree2)\n",
    "accu = np.mean(preds_tst==targets_tst)\n",
    "print('accu_tst_svm_treeselect_hyper', accu)"
   ]
  },
  {
   "cell_type": "code",
   "execution_count": 81,
   "metadata": {
    "collapsed": true
   },
   "outputs": [],
   "source": [
    "# SVC_treeselect_hyper_df = pd.DataFrame(svm_clf_treeselect_hyper.coef_)\n",
    "# SVC_treeselect_hyper_df=SVC_treeselect_hyper_df.T\n",
    "# SVC_treeselect_hyper_df['features']=ds.feat_names_treeselect\n",
    "# SVC_treeselect_hyper_df.to_csv(\"/Users/teianoel/Desktop/CS_205/SVC_hyper_treeselect_df.csv\")"
   ]
  },
  {
   "cell_type": "code",
   "execution_count": 82,
   "metadata": {},
   "outputs": [
    {
     "data": {
      "text/plain": [
       "{'n_estimators': 1000}"
      ]
     },
     "execution_count": 82,
     "metadata": {},
     "output_type": "execute_result"
    }
   ],
   "source": [
    "np.random.seed(100)\n",
    "clf = AdaBoostClassifier(base_estimator=LogisticRegression())\n",
    "\n",
    "#Setup parameter values to search through\n",
    "#uses cross validation to select best params\n",
    "param_grid = [\n",
    "    {'n_estimators' : [50,100,1000]},\n",
    "    ]\n",
    "grid_search = GridSearchCV(clf, param_grid,cv=5)\n",
    "grid_search.fit(features_trn_tree2, targets_trn)\n",
    "\n",
    "grid_search.best_params_"
   ]
  },
  {
   "cell_type": "code",
   "execution_count": 83,
   "metadata": {},
   "outputs": [
    {
     "name": "stdout",
     "output_type": "stream",
     "text": [
      "accu_tst_adaboost_treeselect_hyper 0.739\n"
     ]
    }
   ],
   "source": [
    "adaboost_clf_treeselect_hyper = AdaBoostClassifier(base_estimator=LogisticRegression(),n_estimators=1000)\n",
    "adaboost_clf_treeselect_hyper.fit(features_trn_tree2,targets_trn)\n",
    "\n",
    "preds_tst = adaboost_clf_treeselect_hyper.predict(features_tst_tree2)\n",
    "accu = np.mean(preds_tst==targets_tst)\n",
    "print('accu_tst_adaboost_treeselect_hyper', accu)"
   ]
  },
  {
   "cell_type": "code",
   "execution_count": 85,
   "metadata": {},
   "outputs": [
    {
     "data": {
      "text/plain": [
       "VotingClassifier(estimators=[('ad', AdaBoostClassifier(algorithm='SAMME.R',\n",
       "          base_estimator=LogisticRegression(C=1.0, class_weight=None, dual=False, fit_intercept=True,\n",
       "          intercept_scaling=1, max_iter=100, multi_class='ovr', n_jobs=1,\n",
       "          penalty='l2', random_state=None, solver='liblinear', to...ttan',\n",
       "           metric_params=None, n_jobs=1, n_neighbors=11, p=2,\n",
       "           weights='uniform'))],\n",
       "         flatten_transform=None, n_jobs=1, voting='hard', weights=None)"
      ]
     },
     "execution_count": 85,
     "metadata": {},
     "output_type": "execute_result"
    }
   ],
   "source": [
    "voting_clf=VotingClassifier(\n",
    "    estimators=[('ad',adaboost_clf_treeselect_hyper), ('rf',rnd_clf_treeselect_hyper), ('svc', svm_clf_treeselect_hyper), ('knn', neigh_clf_treeselect_hyper)],\n",
    "    voting='hard')\n",
    "voting_clf.fit(features_trn_tree2, targets_trn)"
   ]
  },
  {
   "cell_type": "code",
   "execution_count": 86,
   "metadata": {},
   "outputs": [
    {
     "name": "stdout",
     "output_type": "stream",
     "text": [
      "AdaBoostClassifier 0.739\n",
      "RandomForestClassifier 0.723\n",
      "SVC 0.722\n",
      "KNeighborsClassifier 0.69\n",
      "VotingClassifier 0.735\n"
     ]
    }
   ],
   "source": [
    "for clf in (adaboost_clf_treeselect_hyper,rnd_clf_treeselect_hyper,svm_clf_treeselect_hyper,neigh_clf_treeselect_hyper,voting_clf):\n",
    "    clf.fit(features_trn_tree2,targets_trn)\n",
    "    y_pred=clf.predict(features_tst_tree2)\n",
    "    print(clf.__class__.__name__,accuracy_score(targets_tst,y_pred))"
   ]
  },
  {
   "cell_type": "code",
   "execution_count": null,
   "metadata": {
    "collapsed": true
   },
   "outputs": [],
   "source": []
  }
 ],
 "metadata": {
  "kernelspec": {
   "display_name": "Python 3",
   "language": "python",
   "name": "python3"
  },
  "language_info": {
   "codemirror_mode": {
    "name": "ipython",
    "version": 3
   },
   "file_extension": ".py",
   "mimetype": "text/x-python",
   "name": "python",
   "nbconvert_exporter": "python",
   "pygments_lexer": "ipython3",
   "version": "3.6.7"
  }
 },
 "nbformat": 4,
 "nbformat_minor": 2
}
